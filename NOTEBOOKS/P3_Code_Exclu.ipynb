{
 "cells": [
  {
   "cell_type": "markdown",
   "metadata": {},
   "source": [
    "### 1.4 Dropping inoperable rows"
   ]
  },
  {
   "cell_type": "code",
   "execution_count": null,
   "metadata": {},
   "outputs": [],
   "source": [
    "# # Making list of columns with similar or complementary content\n",
    "# li_cat_carb = ['sugars_100g', 'starch_100g', 'polyols_100g',\n",
    "#             'fiber_100g', '-lactose_100g']\n",
    "# li_cat_fat = ['saturated-fat_100g', 'monounsaturated-fat_100g',\n",
    "#               'polyunsaturated-fat_100g', 'trans-fat_100g', 'cholesterol_100g']\n",
    "# li_cat_poly_fat = ['omega-3-fat_100g', 'omega-6-fat_100g']\n",
    "# \n",
    "# li_cat_vit_oligo = ['vitamin-e_100g', 'vitamin-k_100g',\n",
    "#                     'vitamin-c_100g', 'vitamin-b1_100g', 'vitamin-b2_100g',\n",
    "#                     'vitamin-pp_100g','vitamin-b6_100g', 'vitamin-b9_100g',\n",
    "#                     'folates_100g', 'vitamin-b12_100g', 'biotin_100g',\n",
    "#                     'pantothenic-acid_100g', 'bicarbonate_100g',\n",
    "#                     'potassium_100g', 'chloride_100g', 'calcium_100g',\n",
    "#                     'phosphorus_100g', 'iron_100g', 'magnesium_100g',\n",
    "#                     'zinc_100g', 'copper_100g', 'manganese_100g',\n",
    "#                     'selenium_100g', 'iodine_100g', 'cocoa_100g']\n",
    "# li_cat_nutri = ['nutrigrade', 'nova_group','nutriscore', 'nutriscore-fr']\n",
    "# li_cat_keys = ['code', 'url', 'creator',\n",
    "#                'created_datetime', 'last_modified_datetime', \n",
    "#                'product_name', 'generic_name', 'quantity', 'packaging',\n",
    "#                'brands','serving_size', 'serving_quantity']\n",
    "# li_cat_cat = ['categories', 'categories_en', 'labels', 'labels_en',\n",
    "#               'pnns_gp_1', 'pnns_gp_2', 'main_category',\n",
    "#               'main_category_en']\n",
    "# li_cat_geo = ['origins', 'manufacturing_places', 'emb_codes',\n",
    "#               'first_packaging_code_geo', 'cities_tags', 'purchase_places',\n",
    "#               'stores', 'countries', 'countries_en']\n",
    "# li_ca_content = ['ingredients_text', 'allergens', 'traces', 'traces_en',\n",
    "#                  'additives_n', 'additives_en', 'ingredients_from_palm_oil_n',\n",
    "#                  'ingredients_from_palm_oil_tags',\n",
    "#                  'ingredients_that_may_be_from_palm_oil_n',\n",
    "#                  'ingredients_that_may_be_from_palm_oil_tags']\n",
    "\n",
    "# # Checking if the columns are contained in the df.columns list\n",
    "# for li in [li_cat_carb, li_cat_fat, li_cat_poly_fat, li_cat_comp,\n",
    "#            li_cat_vit_oligo, li_cat_nutri, li_cat_keys, li_cat_cat,\n",
    "#            li_cat_geo, li_ca_content]:\n",
    "#   _ = np.array([True if c in df.columns else False for c in li])\n",
    "#   print(\"----------\\n\", li, \":\\n\", np.sum(_), '/' , len(_), '|', _)"
   ]
  },
  {
   "cell_type": "code",
   "execution_count": null,
   "metadata": {},
   "outputs": [],
   "source": [
    "my_fun = lambda x:sel_gr(x, li_u_vol, li_u_mass)\n",
    "li_best_num_unit = df_quantity['analyse'].apply(my_fun)\n",
    "\n",
    "df_quantity['num'] = [gr1 for gr1, gr2 in li_best_num_unit]\n",
    "df_quantity['unit'] = [gr2 for gr1, gr2 in li_best_num_unit]\n",
    "\n",
    "df_quantity['nb_groups'] = [len(gr[0]) for gr in df_quantity['analyse']]\n",
    "df_quantity['nb_char'] = [len(s) if s is not np.nan else 0 for s in df_quantity['quantity']]\n",
    "df_quantity['nb_char_unit'] = [len(s) if s is not np.nan else 0 for s in df_quantity['unit']]\n",
    "\n",
    "df_quantity['unit_bool'] = [(1 if n!=0 else 0) for n in df_quantity['nb_char_unit']]\n",
    "df_quantity['num_bool'] = [(1 if n!=0 else 0)for n in df_quantity['num']]"
   ]
  },
  {
   "cell_type": "code",
   "execution_count": null,
   "metadata": {},
   "outputs": [],
   "source": [
    "# Defining limits to facilitate clustering algorithm\n",
    "# despite outliers in 'num' values\n",
    "(num_min, num_max) = (0,10000) #(mean-2*std, mean+2*std) #(0,10000)\n",
    "# Creating a filtered version of df_quantity without outliers \n",
    "df_quantity_f = df_quantity[(df_quantity['num']<num_max)&\\\n",
    "                            (df_quantity['num']>num_min)]"
   ]
  },
  {
   "cell_type": "code",
   "execution_count": null,
   "metadata": {},
   "outputs": [],
   "source": [
    "# Statistics to assess dispersion of 'num_max' data\n",
    "(mean, std) = df_quantity['num'].mean(), df_quantity['num'].std()\n",
    "(median, q_01, q_99) = df_quantity['num'].median(),\\\n",
    "                       df_quantity['num'].quantile(0.01),\\\n",
    "                       df_quantity['num'].quantile(0.99)\n",
    "print(\"Nb rows in original df vs filtered df:\\n\",\n",
    "      (df_quantity.shape[0], df_quantity_f.shape[0]) )\n",
    "print(\"Mean and standard error of 'unit' column:\\n\", (mean, std))\n",
    "print(\"1st centile, median and 99h centile:\\n\", (q_01, median, q_99))"
   ]
  },
  {
   "cell_type": "code",
   "execution_count": null,
   "metadata": {},
   "outputs": [],
   "source": [
    "from sklearn.cluster import KMeans\n",
    "from sklearn.preprocessing import StandardScaler\n",
    "n_clust = 7\n",
    "X = df_quantity_f[['nb_groups',\t'nb_char', 'num',\t'nb_char_unit',\\\n",
    "                   'q_unit_type','num_bool',\t'unit_bool']]\n",
    "scaler = StandardScaler()\n",
    "X = scaler.fit_transform(X)\n",
    "kmeans = KMeans(n_clusters=n_clust, random_state=0).fit(X)\n",
    "df_quantity_f['cluster'] = kmeans.labels_"
   ]
  },
  {
   "cell_type": "code",
   "execution_count": null,
   "metadata": {},
   "outputs": [],
   "source": [
    "fig = plt.figure(figsize = (21, 6))\n",
    "grid = plt.GridSpec(1, 1, wspace=0.2, hspace=0.1)\n",
    "# grid = plt.GridSpec(1, 3, wspace=0.2, hspace=0.1)\n",
    "np.warnings.filterwarnings('ignore')\n",
    "\n",
    "mkr_dict = {'mass' : (1,'s'), 'volume' : (2,'o'), 'other' : (0,'*')}\n",
    "\n",
    "ax1 = plt.subplot(grid[0, 0:1])\n",
    "for mkr in mkr_dict:\n",
    "  mask = df_quantity_f['q_unit_type'] == mkr_dict[mkr][0]\n",
    "  log_num_max = 100*np.log(df_quantity_f[mask]['num'])\n",
    "  df_quantity_f[mask].plot(ax = ax1, kind = 'scatter',\n",
    "                           s = df_quantity_f[mask]['nb_char'],\n",
    "                           y='nb_groups',x='num', c='cluster',\n",
    "                           marker = mkr_dict[mkr][1], colormap='viridis',\n",
    "                           xlim = (0,3000), ylim = (0,20), logx = True,\n",
    "                           alpha=0.3, legend = False,) # figsize = (18,6))\n",
    "\n",
    "plt.show()"
   ]
  },
  {
   "cell_type": "code",
   "execution_count": null,
   "metadata": {},
   "outputs": [],
   "source": [
    "### Function giving description of data in a cluster\n",
    "def analyses_cluster (df,n):\n",
    "  df_cl = df[df['cluster']==n]\n",
    "  print(\"o---- CLUSTER \", str(n), \" ----o\")\n",
    "  print(\"nb rows\", df_cl.shape[0])\n",
    "  print(\"min and max num: \", df_cl['num'].min(), df_cl['num'].max())\n",
    "  print(\"nb of empty unit: \", df_cl[(df_cl['unit']=='')].shape[0])\n",
    "  print(df_cl['nb_groups'].value_counts())\n",
    " # print(\"----------- Data in the cluster with empty unit_max : --------\")\n",
    " # return df_cl[(df_cl['unit_max']=='')]"
   ]
  },
  {
   "cell_type": "code",
   "execution_count": null,
   "metadata": {},
   "outputs": [],
   "source": [
    "# Checking the repartition of rows between clusters\n",
    "for i in range(n_clust):\n",
    "  print(\"cluster \"+str(i)+\" :\",df_quantity_f[df_quantity_f['cluster']==i].shape)\n",
    "# Then giving a summary of main characteristics\n",
    "for i in range(n_clust):\n",
    "  analyses_cluster(df_quantity_f,i)"
   ]
  },
  {
   "cell_type": "code",
   "execution_count": null,
   "metadata": {},
   "outputs": [],
   "source": []
  },
  {
   "cell_type": "code",
   "execution_count": null,
   "metadata": {},
   "outputs": [],
   "source": []
  }
 ],
 "metadata": {
  "kernelspec": {
   "display_name": "Python 3",
   "language": "python",
   "name": "python3"
  },
  "language_info": {
   "codemirror_mode": {
    "name": "ipython",
    "version": 3
   },
   "file_extension": ".py",
   "mimetype": "text/x-python",
   "name": "python",
   "nbconvert_exporter": "python",
   "pygments_lexer": "ipython3",
   "version": "3.7.3"
  }
 },
 "nbformat": 4,
 "nbformat_minor": 2
}
