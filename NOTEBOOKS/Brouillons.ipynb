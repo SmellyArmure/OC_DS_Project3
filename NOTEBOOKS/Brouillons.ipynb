{
 "cells": [
  {
   "cell_type": "code",
   "execution_count": null,
   "metadata": {},
   "outputs": [],
   "source": [
    "# Reconstruct 'energy-kcal_100g' and 'energy-kj_100g' whenever possible\n",
    "def calc_energy(row, unit):\n",
    "  row_c = row.copy(deep=True)\n",
    "  row_c.fillna(0)\n",
    "  d_kcal = {'fat_100g': 9, 'carbohydrates_100g': 4, 'proteins_100g': 4,\\\n",
    "            'alcohol_100g': 7, 'fiber_100g': 1.9, 'polyols_100g': 2.4}\n",
    "  d_kj = dict([(k,v*418.4) for k,v in d_kcal.items()])\n",
    "  if unit == 'kcal':\n",
    "    return sum([row_c[k]*v  for k,v in d_kcal.items()])\n",
    "  else:\n",
    "    return sum([row_c[k]*v  for k,v in d_kj.items()])"
   ]
  },
  {
   "cell_type": "code",
   "execution_count": null,
   "metadata": {},
   "outputs": [],
   "source": [
    "# Calculating the energy from fat, carb, prot etc. for all rows\n",
    "# %timeit calc_energy(df.loc[samp], 'kcal') #17,6ms\n",
    "res_kcal = df.apply(lambda x: calc_energy(x,'kcal'), axis=1) # 12min33\n",
    "# Calculating the energy from fat, carb, prot etc. for all\n",
    "res_kcal = df.apply(lambda x: calc_energy(x,'kcal'), axis=1) # 12min33"
   ]
  }
 ],
 "metadata": {
  "kernelspec": {
   "display_name": "Python 3",
   "language": "python",
   "name": "python3"
  },
  "language_info": {
   "codemirror_mode": {
    "name": "ipython",
    "version": 3
   },
   "file_extension": ".py",
   "mimetype": "text/x-python",
   "name": "python",
   "nbconvert_exporter": "python",
   "pygments_lexer": "ipython3",
   "version": "3.7.3"
  }
 },
 "nbformat": 4,
 "nbformat_minor": 2
}
