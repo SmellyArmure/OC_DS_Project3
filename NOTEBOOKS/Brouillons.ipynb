{
 "cells": [
  {
   "cell_type": "code",
   "execution_count": null,
   "metadata": {},
   "outputs": [],
   "source": [
    "#boissons :\n",
    "pnns_gp_1 : 'beverages'\n",
    "pnns_gp_2 : 'alcoholic beverages', 'milk and yogurt', \n",
    "'fruit juices', 'fruit nectars', 'plant-based milk substitutes'\n",
    "'teas and herbal teas and coffees', 'unsweetened beverages', 'sweetened beverages',\n",
    "'artificially sweetened beverages', 'waters and flavored waters'\n",
    "#fruits :\n",
    "pnns_gp_1 : 'fruits and vegetables'\n",
    "pnns_gp_2 :  'vegetables', 'potatoes', 'soups', 'nuts', 'fruits', 'dried fruits'\n",
    "#matières grasses :\n",
    "pnns_gp_2 : 'fats'\n",
    "#fromage :\n",
    "pnns_gp_2 : 'cheese'"
   ]
  },
  {
   "cell_type": "code",
   "execution_count": null,
   "metadata": {},
   "outputs": [],
   "source": []
  }
 ],
 "metadata": {
  "kernelspec": {
   "display_name": "Python 3",
   "language": "python",
   "name": "python3"
  },
  "language_info": {
   "codemirror_mode": {
    "name": "ipython",
    "version": 3
   },
   "file_extension": ".py",
   "mimetype": "text/x-python",
   "name": "python",
   "nbconvert_exporter": "python",
   "pygments_lexer": "ipython3",
   "version": "3.7.3"
  }
 },
 "nbformat": 4,
 "nbformat_minor": 2
}
