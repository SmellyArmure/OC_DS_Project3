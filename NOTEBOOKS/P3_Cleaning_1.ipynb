{
 "cells": [
  {
   "cell_type": "markdown",
   "metadata": {
    "colab_type": "text",
    "id": "pVbrKjWrGl4m"
   },
   "source": [
    "# \"Concevez une application au service de la santé publique\"\n",
    "_Cleaning Notebook_\n",
    "13/08 16h"
   ]
  },
  {
   "cell_type": "markdown",
   "metadata": {
    "colab_type": "text",
    "id": "AXy2xt5wB3ZD"
   },
   "source": [
    "## 0 Preliminaries"
   ]
  },
  {
   "cell_type": "markdown",
   "metadata": {
    "colab_type": "text",
    "id": "NQ8_ZaJvGl4o"
   },
   "source": [
    "### 0.0 Importing Modules"
   ]
  },
  {
   "cell_type": "code",
   "execution_count": 0,
   "metadata": {
    "colab": {},
    "colab_type": "code",
    "id": "xMchPItFh9-J"
   },
   "outputs": [],
   "source": [
    "# # Importing requirements.txt file\n",
    "# from google.colab import files\n",
    "# files.upload()"
   ]
  },
  {
   "cell_type": "code",
   "execution_count": 2,
   "metadata": {
    "colab": {
     "base_uri": "https://localhost:8080/",
     "height": 34
    },
    "colab_type": "code",
    "executionInfo": {
     "elapsed": 1149,
     "status": "ok",
     "timestamp": 1587662797405,
     "user": {
      "displayName": "Maryse Muller",
      "photoUrl": "",
      "userId": "13230828717959946182"
     },
     "user_tz": -120
    },
    "id": "S7MAxokr4UmP",
    "outputId": "daa22e5a-2266-4dfd-9e3b-d243b3177a08"
   },
   "outputs": [
    {
     "data": {
      "text/plain": [
       "(True, '/usr/bin/python3')"
      ]
     },
     "execution_count": 2,
     "metadata": {
      "tags": []
     },
     "output_type": "execute_result"
    }
   ],
   "source": [
    "import sys\n",
    "# Checking whether the notebook is on Colab or PC\n",
    "is_colab = 'google.colab' in sys.modules\n",
    "is_colab, sys.executable"
   ]
  },
  {
   "cell_type": "code",
   "execution_count": 3,
   "metadata": {
    "colab": {
     "base_uri": "https://localhost:8080/",
     "height": 1000
    },
    "colab_type": "code",
    "executionInfo": {
     "elapsed": 16661,
     "status": "ok",
     "timestamp": 1587662812953,
     "user": {
      "displayName": "Maryse Muller",
      "photoUrl": "",
      "userId": "13230828717959946182"
     },
     "user_tz": -120
    },
    "id": "9KGVfBLT6yYx",
    "outputId": "1788552d-fb48-48da-ffa5-1610115648ae"
   },
   "outputs": [
    {
     "name": "stdout",
     "output_type": "stream",
     "text": [
      "Collecting python-stdnum\n",
      "\u001b[?25l  Downloading https://files.pythonhosted.org/packages/6b/57/5d1ee250a9c4e780d57d7dcc1b9553c4e386c759ed3087f813965c4534d2/python_stdnum-1.13-py2.py3-none-any.whl (839kB)\n",
      "\u001b[K     |████████████████████████████████| 849kB 2.8MB/s \n",
      "\u001b[?25hInstalling collected packages: python-stdnum\n",
      "Successfully installed python-stdnum-1.13\n",
      "Collecting gTTS\n",
      "  Downloading https://files.pythonhosted.org/packages/a1/0c/4ca77eca3b739a4a08360930643f58d714e302fee0d2f8c654e67d9af8e7/gTTS-2.1.1-py3-none-any.whl\n",
      "Requirement already satisfied: beautifulsoup4 in /usr/local/lib/python3.6/dist-packages (from gTTS) (4.6.3)\n",
      "Collecting gtts-token>=1.1.3\n",
      "  Downloading https://files.pythonhosted.org/packages/e7/25/ca6e9cd3275bfc3097fe6b06cc31db6d3dfaf32e032e0f73fead9c9a03ce/gTTS-token-1.1.3.tar.gz\n",
      "Requirement already satisfied: six in /usr/local/lib/python3.6/dist-packages (from gTTS) (1.12.0)\n",
      "Requirement already satisfied: click in /usr/local/lib/python3.6/dist-packages (from gTTS) (7.1.1)\n",
      "Requirement already satisfied: requests in /usr/local/lib/python3.6/dist-packages (from gTTS) (2.21.0)\n",
      "Requirement already satisfied: chardet<3.1.0,>=3.0.2 in /usr/local/lib/python3.6/dist-packages (from requests->gTTS) (3.0.4)\n",
      "Requirement already satisfied: urllib3<1.25,>=1.21.1 in /usr/local/lib/python3.6/dist-packages (from requests->gTTS) (1.24.3)\n",
      "Requirement already satisfied: certifi>=2017.4.17 in /usr/local/lib/python3.6/dist-packages (from requests->gTTS) (2020.4.5.1)\n",
      "Requirement already satisfied: idna<2.9,>=2.5 in /usr/local/lib/python3.6/dist-packages (from requests->gTTS) (2.8)\n",
      "Building wheels for collected packages: gtts-token\n",
      "  Building wheel for gtts-token (setup.py) ... \u001b[?25l\u001b[?25hdone\n",
      "  Created wheel for gtts-token: filename=gTTS_token-1.1.3-cp36-none-any.whl size=4097 sha256=c4ead1ba992431268915fb7a5aa0bd783ddc844819eaa2736d1776f36e7129b3\n",
      "  Stored in directory: /root/.cache/pip/wheels/dd/11/61/33f7e51bf545e910552b2255eead2a7cd8ef54064b46dceb34\n",
      "Successfully built gtts-token\n",
      "Installing collected packages: gtts-token, gTTS\n",
      "Successfully installed gTTS-2.1.1 gtts-token-1.1.3\n",
      "Requirement already satisfied: ipywidgets in /usr/local/lib/python3.6/dist-packages (7.5.1)\n",
      "Requirement already satisfied: nbformat>=4.2.0 in /usr/local/lib/python3.6/dist-packages (from ipywidgets) (5.0.5)\n",
      "Requirement already satisfied: ipython>=4.0.0; python_version >= \"3.3\" in /usr/local/lib/python3.6/dist-packages (from ipywidgets) (5.5.0)\n",
      "Requirement already satisfied: widgetsnbextension~=3.5.0 in /usr/local/lib/python3.6/dist-packages (from ipywidgets) (3.5.1)\n",
      "Requirement already satisfied: ipykernel>=4.5.1 in /usr/local/lib/python3.6/dist-packages (from ipywidgets) (4.10.1)\n",
      "Requirement already satisfied: traitlets>=4.3.1 in /usr/local/lib/python3.6/dist-packages (from ipywidgets) (4.3.3)\n",
      "Requirement already satisfied: ipython-genutils in /usr/local/lib/python3.6/dist-packages (from nbformat>=4.2.0->ipywidgets) (0.2.0)\n",
      "Requirement already satisfied: jsonschema!=2.5.0,>=2.4 in /usr/local/lib/python3.6/dist-packages (from nbformat>=4.2.0->ipywidgets) (2.6.0)\n",
      "Requirement already satisfied: jupyter-core in /usr/local/lib/python3.6/dist-packages (from nbformat>=4.2.0->ipywidgets) (4.6.3)\n",
      "Requirement already satisfied: prompt-toolkit<2.0.0,>=1.0.4 in /usr/local/lib/python3.6/dist-packages (from ipython>=4.0.0; python_version >= \"3.3\"->ipywidgets) (1.0.18)\n",
      "Requirement already satisfied: setuptools>=18.5 in /usr/local/lib/python3.6/dist-packages (from ipython>=4.0.0; python_version >= \"3.3\"->ipywidgets) (46.1.3)\n",
      "Requirement already satisfied: pygments in /usr/local/lib/python3.6/dist-packages (from ipython>=4.0.0; python_version >= \"3.3\"->ipywidgets) (2.1.3)\n",
      "Requirement already satisfied: pickleshare in /usr/local/lib/python3.6/dist-packages (from ipython>=4.0.0; python_version >= \"3.3\"->ipywidgets) (0.7.5)\n",
      "Requirement already satisfied: simplegeneric>0.8 in /usr/local/lib/python3.6/dist-packages (from ipython>=4.0.0; python_version >= \"3.3\"->ipywidgets) (0.8.1)\n",
      "Requirement already satisfied: decorator in /usr/local/lib/python3.6/dist-packages (from ipython>=4.0.0; python_version >= \"3.3\"->ipywidgets) (4.4.2)\n",
      "Requirement already satisfied: pexpect; sys_platform != \"win32\" in /usr/local/lib/python3.6/dist-packages (from ipython>=4.0.0; python_version >= \"3.3\"->ipywidgets) (4.8.0)\n",
      "Requirement already satisfied: notebook>=4.4.1 in /usr/local/lib/python3.6/dist-packages (from widgetsnbextension~=3.5.0->ipywidgets) (5.2.2)\n",
      "Requirement already satisfied: jupyter-client in /usr/local/lib/python3.6/dist-packages (from ipykernel>=4.5.1->ipywidgets) (5.3.4)\n",
      "Requirement already satisfied: tornado>=4.0 in /usr/local/lib/python3.6/dist-packages (from ipykernel>=4.5.1->ipywidgets) (4.5.3)\n",
      "Requirement already satisfied: six in /usr/local/lib/python3.6/dist-packages (from traitlets>=4.3.1->ipywidgets) (1.12.0)\n",
      "Requirement already satisfied: wcwidth in /usr/local/lib/python3.6/dist-packages (from prompt-toolkit<2.0.0,>=1.0.4->ipython>=4.0.0; python_version >= \"3.3\"->ipywidgets) (0.1.9)\n",
      "Requirement already satisfied: ptyprocess>=0.5 in /usr/local/lib/python3.6/dist-packages (from pexpect; sys_platform != \"win32\"->ipython>=4.0.0; python_version >= \"3.3\"->ipywidgets) (0.6.0)\n",
      "Requirement already satisfied: terminado>=0.3.3; sys_platform != \"win32\" in /usr/local/lib/python3.6/dist-packages (from notebook>=4.4.1->widgetsnbextension~=3.5.0->ipywidgets) (0.8.3)\n",
      "Requirement already satisfied: jinja2 in /usr/local/lib/python3.6/dist-packages (from notebook>=4.4.1->widgetsnbextension~=3.5.0->ipywidgets) (2.11.2)\n",
      "Requirement already satisfied: nbconvert in /usr/local/lib/python3.6/dist-packages (from notebook>=4.4.1->widgetsnbextension~=3.5.0->ipywidgets) (5.6.1)\n",
      "Requirement already satisfied: pyzmq>=13 in /usr/local/lib/python3.6/dist-packages (from jupyter-client->ipykernel>=4.5.1->ipywidgets) (19.0.0)\n",
      "Requirement already satisfied: python-dateutil>=2.1 in /usr/local/lib/python3.6/dist-packages (from jupyter-client->ipykernel>=4.5.1->ipywidgets) (2.8.1)\n",
      "Requirement already satisfied: MarkupSafe>=0.23 in /usr/local/lib/python3.6/dist-packages (from jinja2->notebook>=4.4.1->widgetsnbextension~=3.5.0->ipywidgets) (1.1.1)\n",
      "Requirement already satisfied: defusedxml in /usr/local/lib/python3.6/dist-packages (from nbconvert->notebook>=4.4.1->widgetsnbextension~=3.5.0->ipywidgets) (0.6.0)\n",
      "Requirement already satisfied: testpath in /usr/local/lib/python3.6/dist-packages (from nbconvert->notebook>=4.4.1->widgetsnbextension~=3.5.0->ipywidgets) (0.4.4)\n",
      "Requirement already satisfied: mistune<2,>=0.8.1 in /usr/local/lib/python3.6/dist-packages (from nbconvert->notebook>=4.4.1->widgetsnbextension~=3.5.0->ipywidgets) (0.8.4)\n",
      "Requirement already satisfied: entrypoints>=0.2.2 in /usr/local/lib/python3.6/dist-packages (from nbconvert->notebook>=4.4.1->widgetsnbextension~=3.5.0->ipywidgets) (0.3)\n",
      "Requirement already satisfied: pandocfilters>=1.4.1 in /usr/local/lib/python3.6/dist-packages (from nbconvert->notebook>=4.4.1->widgetsnbextension~=3.5.0->ipywidgets) (1.4.2)\n",
      "Requirement already satisfied: bleach in /usr/local/lib/python3.6/dist-packages (from nbconvert->notebook>=4.4.1->widgetsnbextension~=3.5.0->ipywidgets) (3.1.4)\n",
      "Requirement already satisfied: webencodings in /usr/local/lib/python3.6/dist-packages (from bleach->nbconvert->notebook>=4.4.1->widgetsnbextension~=3.5.0->ipywidgets) (0.5.1)\n"
     ]
    }
   ],
   "source": [
    "# Replaced by \n",
    "# !pip install -r requirements.txt\n",
    "# Installations and importations required for Google Colab version\n",
    "if is_colab==True:\n",
    "  from google.colab import files, output\n",
    "  !pip install python-stdnum\n",
    "  !pip install gTTS\n",
    "  !pip install ipywidgets\n",
    "else:\n",
    "    pass"
   ]
  },
  {
   "cell_type": "code",
   "execution_count": 4,
   "metadata": {
    "colab": {
     "base_uri": "https://localhost:8080/",
     "height": 72
    },
    "colab_type": "code",
    "executionInfo": {
     "elapsed": 17241,
     "status": "ok",
     "timestamp": 1587662813566,
     "user": {
      "displayName": "Maryse Muller",
      "photoUrl": "",
      "userId": "13230828717959946182"
     },
     "user_tz": -120
    },
    "id": "AWVZdsRnGl4p",
    "outputId": "95e43cdc-30c6-414a-de2e-214e8adb6b97"
   },
   "outputs": [
    {
     "name": "stderr",
     "output_type": "stream",
     "text": [
      "/usr/local/lib/python3.6/dist-packages/statsmodels/tools/_testing.py:19: FutureWarning: pandas.util.testing is deprecated. Use the functions in the public API at pandas.testing instead.\n",
      "  import pandas.util.testing as tm\n"
     ]
    }
   ],
   "source": [
    "## IMPORTATIONS\n",
    "import os\n",
    "import io\n",
    "import json\n",
    "import re\n",
    "import pandas as pd\n",
    "import missingno as msno\n",
    "from stdnum.exceptions import *\n",
    "from stdnum.util import *\n",
    "from stdnum.ean import *\n",
    "import numpy as np\n",
    "from ipywidgets import interact, interact_manual"
   ]
  },
  {
   "cell_type": "code",
   "execution_count": 0,
   "metadata": {
    "colab": {},
    "colab_type": "code",
    "id": "fx-aoFDpPcBY"
   },
   "outputs": [],
   "source": [
    "# Function to display small dataframes side by side\n",
    "from IPython.display import display_html\n",
    "def display_side_by_side(*args):\n",
    "    html_str=''\n",
    "    for df in args:\n",
    "        html_str+=df.to_html()\n",
    "    display_html(html_str.replace('table','table style=\"display:inline\"'),\n",
    "                 raw=True)"
   ]
  },
  {
   "cell_type": "code",
   "execution_count": 0,
   "metadata": {
    "colab": {},
    "colab_type": "code",
    "id": "G0rRvyJaWO2h"
   },
   "outputs": [],
   "source": [
    "# Setting pandas display options \n",
    "dict_pd_settings = {'display.max_rows': 500, 'display.width': 100,\n",
    "                    'display.max_colwidth': 20,\n",
    "                    'display.float_format': lambda x: '%.0f' % x}\n",
    "for k,v in dict_pd_settings.items():\n",
    "  pd.set_option(k,v)"
   ]
  },
  {
   "cell_type": "code",
   "execution_count": 0,
   "metadata": {
    "colab": {},
    "colab_type": "code",
    "id": "vgvmjvZ_Y6-s"
   },
   "outputs": [],
   "source": [
    "# To play audio text-to-speech during execution\n",
    "from IPython.display import Audio\n",
    "from gtts import gTTS\n",
    "\n",
    "def speak(my_text):\n",
    "    with io.BytesIO() as f:\n",
    "        gTTS(text=my_text, lang='en').write_to_fp(f)\n",
    "        f.seek(0)\n",
    "        return Audio(f.read(), autoplay=True)"
   ]
  },
  {
   "cell_type": "code",
   "execution_count": 8,
   "metadata": {
    "colab": {
     "base_uri": "https://localhost:8080/",
     "height": 75
    },
    "colab_type": "code",
    "executionInfo": {
     "elapsed": 17155,
     "status": "ok",
     "timestamp": 1587662813576,
     "user": {
      "displayName": "Maryse Muller",
      "photoUrl": "",
      "userId": "13230828717959946182"
     },
     "user_tz": -120
    },
    "id": "X5b_ibTl83bD",
    "outputId": "1db44dbd-ace3-4f8e-e2e4-fa278f67c7fa"
   },
   "outputs": [
    {
     "data": {
      "text/html": [
       "\n",
       "                <audio controls=\"controls\" autoplay=\"autoplay\">\n",
       "                    <source src=\"data:audio/wav;base64,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\" type=\"audio/wav\" />\n",
       "                    Your browser does not support the audio element.\n",
       "                </audio>\n",
       "              "
      ],
      "text/plain": [
       "<IPython.lib.display.Audio object>"
      ]
     },
     "execution_count": 8,
     "metadata": {
      "tags": []
     },
     "output_type": "execute_result"
    }
   ],
   "source": [
    "speak('Packages and modules successfully imported')"
   ]
  },
  {
   "cell_type": "markdown",
   "metadata": {
    "colab_type": "text",
    "id": "fmDu0rMFGl5A"
   },
   "source": [
    "### 0.1 Importing a sample of the dataset\n",
    "\n",
    "In order to facilitate further manipulation of the dataset, we only upload a sample of the dataset at fisrt.\n",
    "\n",
    "This will allow us to determine the best encoding form for each column therefore resulting in a better optimization of memory usage while uploading the full dataset."
   ]
  },
  {
   "cell_type": "code",
   "execution_count": 9,
   "metadata": {
    "colab": {
     "base_uri": "https://localhost:8080/",
     "height": 230
    },
    "colab_type": "code",
    "executionInfo": {
     "elapsed": 253884,
     "status": "ok",
     "timestamp": 1587663050343,
     "user": {
      "displayName": "Maryse Muller",
      "photoUrl": "",
      "userId": "13230828717959946182"
     },
     "user_tz": -120
    },
    "id": "KhVW-wxr30Ia",
    "outputId": "87de092f-4219-4bc0-c2f4-7d1b81504e2f"
   },
   "outputs": [
    {
     "name": "stdout",
     "output_type": "stream",
     "text": [
      "--2020-04-23 17:25:38--  https://static.openfoodfacts.org/data/en.openfoodfacts.org.products.csv\n",
      "Resolving static.openfoodfacts.org (static.openfoodfacts.org)... 213.36.253.206\n",
      "Connecting to static.openfoodfacts.org (static.openfoodfacts.org)|213.36.253.206|:443... connected.\n",
      "HTTP request sent, awaiting response... 200 OK\n",
      "Length: 2549543567 (2.4G) [text/csv]\n",
      "Saving to: ‘en.openfoodfacts.org.products.csv’\n",
      "\n",
      "en.openfoodfacts.or 100%[===================>]   2.37G  11.6MB/s    in 3m 39s  \n",
      "\n",
      "2020-04-23 17:29:19 (11.1 MB/s) - ‘en.openfoodfacts.org.products.csv’ saved [2549543567/2549543567]\n",
      "\n",
      "Imported from colab environment\n"
     ]
    }
   ],
   "source": [
    "p = 0.005  # reads 0.5% of the lines\n",
    "\n",
    "if is_colab==False:\n",
    "  # Importing database from my current local Git Repo\n",
    "  df = pd.read_csv('../DATA/en.openfoodfacts.org.products.csv',\n",
    "         header=0, sep='\\t', low_memory=False, encoding ='utf-8',\n",
    "         skiprows=lambda i: i>0 and np.random.random() > p)\n",
    "  print(\"Imported from PC\")\n",
    "else:\n",
    "  # Importing database from the Internet\n",
    "  if not os.path.exists('en.openfoodfacts.org.products.csv'):\n",
    "    !wget https://static.openfoodfacts.org/data/en.openfoodfacts.org.products.csv\n",
    "  else:\n",
    "    pass\n",
    "  df = pd.read_csv('/content/en.openfoodfacts.org.products.csv',\n",
    "         header=0, sep='\\t', low_memory=False, encoding ='utf-8',\n",
    "         skiprows=lambda i: i>0 and np.random.random() > p)\n",
    "  print(\"Imported from colab environment\")"
   ]
  },
  {
   "cell_type": "code",
   "execution_count": 10,
   "metadata": {
    "colab": {
     "base_uri": "https://localhost:8080/",
     "height": 75
    },
    "colab_type": "code",
    "executionInfo": {
     "elapsed": 253859,
     "status": "ok",
     "timestamp": 1587663050345,
     "user": {
      "displayName": "Maryse Muller",
      "photoUrl": "",
      "userId": "13230828717959946182"
     },
     "user_tz": -120
    },
    "id": "61owD2pedhh5",
    "outputId": "64081688-8644-4696-8a1a-4da42a65aea6"
   },
   "outputs": [
    {
     "data": {
      "text/html": [
       "\n",
       "                <audio controls=\"controls\" autoplay=\"autoplay\">\n",
       "                    <source src=\"data:audio/wav;base64,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\" type=\"audio/wav\" />\n",
       "                    Your browser does not support the audio element.\n",
       "                </audio>\n",
       "              "
      ],
      "text/plain": [
       "<IPython.lib.display.Audio object>"
      ]
     },
     "execution_count": 10,
     "metadata": {
      "tags": []
     },
     "output_type": "execute_result"
    }
   ],
   "source": [
    "speak('Dataset successfully imported')"
   ]
  },
  {
   "cell_type": "markdown",
   "metadata": {
    "colab_type": "text",
    "id": "wrR0uH-nx19m"
   },
   "source": [
    "### 0.2 Memory usage reduction\n",
    "\n",
    "In order to facilitate the manipulation, we change the format of encoding\n",
    "- ints and floats are to be downcasted\n",
    "- objects are to be changed to category (if the number of unique values is less tha, half the number of rows)\n",
    "\n",
    "NB: If we already know the format of data, we can specify the format of each column while loading the data in a pandas dataframe: *pd.read_csv('path', dtype=my_dict)*"
   ]
  },
  {
   "cell_type": "code",
   "execution_count": 11,
   "metadata": {
    "colab": {
     "base_uri": "https://localhost:8080/",
     "height": 54
    },
    "colab_type": "code",
    "executionInfo": {
     "elapsed": 253825,
     "status": "ok",
     "timestamp": 1587663050347,
     "user": {
      "displayName": "Maryse Muller",
      "photoUrl": "",
      "userId": "13230828717959946182"
     },
     "user_tz": -120
    },
    "id": "TPFovkQj6Bkq",
    "outputId": "8a33b807-9dd4-41e6-937d-450db282b8b3"
   },
   "outputs": [
    {
     "data": {
      "text/plain": [
       "' This cell is a demo showing the performance of a good choice of data type\\nwhile reading the csv to dataframe - not necessary to run each time\\n'"
      ]
     },
     "execution_count": 11,
     "metadata": {
      "tags": []
     },
     "output_type": "execute_result"
    }
   ],
   "source": [
    "''' This cell is a demo showing the performance of a good choice of data type\n",
    "while reading the csv to dataframe - not necessary to run each time\n",
    "'''\n",
    "# def mem_usage(pandas_obj):\n",
    "#   if isinstance(pandas_obj,pd.DataFrame):\n",
    "#     usage_b = pandas_obj.memory_usage(deep=True).sum()\n",
    "#   else:\n",
    "#     usage_b = pandas_obj.memory_usage(deep=True)    \n",
    "#   usage_mb = usage_b / 1024 ** 2\n",
    "#   return \"{:03.2f} MB\".format(usage_mb)\n",
    "\n",
    "# # Checking memory usage for the sample\n",
    "# print(df.info(memory_usage='deep'), '\\n'+'.'*20)\n",
    "\n",
    "# # columns 'category'\n",
    "# df_obj = df.select_dtypes(include=['object']).copy()\n",
    "# converted_obj = pd.DataFrame()\n",
    "# for col in df_obj.columns:\n",
    "#   if len(df_obj[col].unique()) / len(df_obj[col]) < 0.5:\n",
    "#     converted_obj.loc[:,col] = df_obj[col].astype('category')\n",
    "#   else:\n",
    "#     converted_obj.loc[:,col] = df_obj[col]\n",
    "# print('For {} object columns: {} before, {} after conversion to category.'\\\n",
    "#       .format(df_obj.shape[1], mem_usage(df_obj), mem_usage(converted_obj)))\n",
    "# # columns 'int'\n",
    "# df_int = df.select_dtypes(include=['int']).copy()\n",
    "# converted_int = df_int.apply(pd.to_numeric, downcast='unsigned')\n",
    "# print('For {} int columns: {} before, {} after downcasting.'\\\n",
    "#       .format(df_int.shape[1], mem_usage(df_int), mem_usage(converted_int)))\n",
    "# # columns 'float'\n",
    "# df_float = df.select_dtypes(include=['float']).copy()\n",
    "# converted_float = df_float.apply(pd.to_numeric, downcast='float')\n",
    "# print('For {} float columns: {} before, {} after downcasting.'\\\n",
    "#       .format(df_float.shape[1], mem_usage(df_float), mem_usage(converted_float),))\n",
    "\n",
    "# df[converted_obj.columns] = converted_obj\n",
    "# df[converted_int.columns] = converted_int\n",
    "# df[converted_float.columns] = converted_float\n",
    "# print('.'*20+'\\n')\n",
    "\n",
    "# # Re-checking memory usage for the sample \n",
    "# print('.'*20+'\\n', df.info(memory_usage='deep'))\n",
    "# # (60.9MB->26.0MB: less than 43% !!!)\n",
    "\n",
    "# del df_obj, converted_obj, df_int, converted_int, df_float, converted_float"
   ]
  },
  {
   "cell_type": "code",
   "execution_count": 0,
   "metadata": {
    "colab": {},
    "colab_type": "code",
    "id": "5HsspJc30bfe"
   },
   "outputs": [],
   "source": [
    "# display(df.head(3), df.dtypes.value_counts())\n",
    "# print(df.dtypes)"
   ]
  },
  {
   "cell_type": "code",
   "execution_count": 13,
   "metadata": {
    "colab": {
     "base_uri": "https://localhost:8080/",
     "height": 54
    },
    "colab_type": "code",
    "executionInfo": {
     "elapsed": 254185,
     "status": "ok",
     "timestamp": 1587663050760,
     "user": {
      "displayName": "Maryse Muller",
      "photoUrl": "",
      "userId": "13230828717959946182"
     },
     "user_tz": -120
    },
    "id": "GX4eC6I__0oF",
    "outputId": "ee06baec-eca4-4338-be7b-3cb31e49676e"
   },
   "outputs": [
    {
     "name": "stdout",
     "output_type": "stream",
     "text": [
      "{'code': 'object', 'url': 'object', 'creator': 'category', 'created_datetime': 'object', 'last_modified_datetime': 'object', 'product_name': 'object', 'generic_name': 'category', 'quantity': 'category', 'packaging': 'category', 'packaging_tags': 'category', 'brands': 'category', 'brands_tags': 'category', 'categories': 'category', 'categories_tags': 'category', 'categories_en': 'category', 'origins': 'category', 'origins_tags': 'category', 'manufacturing_places': 'category', 'manufacturing_places_tags': 'category', 'labels': 'category', 'labels_tags': 'category', 'labels_en': 'category', 'emb_codes': 'category', 'emb_codes_tags': 'category', 'first_packaging_code_geo': 'category', 'cities_tags': 'category', 'purchase_places': 'category', 'stores': 'category', 'countries': 'category', 'countries_tags': 'category', 'countries_en': 'category', 'ingredients_text': 'category', 'allergens': 'category', 'traces': 'category', 'traces_tags': 'category', 'traces_en': 'category', 'serving_size': 'category', 'additives': 'category', 'additives_tags': 'category', 'additives_en': 'category', 'ingredients_from_palm_oil_tags': 'category', 'ingredients_that_may_be_from_palm_oil_tags': 'category', 'nutriscore_grade': 'category', 'pnns_groups_1': 'category', 'pnns_groups_2': 'category', 'states': 'category', 'states_tags': 'category', 'states_en': 'category', 'brand_owner': 'category', 'main_category': 'category', 'main_category_en': 'category', 'image_url': 'object', 'image_small_url': 'object', 'image_ingredients_url': 'category', 'image_ingredients_small_url': 'category', 'image_nutrition_url': 'category', 'image_nutrition_small_url': 'category', 'cities': 'category', 'allergens_en': 'category', 'serving_quantity': 'float32', 'no_nutriments': 'category', 'additives_n': 'float32', 'ingredients_from_palm_oil_n': 'float32', 'ingredients_from_palm_oil': 'category', 'ingredients_that_may_be_from_palm_oil_n': 'float32', 'ingredients_that_may_be_from_palm_oil': 'category', 'nutriscore_score': 'float32', 'nova_group': 'float32', 'energy-kj_100g': 'float32', 'energy-kcal_100g': 'float32', 'energy_100g': 'float32', 'energy-from-fat_100g': 'float32', 'fat_100g': 'float32', 'saturated-fat_100g': 'float32', '-butyric-acid_100g': 'category', '-caproic-acid_100g': 'category', '-caprylic-acid_100g': 'category', '-capric-acid_100g': 'category', '-lauric-acid_100g': 'float32', '-myristic-acid_100g': 'category', '-palmitic-acid_100g': 'category', '-stearic-acid_100g': 'category', '-arachidic-acid_100g': 'category', '-behenic-acid_100g': 'category', '-lignoceric-acid_100g': 'category', '-cerotic-acid_100g': 'category', '-montanic-acid_100g': 'category', '-melissic-acid_100g': 'category', 'monounsaturated-fat_100g': 'float32', 'polyunsaturated-fat_100g': 'float32', 'omega-3-fat_100g': 'float32', '-alpha-linolenic-acid_100g': 'float32', '-eicosapentaenoic-acid_100g': 'float32', '-docosahexaenoic-acid_100g': 'float32', 'omega-6-fat_100g': 'float32', '-linoleic-acid_100g': 'float32', '-arachidonic-acid_100g': 'category', '-gamma-linolenic-acid_100g': 'category', '-dihomo-gamma-linolenic-acid_100g': 'category', 'omega-9-fat_100g': 'category', '-oleic-acid_100g': 'category', '-elaidic-acid_100g': 'category', '-gondoic-acid_100g': 'category', '-mead-acid_100g': 'category', '-erucic-acid_100g': 'category', '-nervonic-acid_100g': 'category', 'trans-fat_100g': 'float32', 'cholesterol_100g': 'float32', 'carbohydrates_100g': 'float32', 'sugars_100g': 'float32', '-sucrose_100g': 'category', '-glucose_100g': 'category', '-fructose_100g': 'category', '-lactose_100g': 'float32', '-maltose_100g': 'category', '-maltodextrins_100g': 'category', 'starch_100g': 'float32', 'polyols_100g': 'float32', 'fiber_100g': 'float32', '-soluble-fiber_100g': 'float32', '-insoluble-fiber_100g': 'float32', 'proteins_100g': 'float32', 'casein_100g': 'category', 'serum-proteins_100g': 'category', 'nucleotides_100g': 'category', 'salt_100g': 'float32', 'sodium_100g': 'float32', 'alcohol_100g': 'float32', 'vitamin-a_100g': 'float32', 'beta-carotene_100g': 'category', 'vitamin-d_100g': 'float32', 'vitamin-e_100g': 'float32', 'vitamin-k_100g': 'float32', 'vitamin-c_100g': 'float32', 'vitamin-b1_100g': 'float32', 'vitamin-b2_100g': 'float32', 'vitamin-pp_100g': 'float32', 'vitamin-b6_100g': 'float32', 'vitamin-b9_100g': 'float32', 'folates_100g': 'float32', 'vitamin-b12_100g': 'float32', 'biotin_100g': 'float32', 'pantothenic-acid_100g': 'float32', 'silica_100g': 'float32', 'bicarbonate_100g': 'float32', 'potassium_100g': 'float32', 'chloride_100g': 'float32', 'calcium_100g': 'float32', 'phosphorus_100g': 'float32', 'iron_100g': 'float32', 'magnesium_100g': 'float32', 'zinc_100g': 'float32', 'copper_100g': 'float32', 'manganese_100g': 'float32', 'fluoride_100g': 'float32', 'selenium_100g': 'float32', 'chromium_100g': 'category', 'molybdenum_100g': 'category', 'iodine_100g': 'float32', 'caffeine_100g': 'float32', 'taurine_100g': 'float32', 'ph_100g': 'float32', 'fruits-vegetables-nuts_100g': 'float32', 'fruits-vegetables-nuts-dried_100g': 'float32', 'fruits-vegetables-nuts-estimate_100g': 'float32', 'collagen-meat-protein-ratio_100g': 'float32', 'cocoa_100g': 'float32', 'chlorophyl_100g': 'category', 'carbon-footprint_100g': 'float32', 'carbon-footprint-from-meat-or-fish_100g': 'float32', 'nutrition-score-fr_100g': 'float32', 'nutrition-score-uk_100g': 'float32', 'glycemic-index_100g': 'category', 'water-hardness_100g': 'category', 'choline_100g': 'category', 'phylloquinone_100g': 'float32', 'beta-glucan_100g': 'category', 'inositol_100g': 'category', 'carnitine_100g': 'category', 'created_t': 'int8', 'last_modified_t': 'int8'}\n"
     ]
    }
   ],
   "source": [
    "## Changing format of object and float64 columns routine\n",
    "\n",
    "my_dtypes = {}\n",
    "\n",
    "# object -> category (if nb unique < half total nb of rows)\n",
    "for col in df.columns.values:\n",
    "    if df[col].dtype == 'object' :\n",
    "      if len(df[col].unique()) / len(df[col]) < 0.5:\n",
    "        my_dtypes[col] = 'category'\n",
    "      else:\n",
    "        my_dtypes[col] = 'object'\n",
    "\n",
    "# float64 -> float32\n",
    "for col in df.columns.values:\n",
    "    if df[col].dtype == 'float64':\n",
    "      if df[col].notna().sum()!=0: # 1% sample columns happening to be all null \n",
    "        my_dtypes[col] = 'float32'\n",
    "      else:\n",
    "        my_dtypes[col] = 'category'\n",
    "\n",
    "# float64 -> float32\n",
    "for col in df.columns.values:\n",
    "    if df[col].dtype == 'int64':\n",
    "        my_dtypes[col] = 'int8'\n",
    "        \n",
    "print(my_dtypes)"
   ]
  },
  {
   "cell_type": "code",
   "execution_count": 14,
   "metadata": {
    "colab": {
     "base_uri": "https://localhost:8080/",
     "height": 34
    },
    "colab_type": "code",
    "executionInfo": {
     "elapsed": 76360,
     "status": "ok",
     "timestamp": 1587663145976,
     "user": {
      "displayName": "Maryse Muller",
      "photoUrl": "",
      "userId": "13230828717959946182"
     },
     "user_tz": -120
    },
    "id": "6vTM1TpcJVKK",
    "outputId": "fde156b5-b897-44d3-c491-8ae25c9bb349"
   },
   "outputs": [
    {
     "name": "stdout",
     "output_type": "stream",
     "text": [
      "Imported from colab environment\n"
     ]
    }
   ],
   "source": [
    "# Importing the whole dataframe with optimized types\n",
    "\n",
    "if is_colab==False:\n",
    "  # Importing database from my current local Git Repo\n",
    "  df = pd.read_csv('../DATA/en.openfoodfacts.org.products.csv', dtype=my_dtypes,\n",
    "         header=0, sep='\\t', low_memory=False, encoding ='utf-8')\n",
    "  print(\"Imported from PC\")\n",
    "else:\n",
    "  df = pd.read_csv('/content/en.openfoodfacts.org.products.csv', dtype=my_dtypes,\n",
    "         header=0, sep='\\t', low_memory=False, encoding ='utf-8')\n",
    "  print(\"Imported from colab environment\")"
   ]
  },
  {
   "cell_type": "code",
   "execution_count": 15,
   "metadata": {
    "colab": {
     "base_uri": "https://localhost:8080/",
     "height": 105
    },
    "colab_type": "code",
    "executionInfo": {
     "elapsed": 38823,
     "status": "ok",
     "timestamp": 1587663184815,
     "user": {
      "displayName": "Maryse Muller",
      "photoUrl": "",
      "userId": "13230828717959946182"
     },
     "user_tz": -120
    },
    "id": "DByE1yXy9Kgh",
    "outputId": "8d3ea3c6-9aa1-4e79-9074-ed5775068721"
   },
   "outputs": [
    {
     "name": "stdout",
     "output_type": "stream",
     "text": [
      "<class 'pandas.core.frame.DataFrame'>\n",
      "RangeIndex: 1219248 entries, 0 to 1219247\n",
      "Columns: 181 entries, code to carnitine_100g\n",
      "dtypes: category(96), float32(76), int8(2), object(7)\n",
      "memory usage: 2.0 GB\n"
     ]
    }
   ],
   "source": [
    "df.info(memory_usage='deep')"
   ]
  },
  {
   "cell_type": "code",
   "execution_count": 16,
   "metadata": {
    "colab": {
     "base_uri": "https://localhost:8080/",
     "height": 75
    },
    "colab_type": "code",
    "executionInfo": {
     "elapsed": 38802,
     "status": "ok",
     "timestamp": 1587663184817,
     "user": {
      "displayName": "Maryse Muller",
      "photoUrl": "",
      "userId": "13230828717959946182"
     },
     "user_tz": -120
    },
    "id": "LrA3hLGxa7Ib",
    "outputId": "06112834-84a2-4e71-b517-505bdb731012"
   },
   "outputs": [
    {
     "data": {
      "text/html": [
       "\n",
       "                <audio controls=\"controls\" autoplay=\"autoplay\">\n",
       "                    <source src=\"data:audio/wav;base64,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\" type=\"audio/wav\" />\n",
       "                    Your browser does not support the audio element.\n",
       "                </audio>\n",
       "              "
      ],
      "text/plain": [
       "<IPython.lib.display.Audio object>"
      ]
     },
     "execution_count": 16,
     "metadata": {
      "tags": []
     },
     "output_type": "execute_result"
    }
   ],
   "source": [
    "speak(\"Reduction of memory usage done\")"
   ]
  },
  {
   "cell_type": "markdown",
   "metadata": {
    "colab_type": "text",
    "id": "hmpNatnIiBn6"
   },
   "source": [
    "Main conclusions : \n",
    "- Description :\n",
    "  954463 rows and 175 columns\n",
    "  some of them categorical, \n",
    "  some of them numerical\n",
    "- Memory usage reduction : \n",
    "  6.0 GB -> 2.2 GB"
   ]
  },
  {
   "cell_type": "markdown",
   "metadata": {
    "colab_type": "text",
    "id": "iwXHJlEdGl5K"
   },
   "source": [
    "### 0.3 First Overview"
   ]
  },
  {
   "cell_type": "code",
   "execution_count": 17,
   "metadata": {
    "colab": {
     "base_uri": "https://localhost:8080/",
     "height": 34
    },
    "colab_type": "code",
    "executionInfo": {
     "elapsed": 39372,
     "status": "ok",
     "timestamp": 1587663185404,
     "user": {
      "displayName": "Maryse Muller",
      "photoUrl": "",
      "userId": "13230828717959946182"
     },
     "user_tz": -120
    },
    "id": "cDUMqJudGl5L",
    "outputId": "09ad3449-fe72-4c44-a7fc-3cd7cff3362f"
   },
   "outputs": [
    {
     "data": {
      "text/plain": [
       "(1219248, 181)"
      ]
     },
     "execution_count": 17,
     "metadata": {
      "tags": []
     },
     "output_type": "execute_result"
    }
   ],
   "source": [
    "# Shape of the dataset\n",
    "dfshape = df.shape # (1173417, 178) (954463, 175)\n",
    "dfshape"
   ]
  },
  {
   "cell_type": "code",
   "execution_count": 18,
   "metadata": {
    "colab": {
     "base_uri": "https://localhost:8080/",
     "height": 633
    },
    "colab_type": "code",
    "executionInfo": {
     "elapsed": 53435,
     "status": "ok",
     "timestamp": 1587663199480,
     "user": {
      "displayName": "Maryse Muller",
      "photoUrl": "",
      "userId": "13230828717959946182"
     },
     "user_tz": -120
    },
    "id": "gtr8rfxiutFc",
    "outputId": "22e271d1-e837-4e45-b3cf-846f16bf9369"
   },
   "outputs": [
    {
     "data": {
      "text/html": [
       "<div>\n",
       "<style scoped>\n",
       "    .dataframe tbody tr th:only-of-type {\n",
       "        vertical-align: middle;\n",
       "    }\n",
       "\n",
       "    .dataframe tbody tr th {\n",
       "        vertical-align: top;\n",
       "    }\n",
       "\n",
       "    .dataframe thead th {\n",
       "        text-align: right;\n",
       "    }\n",
       "</style>\n",
       "<table border=\"1\" class=\"dataframe\">\n",
       "  <thead>\n",
       "    <tr style=\"text-align: right;\">\n",
       "      <th></th>\n",
       "      <th>code</th>\n",
       "      <th>url</th>\n",
       "      <th>creator</th>\n",
       "      <th>created_t</th>\n",
       "      <th>created_datetime</th>\n",
       "      <th>last_modified_t</th>\n",
       "      <th>last_modified_datetime</th>\n",
       "      <th>product_name</th>\n",
       "      <th>generic_name</th>\n",
       "      <th>quantity</th>\n",
       "      <th>packaging</th>\n",
       "      <th>packaging_tags</th>\n",
       "      <th>brands</th>\n",
       "      <th>brands_tags</th>\n",
       "      <th>categories</th>\n",
       "      <th>categories_tags</th>\n",
       "      <th>categories_en</th>\n",
       "      <th>origins</th>\n",
       "      <th>origins_tags</th>\n",
       "      <th>manufacturing_places</th>\n",
       "      <th>manufacturing_places_tags</th>\n",
       "      <th>labels</th>\n",
       "      <th>labels_tags</th>\n",
       "      <th>labels_en</th>\n",
       "      <th>emb_codes</th>\n",
       "      <th>emb_codes_tags</th>\n",
       "      <th>first_packaging_code_geo</th>\n",
       "      <th>cities</th>\n",
       "      <th>cities_tags</th>\n",
       "      <th>purchase_places</th>\n",
       "      <th>stores</th>\n",
       "      <th>countries</th>\n",
       "      <th>countries_tags</th>\n",
       "      <th>countries_en</th>\n",
       "      <th>ingredients_text</th>\n",
       "      <th>allergens</th>\n",
       "      <th>allergens_en</th>\n",
       "      <th>traces</th>\n",
       "      <th>traces_tags</th>\n",
       "      <th>traces_en</th>\n",
       "      <th>...</th>\n",
       "      <th>folates_100g</th>\n",
       "      <th>vitamin-b12_100g</th>\n",
       "      <th>biotin_100g</th>\n",
       "      <th>pantothenic-acid_100g</th>\n",
       "      <th>silica_100g</th>\n",
       "      <th>bicarbonate_100g</th>\n",
       "      <th>potassium_100g</th>\n",
       "      <th>chloride_100g</th>\n",
       "      <th>calcium_100g</th>\n",
       "      <th>phosphorus_100g</th>\n",
       "      <th>iron_100g</th>\n",
       "      <th>magnesium_100g</th>\n",
       "      <th>zinc_100g</th>\n",
       "      <th>copper_100g</th>\n",
       "      <th>manganese_100g</th>\n",
       "      <th>fluoride_100g</th>\n",
       "      <th>selenium_100g</th>\n",
       "      <th>chromium_100g</th>\n",
       "      <th>molybdenum_100g</th>\n",
       "      <th>iodine_100g</th>\n",
       "      <th>caffeine_100g</th>\n",
       "      <th>taurine_100g</th>\n",
       "      <th>ph_100g</th>\n",
       "      <th>fruits-vegetables-nuts_100g</th>\n",
       "      <th>fruits-vegetables-nuts-dried_100g</th>\n",
       "      <th>fruits-vegetables-nuts-estimate_100g</th>\n",
       "      <th>collagen-meat-protein-ratio_100g</th>\n",
       "      <th>cocoa_100g</th>\n",
       "      <th>chlorophyl_100g</th>\n",
       "      <th>carbon-footprint_100g</th>\n",
       "      <th>carbon-footprint-from-meat-or-fish_100g</th>\n",
       "      <th>nutrition-score-fr_100g</th>\n",
       "      <th>nutrition-score-uk_100g</th>\n",
       "      <th>glycemic-index_100g</th>\n",
       "      <th>water-hardness_100g</th>\n",
       "      <th>choline_100g</th>\n",
       "      <th>phylloquinone_100g</th>\n",
       "      <th>beta-glucan_100g</th>\n",
       "      <th>inositol_100g</th>\n",
       "      <th>carnitine_100g</th>\n",
       "    </tr>\n",
       "  </thead>\n",
       "  <tbody>\n",
       "    <tr>\n",
       "      <th>type</th>\n",
       "      <td>object</td>\n",
       "      <td>object</td>\n",
       "      <td>category</td>\n",
       "      <td>int8</td>\n",
       "      <td>object</td>\n",
       "      <td>int8</td>\n",
       "      <td>object</td>\n",
       "      <td>object</td>\n",
       "      <td>category</td>\n",
       "      <td>category</td>\n",
       "      <td>category</td>\n",
       "      <td>category</td>\n",
       "      <td>category</td>\n",
       "      <td>category</td>\n",
       "      <td>category</td>\n",
       "      <td>category</td>\n",
       "      <td>category</td>\n",
       "      <td>category</td>\n",
       "      <td>category</td>\n",
       "      <td>category</td>\n",
       "      <td>category</td>\n",
       "      <td>category</td>\n",
       "      <td>category</td>\n",
       "      <td>category</td>\n",
       "      <td>category</td>\n",
       "      <td>category</td>\n",
       "      <td>category</td>\n",
       "      <td>category</td>\n",
       "      <td>category</td>\n",
       "      <td>category</td>\n",
       "      <td>category</td>\n",
       "      <td>category</td>\n",
       "      <td>category</td>\n",
       "      <td>category</td>\n",
       "      <td>category</td>\n",
       "      <td>category</td>\n",
       "      <td>category</td>\n",
       "      <td>category</td>\n",
       "      <td>category</td>\n",
       "      <td>category</td>\n",
       "      <td>...</td>\n",
       "      <td>float32</td>\n",
       "      <td>float32</td>\n",
       "      <td>float32</td>\n",
       "      <td>float32</td>\n",
       "      <td>float32</td>\n",
       "      <td>float32</td>\n",
       "      <td>float32</td>\n",
       "      <td>float32</td>\n",
       "      <td>float32</td>\n",
       "      <td>float32</td>\n",
       "      <td>float32</td>\n",
       "      <td>float32</td>\n",
       "      <td>float32</td>\n",
       "      <td>float32</td>\n",
       "      <td>float32</td>\n",
       "      <td>float32</td>\n",
       "      <td>float32</td>\n",
       "      <td>category</td>\n",
       "      <td>category</td>\n",
       "      <td>float32</td>\n",
       "      <td>float32</td>\n",
       "      <td>float32</td>\n",
       "      <td>float32</td>\n",
       "      <td>float32</td>\n",
       "      <td>float32</td>\n",
       "      <td>float32</td>\n",
       "      <td>float32</td>\n",
       "      <td>float32</td>\n",
       "      <td>category</td>\n",
       "      <td>float32</td>\n",
       "      <td>float32</td>\n",
       "      <td>float32</td>\n",
       "      <td>float32</td>\n",
       "      <td>category</td>\n",
       "      <td>category</td>\n",
       "      <td>category</td>\n",
       "      <td>float32</td>\n",
       "      <td>category</td>\n",
       "      <td>category</td>\n",
       "      <td>category</td>\n",
       "    </tr>\n",
       "    <tr>\n",
       "      <th>nb null</th>\n",
       "      <td>0</td>\n",
       "      <td>0</td>\n",
       "      <td>4</td>\n",
       "      <td>0</td>\n",
       "      <td>0</td>\n",
       "      <td>0</td>\n",
       "      <td>0</td>\n",
       "      <td>59827</td>\n",
       "      <td>1119788</td>\n",
       "      <td>839176</td>\n",
       "      <td>1006846</td>\n",
       "      <td>1006855</td>\n",
       "      <td>459556</td>\n",
       "      <td>459605</td>\n",
       "      <td>673207</td>\n",
       "      <td>673210</td>\n",
       "      <td>673210</td>\n",
       "      <td>1160234</td>\n",
       "      <td>1160333</td>\n",
       "      <td>1125281</td>\n",
       "      <td>1125318</td>\n",
       "      <td>912581</td>\n",
       "      <td>912560</td>\n",
       "      <td>912560</td>\n",
       "      <td>1144156</td>\n",
       "      <td>1144184</td>\n",
       "      <td>1171536</td>\n",
       "      <td>1219248</td>\n",
       "      <td>1167979</td>\n",
       "      <td>1086936</td>\n",
       "      <td>1022687</td>\n",
       "      <td>2122</td>\n",
       "      <td>2124</td>\n",
       "      <td>2124</td>\n",
       "      <td>736401</td>\n",
       "      <td>1115439</td>\n",
       "      <td>1219248</td>\n",
       "      <td>1146178</td>\n",
       "      <td>1125162</td>\n",
       "      <td>1125162</td>\n",
       "      <td>...</td>\n",
       "      <td>1214071</td>\n",
       "      <td>1211367</td>\n",
       "      <td>1218574</td>\n",
       "      <td>1215795</td>\n",
       "      <td>1219144</td>\n",
       "      <td>1218921</td>\n",
       "      <td>1184059</td>\n",
       "      <td>1218653</td>\n",
       "      <td>1068104</td>\n",
       "      <td>1210857</td>\n",
       "      <td>1072064</td>\n",
       "      <td>1209747</td>\n",
       "      <td>1213186</td>\n",
       "      <td>1216832</td>\n",
       "      <td>1217176</td>\n",
       "      <td>1218975</td>\n",
       "      <td>1217842</td>\n",
       "      <td>1219175</td>\n",
       "      <td>1219166</td>\n",
       "      <td>1218286</td>\n",
       "      <td>1218956</td>\n",
       "      <td>1219126</td>\n",
       "      <td>1219098</td>\n",
       "      <td>1213235</td>\n",
       "      <td>1218960</td>\n",
       "      <td>1208183</td>\n",
       "      <td>1218957</td>\n",
       "      <td>1214084</td>\n",
       "      <td>1219246</td>\n",
       "      <td>1218835</td>\n",
       "      <td>1209194</td>\n",
       "      <td>795806</td>\n",
       "      <td>1219204</td>\n",
       "      <td>1219245</td>\n",
       "      <td>1219248</td>\n",
       "      <td>1219211</td>\n",
       "      <td>1218744</td>\n",
       "      <td>1219226</td>\n",
       "      <td>1219209</td>\n",
       "      <td>1219231</td>\n",
       "    </tr>\n",
       "    <tr>\n",
       "      <th>pct null</th>\n",
       "      <td>0</td>\n",
       "      <td>0</td>\n",
       "      <td>0</td>\n",
       "      <td>0</td>\n",
       "      <td>0</td>\n",
       "      <td>0</td>\n",
       "      <td>0</td>\n",
       "      <td>5</td>\n",
       "      <td>92</td>\n",
       "      <td>69</td>\n",
       "      <td>83</td>\n",
       "      <td>83</td>\n",
       "      <td>38</td>\n",
       "      <td>38</td>\n",
       "      <td>55</td>\n",
       "      <td>55</td>\n",
       "      <td>55</td>\n",
       "      <td>95</td>\n",
       "      <td>95</td>\n",
       "      <td>92</td>\n",
       "      <td>92</td>\n",
       "      <td>75</td>\n",
       "      <td>75</td>\n",
       "      <td>75</td>\n",
       "      <td>94</td>\n",
       "      <td>94</td>\n",
       "      <td>96</td>\n",
       "      <td>100</td>\n",
       "      <td>96</td>\n",
       "      <td>89</td>\n",
       "      <td>84</td>\n",
       "      <td>0</td>\n",
       "      <td>0</td>\n",
       "      <td>0</td>\n",
       "      <td>60</td>\n",
       "      <td>91</td>\n",
       "      <td>100</td>\n",
       "      <td>94</td>\n",
       "      <td>92</td>\n",
       "      <td>92</td>\n",
       "      <td>...</td>\n",
       "      <td>100</td>\n",
       "      <td>99</td>\n",
       "      <td>100</td>\n",
       "      <td>100</td>\n",
       "      <td>100</td>\n",
       "      <td>100</td>\n",
       "      <td>97</td>\n",
       "      <td>100</td>\n",
       "      <td>88</td>\n",
       "      <td>99</td>\n",
       "      <td>88</td>\n",
       "      <td>99</td>\n",
       "      <td>100</td>\n",
       "      <td>100</td>\n",
       "      <td>100</td>\n",
       "      <td>100</td>\n",
       "      <td>100</td>\n",
       "      <td>100</td>\n",
       "      <td>100</td>\n",
       "      <td>100</td>\n",
       "      <td>100</td>\n",
       "      <td>100</td>\n",
       "      <td>100</td>\n",
       "      <td>100</td>\n",
       "      <td>100</td>\n",
       "      <td>99</td>\n",
       "      <td>100</td>\n",
       "      <td>100</td>\n",
       "      <td>100</td>\n",
       "      <td>100</td>\n",
       "      <td>99</td>\n",
       "      <td>65</td>\n",
       "      <td>100</td>\n",
       "      <td>100</td>\n",
       "      <td>100</td>\n",
       "      <td>100</td>\n",
       "      <td>100</td>\n",
       "      <td>100</td>\n",
       "      <td>100</td>\n",
       "      <td>100</td>\n",
       "    </tr>\n",
       "    <tr>\n",
       "      <th>count</th>\n",
       "      <td>1219248</td>\n",
       "      <td>1219248</td>\n",
       "      <td>1219244</td>\n",
       "      <td>1219248</td>\n",
       "      <td>1219248</td>\n",
       "      <td>1219248</td>\n",
       "      <td>1219248</td>\n",
       "      <td>1159421</td>\n",
       "      <td>99460</td>\n",
       "      <td>380072</td>\n",
       "      <td>212402</td>\n",
       "      <td>212393</td>\n",
       "      <td>759692</td>\n",
       "      <td>759643</td>\n",
       "      <td>546041</td>\n",
       "      <td>546038</td>\n",
       "      <td>546038</td>\n",
       "      <td>59014</td>\n",
       "      <td>58915</td>\n",
       "      <td>93967</td>\n",
       "      <td>93930</td>\n",
       "      <td>306667</td>\n",
       "      <td>306688</td>\n",
       "      <td>306688</td>\n",
       "      <td>75092</td>\n",
       "      <td>75064</td>\n",
       "      <td>47712</td>\n",
       "      <td>0</td>\n",
       "      <td>51269</td>\n",
       "      <td>132312</td>\n",
       "      <td>196561</td>\n",
       "      <td>1217126</td>\n",
       "      <td>1217124</td>\n",
       "      <td>1217124</td>\n",
       "      <td>482847</td>\n",
       "      <td>103809</td>\n",
       "      <td>0</td>\n",
       "      <td>73070</td>\n",
       "      <td>94086</td>\n",
       "      <td>94086</td>\n",
       "      <td>...</td>\n",
       "      <td>5177</td>\n",
       "      <td>7881</td>\n",
       "      <td>674</td>\n",
       "      <td>3453</td>\n",
       "      <td>104</td>\n",
       "      <td>327</td>\n",
       "      <td>35189</td>\n",
       "      <td>595</td>\n",
       "      <td>151144</td>\n",
       "      <td>8391</td>\n",
       "      <td>147184</td>\n",
       "      <td>9501</td>\n",
       "      <td>6062</td>\n",
       "      <td>2416</td>\n",
       "      <td>2072</td>\n",
       "      <td>273</td>\n",
       "      <td>1406</td>\n",
       "      <td>73</td>\n",
       "      <td>82</td>\n",
       "      <td>962</td>\n",
       "      <td>292</td>\n",
       "      <td>122</td>\n",
       "      <td>150</td>\n",
       "      <td>6013</td>\n",
       "      <td>288</td>\n",
       "      <td>11065</td>\n",
       "      <td>291</td>\n",
       "      <td>5164</td>\n",
       "      <td>2</td>\n",
       "      <td>413</td>\n",
       "      <td>10054</td>\n",
       "      <td>423442</td>\n",
       "      <td>44</td>\n",
       "      <td>3</td>\n",
       "      <td>0</td>\n",
       "      <td>37</td>\n",
       "      <td>504</td>\n",
       "      <td>22</td>\n",
       "      <td>39</td>\n",
       "      <td>17</td>\n",
       "    </tr>\n",
       "    <tr>\n",
       "      <th>unique</th>\n",
       "      <td>1219011</td>\n",
       "      <td>1219086</td>\n",
       "      <td>10859</td>\n",
       "      <td>NaN</td>\n",
       "      <td>1072250</td>\n",
       "      <td>NaN</td>\n",
       "      <td>940993</td>\n",
       "      <td>794325</td>\n",
       "      <td>73399</td>\n",
       "      <td>30960</td>\n",
       "      <td>37072</td>\n",
       "      <td>30019</td>\n",
       "      <td>131752</td>\n",
       "      <td>104362</td>\n",
       "      <td>87614</td>\n",
       "      <td>53008</td>\n",
       "      <td>53008</td>\n",
       "      <td>10198</td>\n",
       "      <td>9006</td>\n",
       "      <td>21331</td>\n",
       "      <td>19303</td>\n",
       "      <td>57252</td>\n",
       "      <td>42731</td>\n",
       "      <td>42731</td>\n",
       "      <td>21967</td>\n",
       "      <td>19381</td>\n",
       "      <td>2953</td>\n",
       "      <td>0</td>\n",
       "      <td>5049</td>\n",
       "      <td>9742</td>\n",
       "      <td>11654</td>\n",
       "      <td>7718</td>\n",
       "      <td>2842</td>\n",
       "      <td>2842</td>\n",
       "      <td>424599</td>\n",
       "      <td>5639</td>\n",
       "      <td>0</td>\n",
       "      <td>8810</td>\n",
       "      <td>8896</td>\n",
       "      <td>8896</td>\n",
       "      <td>...</td>\n",
       "      <td>NaN</td>\n",
       "      <td>NaN</td>\n",
       "      <td>NaN</td>\n",
       "      <td>NaN</td>\n",
       "      <td>NaN</td>\n",
       "      <td>NaN</td>\n",
       "      <td>NaN</td>\n",
       "      <td>NaN</td>\n",
       "      <td>NaN</td>\n",
       "      <td>NaN</td>\n",
       "      <td>NaN</td>\n",
       "      <td>NaN</td>\n",
       "      <td>NaN</td>\n",
       "      <td>NaN</td>\n",
       "      <td>NaN</td>\n",
       "      <td>NaN</td>\n",
       "      <td>NaN</td>\n",
       "      <td>53</td>\n",
       "      <td>47</td>\n",
       "      <td>NaN</td>\n",
       "      <td>NaN</td>\n",
       "      <td>NaN</td>\n",
       "      <td>NaN</td>\n",
       "      <td>NaN</td>\n",
       "      <td>NaN</td>\n",
       "      <td>NaN</td>\n",
       "      <td>NaN</td>\n",
       "      <td>NaN</td>\n",
       "      <td>2</td>\n",
       "      <td>NaN</td>\n",
       "      <td>NaN</td>\n",
       "      <td>NaN</td>\n",
       "      <td>NaN</td>\n",
       "      <td>3</td>\n",
       "      <td>0</td>\n",
       "      <td>24</td>\n",
       "      <td>NaN</td>\n",
       "      <td>14</td>\n",
       "      <td>25</td>\n",
       "      <td>10</td>\n",
       "    </tr>\n",
       "    <tr>\n",
       "      <th>top</th>\n",
       "      <td>8718885890051</td>\n",
       "      <td>http://world-en....</td>\n",
       "      <td>kiliweb</td>\n",
       "      <td>NaN</td>\n",
       "      <td>2017-03-09T16:32...</td>\n",
       "      <td>NaN</td>\n",
       "      <td>2019-03-16T21:14...</td>\n",
       "      <td>Aceite de oliva ...</td>\n",
       "      <td>Pâtes alimentair...</td>\n",
       "      <td>500 g</td>\n",
       "      <td>sachet,plastique</td>\n",
       "      <td>sachet,plastique</td>\n",
       "      <td>Carrefour</td>\n",
       "      <td>carrefour</td>\n",
       "      <td>Snacks</td>\n",
       "      <td>en:snacks</td>\n",
       "      <td>Snacks</td>\n",
       "      <td>France</td>\n",
       "      <td>france</td>\n",
       "      <td>France</td>\n",
       "      <td>france</td>\n",
       "      <td>en:gluten-free</td>\n",
       "      <td>en:gluten-free</td>\n",
       "      <td>Gluten-free</td>\n",
       "      <td>FR 72.264.002 EC</td>\n",
       "      <td>fr-72-264-002-ec</td>\n",
       "      <td>47.833333,-0.333333</td>\n",
       "      <td>NaN</td>\n",
       "      <td>sable-sur-sarthe...</td>\n",
       "      <td>France</td>\n",
       "      <td>Carrefour</td>\n",
       "      <td>France</td>\n",
       "      <td>en:france</td>\n",
       "      <td>France</td>\n",
       "      <td>Almonds.</td>\n",
       "      <td>en:milk</td>\n",
       "      <td>NaN</td>\n",
       "      <td>en:nuts</td>\n",
       "      <td>en:nuts</td>\n",
       "      <td>Nuts</td>\n",
       "      <td>...</td>\n",
       "      <td>NaN</td>\n",
       "      <td>NaN</td>\n",
       "      <td>NaN</td>\n",
       "      <td>NaN</td>\n",
       "      <td>NaN</td>\n",
       "      <td>NaN</td>\n",
       "      <td>NaN</td>\n",
       "      <td>NaN</td>\n",
       "      <td>NaN</td>\n",
       "      <td>NaN</td>\n",
       "      <td>NaN</td>\n",
       "      <td>NaN</td>\n",
       "      <td>NaN</td>\n",
       "      <td>NaN</td>\n",
       "      <td>NaN</td>\n",
       "      <td>NaN</td>\n",
       "      <td>NaN</td>\n",
       "      <td>0.00001</td>\n",
       "      <td>0.0000047</td>\n",
       "      <td>NaN</td>\n",
       "      <td>NaN</td>\n",
       "      <td>NaN</td>\n",
       "      <td>NaN</td>\n",
       "      <td>NaN</td>\n",
       "      <td>NaN</td>\n",
       "      <td>NaN</td>\n",
       "      <td>NaN</td>\n",
       "      <td>NaN</td>\n",
       "      <td>1.59</td>\n",
       "      <td>NaN</td>\n",
       "      <td>NaN</td>\n",
       "      <td>NaN</td>\n",
       "      <td>NaN</td>\n",
       "      <td>44</td>\n",
       "      <td>NaN</td>\n",
       "      <td>0.069</td>\n",
       "      <td>NaN</td>\n",
       "      <td>4</td>\n",
       "      <td>0.02</td>\n",
       "      <td>0.011</td>\n",
       "    </tr>\n",
       "    <tr>\n",
       "      <th>freq</th>\n",
       "      <td>2</td>\n",
       "      <td>2</td>\n",
       "      <td>683379</td>\n",
       "      <td>NaN</td>\n",
       "      <td>20</td>\n",
       "      <td>NaN</td>\n",
       "      <td>80</td>\n",
       "      <td>854</td>\n",
       "      <td>170</td>\n",
       "      <td>17028</td>\n",
       "      <td>4475</td>\n",
       "      <td>9070</td>\n",
       "      <td>12753</td>\n",
       "      <td>13189</td>\n",
       "      <td>12837</td>\n",
       "      <td>12957</td>\n",
       "      <td>12957</td>\n",
       "      <td>14108</td>\n",
       "      <td>14432</td>\n",
       "      <td>21066</td>\n",
       "      <td>21922</td>\n",
       "      <td>21311</td>\n",
       "      <td>26608</td>\n",
       "      <td>26608</td>\n",
       "      <td>403</td>\n",
       "      <td>405</td>\n",
       "      <td>926</td>\n",
       "      <td>NaN</td>\n",
       "      <td>711</td>\n",
       "      <td>38261</td>\n",
       "      <td>15686</td>\n",
       "      <td>419095</td>\n",
       "      <td>610092</td>\n",
       "      <td>610092</td>\n",
       "      <td>232</td>\n",
       "      <td>21477</td>\n",
       "      <td>NaN</td>\n",
       "      <td>6985</td>\n",
       "      <td>9632</td>\n",
       "      <td>9632</td>\n",
       "      <td>...</td>\n",
       "      <td>NaN</td>\n",
       "      <td>NaN</td>\n",
       "      <td>NaN</td>\n",
       "      <td>NaN</td>\n",
       "      <td>NaN</td>\n",
       "      <td>NaN</td>\n",
       "      <td>NaN</td>\n",
       "      <td>NaN</td>\n",
       "      <td>NaN</td>\n",
       "      <td>NaN</td>\n",
       "      <td>NaN</td>\n",
       "      <td>NaN</td>\n",
       "      <td>NaN</td>\n",
       "      <td>NaN</td>\n",
       "      <td>NaN</td>\n",
       "      <td>NaN</td>\n",
       "      <td>NaN</td>\n",
       "      <td>5</td>\n",
       "      <td>22</td>\n",
       "      <td>NaN</td>\n",
       "      <td>NaN</td>\n",
       "      <td>NaN</td>\n",
       "      <td>NaN</td>\n",
       "      <td>NaN</td>\n",
       "      <td>NaN</td>\n",
       "      <td>NaN</td>\n",
       "      <td>NaN</td>\n",
       "      <td>NaN</td>\n",
       "      <td>1</td>\n",
       "      <td>NaN</td>\n",
       "      <td>NaN</td>\n",
       "      <td>NaN</td>\n",
       "      <td>NaN</td>\n",
       "      <td>1</td>\n",
       "      <td>NaN</td>\n",
       "      <td>6</td>\n",
       "      <td>NaN</td>\n",
       "      <td>5</td>\n",
       "      <td>6</td>\n",
       "      <td>3</td>\n",
       "    </tr>\n",
       "    <tr>\n",
       "      <th>mean</th>\n",
       "      <td>NaN</td>\n",
       "      <td>NaN</td>\n",
       "      <td>NaN</td>\n",
       "      <td>-1</td>\n",
       "      <td>NaN</td>\n",
       "      <td>-1</td>\n",
       "      <td>NaN</td>\n",
       "      <td>NaN</td>\n",
       "      <td>NaN</td>\n",
       "      <td>NaN</td>\n",
       "      <td>NaN</td>\n",
       "      <td>NaN</td>\n",
       "      <td>NaN</td>\n",
       "      <td>NaN</td>\n",
       "      <td>NaN</td>\n",
       "      <td>NaN</td>\n",
       "      <td>NaN</td>\n",
       "      <td>NaN</td>\n",
       "      <td>NaN</td>\n",
       "      <td>NaN</td>\n",
       "      <td>NaN</td>\n",
       "      <td>NaN</td>\n",
       "      <td>NaN</td>\n",
       "      <td>NaN</td>\n",
       "      <td>NaN</td>\n",
       "      <td>NaN</td>\n",
       "      <td>NaN</td>\n",
       "      <td>NaN</td>\n",
       "      <td>NaN</td>\n",
       "      <td>NaN</td>\n",
       "      <td>NaN</td>\n",
       "      <td>NaN</td>\n",
       "      <td>NaN</td>\n",
       "      <td>NaN</td>\n",
       "      <td>NaN</td>\n",
       "      <td>NaN</td>\n",
       "      <td>NaN</td>\n",
       "      <td>NaN</td>\n",
       "      <td>NaN</td>\n",
       "      <td>NaN</td>\n",
       "      <td>...</td>\n",
       "      <td>0</td>\n",
       "      <td>0</td>\n",
       "      <td>0</td>\n",
       "      <td>0</td>\n",
       "      <td>0</td>\n",
       "      <td>1</td>\n",
       "      <td>0</td>\n",
       "      <td>0</td>\n",
       "      <td>0</td>\n",
       "      <td>1</td>\n",
       "      <td>0</td>\n",
       "      <td>0</td>\n",
       "      <td>0</td>\n",
       "      <td>0</td>\n",
       "      <td>0</td>\n",
       "      <td>0</td>\n",
       "      <td>0</td>\n",
       "      <td>NaN</td>\n",
       "      <td>NaN</td>\n",
       "      <td>0</td>\n",
       "      <td>2</td>\n",
       "      <td>4</td>\n",
       "      <td>7</td>\n",
       "      <td>41</td>\n",
       "      <td>22</td>\n",
       "      <td>46</td>\n",
       "      <td>15</td>\n",
       "      <td>51</td>\n",
       "      <td>NaN</td>\n",
       "      <td>230</td>\n",
       "      <td>629</td>\n",
       "      <td>9</td>\n",
       "      <td>10</td>\n",
       "      <td>NaN</td>\n",
       "      <td>NaN</td>\n",
       "      <td>NaN</td>\n",
       "      <td>0</td>\n",
       "      <td>NaN</td>\n",
       "      <td>NaN</td>\n",
       "      <td>NaN</td>\n",
       "    </tr>\n",
       "    <tr>\n",
       "      <th>std</th>\n",
       "      <td>NaN</td>\n",
       "      <td>NaN</td>\n",
       "      <td>NaN</td>\n",
       "      <td>74</td>\n",
       "      <td>NaN</td>\n",
       "      <td>74</td>\n",
       "      <td>NaN</td>\n",
       "      <td>NaN</td>\n",
       "      <td>NaN</td>\n",
       "      <td>NaN</td>\n",
       "      <td>NaN</td>\n",
       "      <td>NaN</td>\n",
       "      <td>NaN</td>\n",
       "      <td>NaN</td>\n",
       "      <td>NaN</td>\n",
       "      <td>NaN</td>\n",
       "      <td>NaN</td>\n",
       "      <td>NaN</td>\n",
       "      <td>NaN</td>\n",
       "      <td>NaN</td>\n",
       "      <td>NaN</td>\n",
       "      <td>NaN</td>\n",
       "      <td>NaN</td>\n",
       "      <td>NaN</td>\n",
       "      <td>NaN</td>\n",
       "      <td>NaN</td>\n",
       "      <td>NaN</td>\n",
       "      <td>NaN</td>\n",
       "      <td>NaN</td>\n",
       "      <td>NaN</td>\n",
       "      <td>NaN</td>\n",
       "      <td>NaN</td>\n",
       "      <td>NaN</td>\n",
       "      <td>NaN</td>\n",
       "      <td>NaN</td>\n",
       "      <td>NaN</td>\n",
       "      <td>NaN</td>\n",
       "      <td>NaN</td>\n",
       "      <td>NaN</td>\n",
       "      <td>NaN</td>\n",
       "      <td>...</td>\n",
       "      <td>2</td>\n",
       "      <td>0</td>\n",
       "      <td>4</td>\n",
       "      <td>1</td>\n",
       "      <td>0</td>\n",
       "      <td>7</td>\n",
       "      <td>9</td>\n",
       "      <td>2</td>\n",
       "      <td>6</td>\n",
       "      <td>14</td>\n",
       "      <td>0</td>\n",
       "      <td>9</td>\n",
       "      <td>1</td>\n",
       "      <td>1</td>\n",
       "      <td>0</td>\n",
       "      <td>1</td>\n",
       "      <td>0</td>\n",
       "      <td>NaN</td>\n",
       "      <td>NaN</td>\n",
       "      <td>1</td>\n",
       "      <td>9</td>\n",
       "      <td>36</td>\n",
       "      <td>2</td>\n",
       "      <td>36</td>\n",
       "      <td>34</td>\n",
       "      <td>29</td>\n",
       "      <td>6</td>\n",
       "      <td>23</td>\n",
       "      <td>NaN</td>\n",
       "      <td>364</td>\n",
       "      <td>6599</td>\n",
       "      <td>9</td>\n",
       "      <td>10</td>\n",
       "      <td>NaN</td>\n",
       "      <td>NaN</td>\n",
       "      <td>NaN</td>\n",
       "      <td>1</td>\n",
       "      <td>NaN</td>\n",
       "      <td>NaN</td>\n",
       "      <td>NaN</td>\n",
       "    </tr>\n",
       "    <tr>\n",
       "      <th>min</th>\n",
       "      <td>NaN</td>\n",
       "      <td>NaN</td>\n",
       "      <td>NaN</td>\n",
       "      <td>-128</td>\n",
       "      <td>NaN</td>\n",
       "      <td>-128</td>\n",
       "      <td>NaN</td>\n",
       "      <td>NaN</td>\n",
       "      <td>NaN</td>\n",
       "      <td>NaN</td>\n",
       "      <td>NaN</td>\n",
       "      <td>NaN</td>\n",
       "      <td>NaN</td>\n",
       "      <td>NaN</td>\n",
       "      <td>NaN</td>\n",
       "      <td>NaN</td>\n",
       "      <td>NaN</td>\n",
       "      <td>NaN</td>\n",
       "      <td>NaN</td>\n",
       "      <td>NaN</td>\n",
       "      <td>NaN</td>\n",
       "      <td>NaN</td>\n",
       "      <td>NaN</td>\n",
       "      <td>NaN</td>\n",
       "      <td>NaN</td>\n",
       "      <td>NaN</td>\n",
       "      <td>NaN</td>\n",
       "      <td>NaN</td>\n",
       "      <td>NaN</td>\n",
       "      <td>NaN</td>\n",
       "      <td>NaN</td>\n",
       "      <td>NaN</td>\n",
       "      <td>NaN</td>\n",
       "      <td>NaN</td>\n",
       "      <td>NaN</td>\n",
       "      <td>NaN</td>\n",
       "      <td>NaN</td>\n",
       "      <td>NaN</td>\n",
       "      <td>NaN</td>\n",
       "      <td>NaN</td>\n",
       "      <td>...</td>\n",
       "      <td>0</td>\n",
       "      <td>0</td>\n",
       "      <td>0</td>\n",
       "      <td>0</td>\n",
       "      <td>0</td>\n",
       "      <td>0</td>\n",
       "      <td>0</td>\n",
       "      <td>0</td>\n",
       "      <td>0</td>\n",
       "      <td>0</td>\n",
       "      <td>-0</td>\n",
       "      <td>0</td>\n",
       "      <td>0</td>\n",
       "      <td>-7</td>\n",
       "      <td>0</td>\n",
       "      <td>0</td>\n",
       "      <td>-0</td>\n",
       "      <td>NaN</td>\n",
       "      <td>NaN</td>\n",
       "      <td>0</td>\n",
       "      <td>0</td>\n",
       "      <td>0</td>\n",
       "      <td>0</td>\n",
       "      <td>0</td>\n",
       "      <td>0</td>\n",
       "      <td>0</td>\n",
       "      <td>1</td>\n",
       "      <td>0</td>\n",
       "      <td>NaN</td>\n",
       "      <td>-0</td>\n",
       "      <td>0</td>\n",
       "      <td>-15</td>\n",
       "      <td>-6</td>\n",
       "      <td>NaN</td>\n",
       "      <td>NaN</td>\n",
       "      <td>NaN</td>\n",
       "      <td>0</td>\n",
       "      <td>NaN</td>\n",
       "      <td>NaN</td>\n",
       "      <td>NaN</td>\n",
       "    </tr>\n",
       "    <tr>\n",
       "      <th>25%</th>\n",
       "      <td>NaN</td>\n",
       "      <td>NaN</td>\n",
       "      <td>NaN</td>\n",
       "      <td>-65</td>\n",
       "      <td>NaN</td>\n",
       "      <td>-65</td>\n",
       "      <td>NaN</td>\n",
       "      <td>NaN</td>\n",
       "      <td>NaN</td>\n",
       "      <td>NaN</td>\n",
       "      <td>NaN</td>\n",
       "      <td>NaN</td>\n",
       "      <td>NaN</td>\n",
       "      <td>NaN</td>\n",
       "      <td>NaN</td>\n",
       "      <td>NaN</td>\n",
       "      <td>NaN</td>\n",
       "      <td>NaN</td>\n",
       "      <td>NaN</td>\n",
       "      <td>NaN</td>\n",
       "      <td>NaN</td>\n",
       "      <td>NaN</td>\n",
       "      <td>NaN</td>\n",
       "      <td>NaN</td>\n",
       "      <td>NaN</td>\n",
       "      <td>NaN</td>\n",
       "      <td>NaN</td>\n",
       "      <td>NaN</td>\n",
       "      <td>NaN</td>\n",
       "      <td>NaN</td>\n",
       "      <td>NaN</td>\n",
       "      <td>NaN</td>\n",
       "      <td>NaN</td>\n",
       "      <td>NaN</td>\n",
       "      <td>NaN</td>\n",
       "      <td>NaN</td>\n",
       "      <td>NaN</td>\n",
       "      <td>NaN</td>\n",
       "      <td>NaN</td>\n",
       "      <td>NaN</td>\n",
       "      <td>...</td>\n",
       "      <td>0</td>\n",
       "      <td>0</td>\n",
       "      <td>0</td>\n",
       "      <td>0</td>\n",
       "      <td>0</td>\n",
       "      <td>0</td>\n",
       "      <td>0</td>\n",
       "      <td>0</td>\n",
       "      <td>0</td>\n",
       "      <td>0</td>\n",
       "      <td>0</td>\n",
       "      <td>0</td>\n",
       "      <td>0</td>\n",
       "      <td>0</td>\n",
       "      <td>0</td>\n",
       "      <td>0</td>\n",
       "      <td>0</td>\n",
       "      <td>NaN</td>\n",
       "      <td>NaN</td>\n",
       "      <td>0</td>\n",
       "      <td>0</td>\n",
       "      <td>0</td>\n",
       "      <td>6</td>\n",
       "      <td>7</td>\n",
       "      <td>0</td>\n",
       "      <td>16</td>\n",
       "      <td>14</td>\n",
       "      <td>32</td>\n",
       "      <td>NaN</td>\n",
       "      <td>0</td>\n",
       "      <td>111</td>\n",
       "      <td>2</td>\n",
       "      <td>0</td>\n",
       "      <td>NaN</td>\n",
       "      <td>NaN</td>\n",
       "      <td>NaN</td>\n",
       "      <td>0</td>\n",
       "      <td>NaN</td>\n",
       "      <td>NaN</td>\n",
       "      <td>NaN</td>\n",
       "    </tr>\n",
       "    <tr>\n",
       "      <th>50%</th>\n",
       "      <td>NaN</td>\n",
       "      <td>NaN</td>\n",
       "      <td>NaN</td>\n",
       "      <td>-1</td>\n",
       "      <td>NaN</td>\n",
       "      <td>-1</td>\n",
       "      <td>NaN</td>\n",
       "      <td>NaN</td>\n",
       "      <td>NaN</td>\n",
       "      <td>NaN</td>\n",
       "      <td>NaN</td>\n",
       "      <td>NaN</td>\n",
       "      <td>NaN</td>\n",
       "      <td>NaN</td>\n",
       "      <td>NaN</td>\n",
       "      <td>NaN</td>\n",
       "      <td>NaN</td>\n",
       "      <td>NaN</td>\n",
       "      <td>NaN</td>\n",
       "      <td>NaN</td>\n",
       "      <td>NaN</td>\n",
       "      <td>NaN</td>\n",
       "      <td>NaN</td>\n",
       "      <td>NaN</td>\n",
       "      <td>NaN</td>\n",
       "      <td>NaN</td>\n",
       "      <td>NaN</td>\n",
       "      <td>NaN</td>\n",
       "      <td>NaN</td>\n",
       "      <td>NaN</td>\n",
       "      <td>NaN</td>\n",
       "      <td>NaN</td>\n",
       "      <td>NaN</td>\n",
       "      <td>NaN</td>\n",
       "      <td>NaN</td>\n",
       "      <td>NaN</td>\n",
       "      <td>NaN</td>\n",
       "      <td>NaN</td>\n",
       "      <td>NaN</td>\n",
       "      <td>NaN</td>\n",
       "      <td>...</td>\n",
       "      <td>0</td>\n",
       "      <td>0</td>\n",
       "      <td>0</td>\n",
       "      <td>0</td>\n",
       "      <td>0</td>\n",
       "      <td>0</td>\n",
       "      <td>0</td>\n",
       "      <td>0</td>\n",
       "      <td>0</td>\n",
       "      <td>0</td>\n",
       "      <td>0</td>\n",
       "      <td>0</td>\n",
       "      <td>0</td>\n",
       "      <td>0</td>\n",
       "      <td>0</td>\n",
       "      <td>0</td>\n",
       "      <td>0</td>\n",
       "      <td>NaN</td>\n",
       "      <td>NaN</td>\n",
       "      <td>0</td>\n",
       "      <td>0</td>\n",
       "      <td>0</td>\n",
       "      <td>7</td>\n",
       "      <td>35</td>\n",
       "      <td>1</td>\n",
       "      <td>50</td>\n",
       "      <td>15</td>\n",
       "      <td>52</td>\n",
       "      <td>NaN</td>\n",
       "      <td>103</td>\n",
       "      <td>328</td>\n",
       "      <td>10</td>\n",
       "      <td>9</td>\n",
       "      <td>NaN</td>\n",
       "      <td>NaN</td>\n",
       "      <td>NaN</td>\n",
       "      <td>0</td>\n",
       "      <td>NaN</td>\n",
       "      <td>NaN</td>\n",
       "      <td>NaN</td>\n",
       "    </tr>\n",
       "    <tr>\n",
       "      <th>75%</th>\n",
       "      <td>NaN</td>\n",
       "      <td>NaN</td>\n",
       "      <td>NaN</td>\n",
       "      <td>63</td>\n",
       "      <td>NaN</td>\n",
       "      <td>63</td>\n",
       "      <td>NaN</td>\n",
       "      <td>NaN</td>\n",
       "      <td>NaN</td>\n",
       "      <td>NaN</td>\n",
       "      <td>NaN</td>\n",
       "      <td>NaN</td>\n",
       "      <td>NaN</td>\n",
       "      <td>NaN</td>\n",
       "      <td>NaN</td>\n",
       "      <td>NaN</td>\n",
       "      <td>NaN</td>\n",
       "      <td>NaN</td>\n",
       "      <td>NaN</td>\n",
       "      <td>NaN</td>\n",
       "      <td>NaN</td>\n",
       "      <td>NaN</td>\n",
       "      <td>NaN</td>\n",
       "      <td>NaN</td>\n",
       "      <td>NaN</td>\n",
       "      <td>NaN</td>\n",
       "      <td>NaN</td>\n",
       "      <td>NaN</td>\n",
       "      <td>NaN</td>\n",
       "      <td>NaN</td>\n",
       "      <td>NaN</td>\n",
       "      <td>NaN</td>\n",
       "      <td>NaN</td>\n",
       "      <td>NaN</td>\n",
       "      <td>NaN</td>\n",
       "      <td>NaN</td>\n",
       "      <td>NaN</td>\n",
       "      <td>NaN</td>\n",
       "      <td>NaN</td>\n",
       "      <td>NaN</td>\n",
       "      <td>...</td>\n",
       "      <td>0</td>\n",
       "      <td>0</td>\n",
       "      <td>0</td>\n",
       "      <td>0</td>\n",
       "      <td>0</td>\n",
       "      <td>0</td>\n",
       "      <td>0</td>\n",
       "      <td>0</td>\n",
       "      <td>0</td>\n",
       "      <td>0</td>\n",
       "      <td>0</td>\n",
       "      <td>0</td>\n",
       "      <td>0</td>\n",
       "      <td>0</td>\n",
       "      <td>0</td>\n",
       "      <td>0</td>\n",
       "      <td>0</td>\n",
       "      <td>NaN</td>\n",
       "      <td>NaN</td>\n",
       "      <td>0</td>\n",
       "      <td>0</td>\n",
       "      <td>0</td>\n",
       "      <td>8</td>\n",
       "      <td>70</td>\n",
       "      <td>36</td>\n",
       "      <td>63</td>\n",
       "      <td>15</td>\n",
       "      <td>70</td>\n",
       "      <td>NaN</td>\n",
       "      <td>289</td>\n",
       "      <td>614</td>\n",
       "      <td>16</td>\n",
       "      <td>19</td>\n",
       "      <td>NaN</td>\n",
       "      <td>NaN</td>\n",
       "      <td>NaN</td>\n",
       "      <td>0</td>\n",
       "      <td>NaN</td>\n",
       "      <td>NaN</td>\n",
       "      <td>NaN</td>\n",
       "    </tr>\n",
       "    <tr>\n",
       "      <th>max</th>\n",
       "      <td>NaN</td>\n",
       "      <td>NaN</td>\n",
       "      <td>NaN</td>\n",
       "      <td>127</td>\n",
       "      <td>NaN</td>\n",
       "      <td>127</td>\n",
       "      <td>NaN</td>\n",
       "      <td>NaN</td>\n",
       "      <td>NaN</td>\n",
       "      <td>NaN</td>\n",
       "      <td>NaN</td>\n",
       "      <td>NaN</td>\n",
       "      <td>NaN</td>\n",
       "      <td>NaN</td>\n",
       "      <td>NaN</td>\n",
       "      <td>NaN</td>\n",
       "      <td>NaN</td>\n",
       "      <td>NaN</td>\n",
       "      <td>NaN</td>\n",
       "      <td>NaN</td>\n",
       "      <td>NaN</td>\n",
       "      <td>NaN</td>\n",
       "      <td>NaN</td>\n",
       "      <td>NaN</td>\n",
       "      <td>NaN</td>\n",
       "      <td>NaN</td>\n",
       "      <td>NaN</td>\n",
       "      <td>NaN</td>\n",
       "      <td>NaN</td>\n",
       "      <td>NaN</td>\n",
       "      <td>NaN</td>\n",
       "      <td>NaN</td>\n",
       "      <td>NaN</td>\n",
       "      <td>NaN</td>\n",
       "      <td>NaN</td>\n",
       "      <td>NaN</td>\n",
       "      <td>NaN</td>\n",
       "      <td>NaN</td>\n",
       "      <td>NaN</td>\n",
       "      <td>NaN</td>\n",
       "      <td>...</td>\n",
       "      <td>167</td>\n",
       "      <td>31</td>\n",
       "      <td>100</td>\n",
       "      <td>50</td>\n",
       "      <td>2</td>\n",
       "      <td>93</td>\n",
       "      <td>773</td>\n",
       "      <td>50</td>\n",
       "      <td>930</td>\n",
       "      <td>658</td>\n",
       "      <td>50</td>\n",
       "      <td>506</td>\n",
       "      <td>40</td>\n",
       "      <td>69</td>\n",
       "      <td>6</td>\n",
       "      <td>17</td>\n",
       "      <td>14</td>\n",
       "      <td>NaN</td>\n",
       "      <td>NaN</td>\n",
       "      <td>31</td>\n",
       "      <td>100</td>\n",
       "      <td>400</td>\n",
       "      <td>8</td>\n",
       "      <td>100</td>\n",
       "      <td>100</td>\n",
       "      <td>100</td>\n",
       "      <td>100</td>\n",
       "      <td>100</td>\n",
       "      <td>NaN</td>\n",
       "      <td>2842</td>\n",
       "      <td>656299</td>\n",
       "      <td>40</td>\n",
       "      <td>25</td>\n",
       "      <td>NaN</td>\n",
       "      <td>NaN</td>\n",
       "      <td>NaN</td>\n",
       "      <td>12</td>\n",
       "      <td>NaN</td>\n",
       "      <td>NaN</td>\n",
       "      <td>NaN</td>\n",
       "    </tr>\n",
       "  </tbody>\n",
       "</table>\n",
       "<p>14 rows × 181 columns</p>\n",
       "</div>"
      ],
      "text/plain": [
       "                   code                  url  ... inositol_100g carnitine_100g\n",
       "type             object               object  ...      category       category\n",
       "nb null               0                    0  ...       1219209        1219231\n",
       "pct null              0                    0  ...           100            100\n",
       "count           1219248              1219248  ...            39             17\n",
       "unique          1219011              1219086  ...            25             10\n",
       "top       8718885890051  http://world-en....  ...          0.02          0.011\n",
       "freq                  2                    2  ...             6              3\n",
       "mean                NaN                  NaN  ...           NaN            NaN\n",
       "std                 NaN                  NaN  ...           NaN            NaN\n",
       "min                 NaN                  NaN  ...           NaN            NaN\n",
       "25%                 NaN                  NaN  ...           NaN            NaN\n",
       "50%                 NaN                  NaN  ...           NaN            NaN\n",
       "75%                 NaN                  NaN  ...           NaN            NaN\n",
       "max                 NaN                  NaN  ...           NaN            NaN\n",
       "\n",
       "[14 rows x 181 columns]"
      ]
     },
     "execution_count": 18,
     "metadata": {
      "tags": []
     },
     "output_type": "execute_result"
    }
   ],
   "source": [
    "# General description \n",
    "desc_df = df.describe(include='all')\n",
    "\n",
    "# Types and content of the columns\n",
    "desc_type = pd.DataFrame(df.dtypes, columns=['type']).T\n",
    "nb_null = (dfshape[0]-desc_df.loc[\"count\"].T)\n",
    "pct_null = (dfshape[0]-desc_df.loc[\"count\"].T)*100/dfshape[0]\n",
    "desc_null = pd.DataFrame([nb_null, pct_null], index=['nb null','pct null'])\n",
    "\n",
    "# Concatenate general, type and null stats\n",
    "my_desc = pd.concat([desc_type, desc_null, desc_df])\n",
    "my_desc"
   ]
  },
  {
   "cell_type": "code",
   "execution_count": 19,
   "metadata": {
    "colab": {
     "base_uri": "https://localhost:8080/",
     "height": 54
    },
    "colab_type": "code",
    "executionInfo": {
     "elapsed": 53420,
     "status": "ok",
     "timestamp": 1587663199482,
     "user": {
      "displayName": "Maryse Muller",
      "photoUrl": "",
      "userId": "13230828717959946182"
     },
     "user_tz": -120
    },
    "id": "pf6xVlEuNmUO",
    "outputId": "10ca0134-dd43-466e-d07a-ff607ef6df31"
   },
   "outputs": [
    {
     "name": "stdout",
     "output_type": "stream",
     "text": [
      "('code', 'url', 'creator', 'created_t', 'created_datetime', 'last_modified_t', 'last_modified_datetime', 'product_name', 'generic_name', 'quantity', 'packaging', 'packaging_tags', 'brands', 'brands_tags', 'categories', 'categories_tags', 'categories_en', 'origins', 'origins_tags', 'manufacturing_places', 'manufacturing_places_tags', 'labels', 'labels_tags', 'labels_en', 'emb_codes', 'emb_codes_tags', 'first_packaging_code_geo', 'cities', 'cities_tags', 'purchase_places', 'stores', 'countries', 'countries_tags', 'countries_en', 'ingredients_text', 'allergens', 'allergens_en', 'traces', 'traces_tags', 'traces_en', 'serving_size', 'serving_quantity', 'no_nutriments', 'additives_n', 'additives', 'additives_tags', 'additives_en', 'ingredients_from_palm_oil_n', 'ingredients_from_palm_oil', 'ingredients_from_palm_oil_tags', 'ingredients_that_may_be_from_palm_oil_n', 'ingredients_that_may_be_from_palm_oil', 'ingredients_that_may_be_from_palm_oil_tags', 'nutriscore_score', 'nutriscore_grade', 'nova_group', 'pnns_groups_1', 'pnns_groups_2', 'states', 'states_tags', 'states_en', 'brand_owner', 'main_category', 'main_category_en', 'image_url', 'image_small_url', 'image_ingredients_url', 'image_ingredients_small_url', 'image_nutrition_url', 'image_nutrition_small_url', 'energy-kj_100g', 'energy-kcal_100g', 'energy_100g', 'energy-from-fat_100g', 'fat_100g', 'saturated-fat_100g', '-butyric-acid_100g', '-caproic-acid_100g', '-caprylic-acid_100g', '-capric-acid_100g', '-lauric-acid_100g', '-myristic-acid_100g', '-palmitic-acid_100g', '-stearic-acid_100g', '-arachidic-acid_100g', '-behenic-acid_100g', '-lignoceric-acid_100g', '-cerotic-acid_100g', '-montanic-acid_100g', '-melissic-acid_100g', 'monounsaturated-fat_100g', 'polyunsaturated-fat_100g', 'omega-3-fat_100g', '-alpha-linolenic-acid_100g', '-eicosapentaenoic-acid_100g', '-docosahexaenoic-acid_100g', 'omega-6-fat_100g', '-linoleic-acid_100g', '-arachidonic-acid_100g', '-gamma-linolenic-acid_100g', '-dihomo-gamma-linolenic-acid_100g', 'omega-9-fat_100g', '-oleic-acid_100g', '-elaidic-acid_100g', '-gondoic-acid_100g', '-mead-acid_100g', '-erucic-acid_100g', '-nervonic-acid_100g', 'trans-fat_100g', 'cholesterol_100g', 'carbohydrates_100g', 'sugars_100g', '-sucrose_100g', '-glucose_100g', '-fructose_100g', '-lactose_100g', '-maltose_100g', '-maltodextrins_100g', 'starch_100g', 'polyols_100g', 'fiber_100g', '-soluble-fiber_100g', '-insoluble-fiber_100g', 'proteins_100g', 'casein_100g', 'serum-proteins_100g', 'nucleotides_100g', 'salt_100g', 'sodium_100g', 'alcohol_100g', 'vitamin-a_100g', 'beta-carotene_100g', 'vitamin-d_100g', 'vitamin-e_100g', 'vitamin-k_100g', 'vitamin-c_100g', 'vitamin-b1_100g', 'vitamin-b2_100g', 'vitamin-pp_100g', 'vitamin-b6_100g', 'vitamin-b9_100g', 'folates_100g', 'vitamin-b12_100g', 'biotin_100g', 'pantothenic-acid_100g', 'silica_100g', 'bicarbonate_100g', 'potassium_100g', 'chloride_100g', 'calcium_100g', 'phosphorus_100g', 'iron_100g', 'magnesium_100g', 'zinc_100g', 'copper_100g', 'manganese_100g', 'fluoride_100g', 'selenium_100g', 'chromium_100g', 'molybdenum_100g', 'iodine_100g', 'caffeine_100g', 'taurine_100g', 'ph_100g', 'fruits-vegetables-nuts_100g', 'fruits-vegetables-nuts-dried_100g', 'fruits-vegetables-nuts-estimate_100g', 'collagen-meat-protein-ratio_100g', 'cocoa_100g', 'chlorophyl_100g', 'carbon-footprint_100g', 'carbon-footprint-from-meat-or-fish_100g', 'nutrition-score-fr_100g', 'nutrition-score-uk_100g', 'glycemic-index_100g', 'water-hardness_100g', 'choline_100g', 'phylloquinone_100g', 'beta-glucan_100g', 'inositol_100g', 'carnitine_100g')\n"
     ]
    }
   ],
   "source": [
    "print(tuple(df.columns.values))"
   ]
  },
  {
   "cell_type": "markdown",
   "metadata": {
    "colab_type": "text",
    "id": "FFcVPNX4H18K"
   },
   "source": [
    "14 columns with no entry, no row has all the columns filled."
   ]
  },
  {
   "cell_type": "code",
   "execution_count": 20,
   "metadata": {
    "colab": {
     "base_uri": "https://localhost:8080/",
     "height": 75
    },
    "colab_type": "code",
    "executionInfo": {
     "elapsed": 53407,
     "status": "ok",
     "timestamp": 1587663199483,
     "user": {
      "displayName": "Maryse Muller",
      "photoUrl": "",
      "userId": "13230828717959946182"
     },
     "user_tz": -120
    },
    "id": "28eJMmE3dmQU",
    "outputId": "8f51893d-d28a-4c7a-e143-ea8a2c1a92dd"
   },
   "outputs": [
    {
     "data": {
      "text/html": [
       "\n",
       "                <audio controls=\"controls\" autoplay=\"autoplay\">\n",
       "                    <source src=\"data:audio/wav;base64,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\" type=\"audio/wav\" />\n",
       "                    Your browser does not support the audio element.\n",
       "                </audio>\n",
       "              "
      ],
      "text/plain": [
       "<IPython.lib.display.Audio object>"
      ]
     },
     "execution_count": 20,
     "metadata": {
      "tags": []
     },
     "output_type": "execute_result"
    }
   ],
   "source": [
    "speak('Description overview done')"
   ]
  },
  {
   "cell_type": "markdown",
   "metadata": {
    "colab_type": "text",
    "id": "QxtqeNn2zvQq"
   },
   "source": [
    "### 0.4 Pandas Data Profiling report"
   ]
  },
  {
   "cell_type": "code",
   "execution_count": 0,
   "metadata": {
    "colab": {},
    "colab_type": "code",
    "id": "zBs1wumbGl5c",
    "scrolled": true
   },
   "outputs": [],
   "source": [
    "# Generating a Data Profiling html report via pandas_profiling\n",
    "# profile = pandas_profiling.ProfileReport(df) #, check_correlation = False\n",
    "# profile.to_file(\"OFFacts_report2_3.html\")\n",
    "# profile"
   ]
  },
  {
   "cell_type": "code",
   "execution_count": 0,
   "metadata": {
    "colab": {},
    "colab_type": "code",
    "id": "VJ6tjq8lGl5j"
   },
   "outputs": [],
   "source": [
    "# # extract rejected columns (based on correlation coeff greater than 0.9)\n",
    "# rejected_variables_90 = profile.get_rejected_variables(threshold=0.9)\n",
    "# len(rejected_variables_90)"
   ]
  },
  {
   "cell_type": "code",
   "execution_count": 0,
   "metadata": {
    "colab": {},
    "colab_type": "code",
    "id": "kGk6MG3tc6pH"
   },
   "outputs": [],
   "source": [
    "# speak('Pandas profiling report generated')"
   ]
  },
  {
   "cell_type": "markdown",
   "metadata": {
    "colab_type": "text",
    "id": "kSOMHex_iPiA"
   },
   "source": [
    "Main conclusions : "
   ]
  },
  {
   "cell_type": "markdown",
   "metadata": {
    "colab_type": "text",
    "id": "KAntGCiDBi4e"
   },
   "source": [
    "## 1 Dropping columns and rows"
   ]
  },
  {
   "cell_type": "markdown",
   "metadata": {
    "colab_type": "text",
    "id": "NXGF894W36tM"
   },
   "source": [
    "### 1.1 Filtering out non relevant columns\n",
    "Some columns can immediately be classified as non useful for our project and therefore dropped : \n",
    "- 5 columns concerning to the image of the product: 'image_small_url',\t'image_ingredients_url',\t'image_ingredients_small_url',\t'image_nutrition_url'\t'image_nutrition_small_url'\n",
    "- 3 columns concerning the level of completion of the row: 'states', 'states_tags', 'states_en' \n"
   ]
  },
  {
   "cell_type": "code",
   "execution_count": 24,
   "metadata": {
    "colab": {
     "base_uri": "https://localhost:8080/",
     "height": 34
    },
    "colab_type": "code",
    "executionInfo": {
     "elapsed": 2560,
     "status": "ok",
     "timestamp": 1587663203530,
     "user": {
      "displayName": "Maryse Muller",
      "photoUrl": "",
      "userId": "13230828717959946182"
     },
     "user_tz": -120
    },
    "id": "X_Bn-WWD4kbg",
    "outputId": "90b53c65-e748-493f-c179-ad09b6ccce16"
   },
   "outputs": [
    {
     "data": {
      "text/plain": [
       "(1219248, 172)"
      ]
     },
     "execution_count": 24,
     "metadata": {
      "tags": []
     },
     "output_type": "execute_result"
    }
   ],
   "source": [
    "li_col_del = ['image_url', 'image_small_url',\t'image_ingredients_url',\n",
    "              'image_ingredients_small_url',\t'image_nutrition_url',\n",
    "              'image_nutrition_small_url',\n",
    "              'states', 'states_tags', 'states_en' ]\n",
    "# Filtering out 8 non relevant columns\n",
    "df.drop(columns=li_col_del, inplace=True)\n",
    "df.shape"
   ]
  },
  {
   "cell_type": "markdown",
   "metadata": {
    "colab_type": "text",
    "id": "TnNBCHCn56zE"
   },
   "source": [
    "### 1.2 Almost empty columns\n",
    "\n",
    "Let's see how the columns are filled.\n"
   ]
  },
  {
   "cell_type": "code",
   "execution_count": 25,
   "metadata": {
    "colab": {
     "base_uri": "https://localhost:8080/",
     "height": 176
    },
    "colab_type": "code",
    "executionInfo": {
     "elapsed": 3065,
     "status": "ok",
     "timestamp": 1587663204053,
     "user": {
      "displayName": "Maryse Muller",
      "photoUrl": "",
      "userId": "13230828717959946182"
     },
     "user_tz": -120
    },
    "id": "T9rGJZ4kOexI",
    "outputId": "17bdc965-5648-41a0-fca5-8d169dd7f9ab"
   },
   "outputs": [
    {
     "data": {
      "text/html": [
       "<div>\n",
       "<style scoped>\n",
       "    .dataframe tbody tr th:only-of-type {\n",
       "        vertical-align: middle;\n",
       "    }\n",
       "\n",
       "    .dataframe tbody tr th {\n",
       "        vertical-align: top;\n",
       "    }\n",
       "\n",
       "    .dataframe thead th {\n",
       "        text-align: right;\n",
       "    }\n",
       "</style>\n",
       "<table border=\"1\" class=\"dataframe\">\n",
       "  <thead>\n",
       "    <tr style=\"text-align: right;\">\n",
       "      <th></th>\n",
       "      <th>ingredients_from_palm_oil</th>\n",
       "      <th>cities</th>\n",
       "      <th>ingredients_that_may_be_from_palm_oil</th>\n",
       "      <th>-lignoceric-acid_100g</th>\n",
       "      <th>-elaidic-acid_100g</th>\n",
       "      <th>-gondoic-acid_100g</th>\n",
       "      <th>-mead-acid_100g</th>\n",
       "      <th>-erucic-acid_100g</th>\n",
       "      <th>-nervonic-acid_100g</th>\n",
       "      <th>allergens_en</th>\n",
       "      <th>-melissic-acid_100g</th>\n",
       "      <th>no_nutriments</th>\n",
       "      <th>-caproic-acid_100g</th>\n",
       "      <th>water-hardness_100g</th>\n",
       "      <th>-butyric-acid_100g</th>\n",
       "      <th>-dihomo-gamma-linolenic-acid_100g</th>\n",
       "      <th>-caprylic-acid_100g</th>\n",
       "      <th>-myristic-acid_100g</th>\n",
       "      <th>-stearic-acid_100g</th>\n",
       "      <th>chlorophyl_100g</th>\n",
       "      <th>-montanic-acid_100g</th>\n",
       "      <th>glycemic-index_100g</th>\n",
       "      <th>-cerotic-acid_100g</th>\n",
       "      <th>-palmitic-acid_100g</th>\n",
       "      <th>-capric-acid_100g</th>\n",
       "      <th>-gamma-linolenic-acid_100g</th>\n",
       "      <th>-behenic-acid_100g</th>\n",
       "      <th>-lauric-acid_100g</th>\n",
       "      <th>-maltose_100g</th>\n",
       "      <th>nucleotides_100g</th>\n",
       "      <th>carnitine_100g</th>\n",
       "      <th>-maltodextrins_100g</th>\n",
       "      <th>-arachidic-acid_100g</th>\n",
       "      <th>-oleic-acid_100g</th>\n",
       "      <th>beta-glucan_100g</th>\n",
       "      <th>-arachidonic-acid_100g</th>\n",
       "      <th>additives</th>\n",
       "      <th>serum-proteins_100g</th>\n",
       "      <th>choline_100g</th>\n",
       "      <th>inositol_100g</th>\n",
       "      <th>...</th>\n",
       "      <th>labels_tags</th>\n",
       "      <th>fiber_100g</th>\n",
       "      <th>quantity</th>\n",
       "      <th>nova_group</th>\n",
       "      <th>nutriscore_score</th>\n",
       "      <th>nutriscore_grade</th>\n",
       "      <th>nutrition-score-fr_100g</th>\n",
       "      <th>ingredients_text</th>\n",
       "      <th>additives_n</th>\n",
       "      <th>ingredients_from_palm_oil_n</th>\n",
       "      <th>ingredients_that_may_be_from_palm_oil_n</th>\n",
       "      <th>main_category</th>\n",
       "      <th>categories_en</th>\n",
       "      <th>categories_tags</th>\n",
       "      <th>main_category_en</th>\n",
       "      <th>categories</th>\n",
       "      <th>brands_tags</th>\n",
       "      <th>brands</th>\n",
       "      <th>energy-kcal_100g</th>\n",
       "      <th>saturated-fat_100g</th>\n",
       "      <th>sugars_100g</th>\n",
       "      <th>sodium_100g</th>\n",
       "      <th>salt_100g</th>\n",
       "      <th>carbohydrates_100g</th>\n",
       "      <th>fat_100g</th>\n",
       "      <th>proteins_100g</th>\n",
       "      <th>energy_100g</th>\n",
       "      <th>product_name</th>\n",
       "      <th>pnns_groups_1</th>\n",
       "      <th>countries_en</th>\n",
       "      <th>countries_tags</th>\n",
       "      <th>countries</th>\n",
       "      <th>pnns_groups_2</th>\n",
       "      <th>creator</th>\n",
       "      <th>last_modified_t</th>\n",
       "      <th>created_datetime</th>\n",
       "      <th>created_t</th>\n",
       "      <th>url</th>\n",
       "      <th>last_modified_datetime</th>\n",
       "      <th>code</th>\n",
       "    </tr>\n",
       "  </thead>\n",
       "  <tbody>\n",
       "    <tr>\n",
       "      <th>nb</th>\n",
       "      <td>0</td>\n",
       "      <td>0</td>\n",
       "      <td>0</td>\n",
       "      <td>0</td>\n",
       "      <td>0</td>\n",
       "      <td>0</td>\n",
       "      <td>0</td>\n",
       "      <td>0</td>\n",
       "      <td>0</td>\n",
       "      <td>0</td>\n",
       "      <td>0</td>\n",
       "      <td>0</td>\n",
       "      <td>0</td>\n",
       "      <td>0</td>\n",
       "      <td>1</td>\n",
       "      <td>1</td>\n",
       "      <td>1</td>\n",
       "      <td>1</td>\n",
       "      <td>1</td>\n",
       "      <td>2</td>\n",
       "      <td>2</td>\n",
       "      <td>3</td>\n",
       "      <td>3</td>\n",
       "      <td>3</td>\n",
       "      <td>4</td>\n",
       "      <td>5</td>\n",
       "      <td>7</td>\n",
       "      <td>9</td>\n",
       "      <td>9</td>\n",
       "      <td>13</td>\n",
       "      <td>17</td>\n",
       "      <td>17</td>\n",
       "      <td>21</td>\n",
       "      <td>22</td>\n",
       "      <td>22</td>\n",
       "      <td>29</td>\n",
       "      <td>29</td>\n",
       "      <td>36</td>\n",
       "      <td>37</td>\n",
       "      <td>39</td>\n",
       "      <td>...</td>\n",
       "      <td>306688</td>\n",
       "      <td>318855</td>\n",
       "      <td>380072</td>\n",
       "      <td>391266</td>\n",
       "      <td>423433</td>\n",
       "      <td>423433</td>\n",
       "      <td>423442</td>\n",
       "      <td>482847</td>\n",
       "      <td>482847</td>\n",
       "      <td>482847</td>\n",
       "      <td>482847</td>\n",
       "      <td>546038</td>\n",
       "      <td>546038</td>\n",
       "      <td>546038</td>\n",
       "      <td>546038</td>\n",
       "      <td>546041</td>\n",
       "      <td>759643</td>\n",
       "      <td>759692</td>\n",
       "      <td>889132</td>\n",
       "      <td>922913</td>\n",
       "      <td>939902</td>\n",
       "      <td>940374</td>\n",
       "      <td>940395</td>\n",
       "      <td>954246</td>\n",
       "      <td>954270</td>\n",
       "      <td>955750</td>\n",
       "      <td>961845</td>\n",
       "      <td>1159421</td>\n",
       "      <td>1206218</td>\n",
       "      <td>1217124</td>\n",
       "      <td>1217124</td>\n",
       "      <td>1217126</td>\n",
       "      <td>1218618</td>\n",
       "      <td>1219244</td>\n",
       "      <td>1219248</td>\n",
       "      <td>1219248</td>\n",
       "      <td>1219248</td>\n",
       "      <td>1219248</td>\n",
       "      <td>1219248</td>\n",
       "      <td>1219248</td>\n",
       "    </tr>\n",
       "  </tbody>\n",
       "</table>\n",
       "<p>1 rows × 172 columns</p>\n",
       "</div>"
      ],
      "text/plain": [
       "    ingredients_from_palm_oil  cities  ...  last_modified_datetime     code\n",
       "nb                    0             0  ...              1219248     1219248\n",
       "\n",
       "[1 rows x 172 columns]"
      ]
     },
     "execution_count": 25,
     "metadata": {
      "tags": []
     },
     "output_type": "execute_result"
    }
   ],
   "source": [
    "# Checking nb of not null values in the columns\n",
    "nbnotnulldf = pd.DataFrame((~df.isna()).sum(axis =0), columns=['nb'])\n",
    "nbnotnulldf.sort_values(by=['nb'], axis=0, ascending=True, inplace=True)\n",
    "nbnotnulldf.T.head(150)"
   ]
  },
  {
   "cell_type": "code",
   "execution_count": 26,
   "metadata": {
    "colab": {
     "base_uri": "https://localhost:8080/",
     "height": 141
    },
    "colab_type": "code",
    "executionInfo": {
     "elapsed": 3041,
     "status": "ok",
     "timestamp": 1587663204055,
     "user": {
      "displayName": "Maryse Muller",
      "photoUrl": "",
      "userId": "13230828717959946182"
     },
     "user_tz": -120
    },
    "id": "x7WIE44A11fY",
    "outputId": "8569048c-9bf9-45c1-f735-eafca066f870"
   },
   "outputs": [
    {
     "data": {
      "text/plain": [
       "(-1, 0]            14\n",
       "(0, 5]             12\n",
       "(5, 10]             3\n",
       "(10, 100]          19\n",
       "(100, 300]         11\n",
       "(300, 1000000]    100\n",
       "Name: nb, dtype: int64"
      ]
     },
     "execution_count": 26,
     "metadata": {
      "tags": []
     },
     "output_type": "execute_result"
    }
   ],
   "source": [
    "# Displaying a table with bins\n",
    "mask = pd.cut(nbnotnulldf['nb'], [-1,0,5,10,100,300,1000000]) # \n",
    "mask.value_counts(normalize=False, sort=False)"
   ]
  },
  {
   "cell_type": "code",
   "execution_count": 27,
   "metadata": {
    "colab": {
     "base_uri": "https://localhost:8080/",
     "height": 81,
     "referenced_widgets": [
      "aac29331c8854594a699d1a282959c4d",
      "44402d2cb33746dc935e0f853711436a",
      "e90cb4879bb8417986e93b3424f8fa18",
      "0063a30ee7fd45d3b6cfb003c9678b22",
      "a9423e638b77410aa39aed15a28dbfd8",
      "83a4acae68de402bab8bfadb33f3531b",
      "fbed1ea73d9740dd845c8316c95be65f",
      "4e326f21c3484b13866ff6a5f89685d4",
      "93b3e779f0d1409aae8799aee8138217",
      "7e28fb95c7174b09b5141c4cd982cc0f"
     ]
    },
    "colab_type": "code",
    "executionInfo": {
     "elapsed": 3015,
     "status": "ok",
     "timestamp": 1587663204056,
     "user": {
      "displayName": "Maryse Muller",
      "photoUrl": "",
      "userId": "13230828717959946182"
     },
     "user_tz": -120
    },
    "id": "ZJ4PKpGyxgkR",
    "outputId": "2d73e5fe-179c-41c6-c0ea-19891669716e"
   },
   "outputs": [
    {
     "data": {
      "application/vnd.jupyter.widget-view+json": {
       "model_id": "aac29331c8854594a699d1a282959c4d",
       "version_major": 2,
       "version_minor": 0
      },
      "text/plain": [
       "interactive(children=(IntSlider(value=451, description='n', max=1000, min=1, step=50), Button(description='Run…"
      ]
     },
     "metadata": {
      "tags": []
     },
     "output_type": "display_data"
    }
   ],
   "source": [
    "# Plotting nb of not null per column\n",
    "@interact_manual\n",
    "def plot_more_than_n_notna(n =(1,1000,50)):\n",
    "   ax = nbnotnulldf['nb'][nbnotnulldf['nb']>n].reset_index()\\\n",
    "                .plot.bar(x='index', y='nb', figsize=(25,4))\n",
    "   ax.set(yscale='log')\n",
    "   return ax"
   ]
  },
  {
   "cell_type": "code",
   "execution_count": 28,
   "metadata": {
    "colab": {
     "base_uri": "https://localhost:8080/",
     "height": 1000
    },
    "colab_type": "code",
    "executionInfo": {
     "elapsed": 2991,
     "status": "ok",
     "timestamp": 1587663204056,
     "user": {
      "displayName": "Maryse Muller",
      "photoUrl": "",
      "userId": "13230828717959946182"
     },
     "user_tz": -120
    },
    "id": "owBsGBCFh8Bu",
    "outputId": "01694b7c-927f-4888-f717-ed580e08dd74"
   },
   "outputs": [
    {
     "data": {
      "text/plain": [
       "(59,\n",
       " ['ingredients_from_palm_oil',\n",
       "  'cities',\n",
       "  'ingredients_that_may_be_from_palm_oil',\n",
       "  '-lignoceric-acid_100g',\n",
       "  '-elaidic-acid_100g',\n",
       "  '-gondoic-acid_100g',\n",
       "  '-mead-acid_100g',\n",
       "  '-erucic-acid_100g',\n",
       "  '-nervonic-acid_100g',\n",
       "  'allergens_en',\n",
       "  '-melissic-acid_100g',\n",
       "  'no_nutriments',\n",
       "  '-caproic-acid_100g',\n",
       "  'water-hardness_100g',\n",
       "  '-butyric-acid_100g',\n",
       "  '-dihomo-gamma-linolenic-acid_100g',\n",
       "  '-caprylic-acid_100g',\n",
       "  '-myristic-acid_100g',\n",
       "  '-stearic-acid_100g',\n",
       "  'chlorophyl_100g',\n",
       "  '-montanic-acid_100g',\n",
       "  'glycemic-index_100g',\n",
       "  '-cerotic-acid_100g',\n",
       "  '-palmitic-acid_100g',\n",
       "  '-capric-acid_100g',\n",
       "  '-gamma-linolenic-acid_100g',\n",
       "  '-behenic-acid_100g',\n",
       "  '-lauric-acid_100g',\n",
       "  '-maltose_100g',\n",
       "  'nucleotides_100g',\n",
       "  'carnitine_100g',\n",
       "  '-maltodextrins_100g',\n",
       "  '-arachidic-acid_100g',\n",
       "  '-oleic-acid_100g',\n",
       "  'beta-glucan_100g',\n",
       "  '-arachidonic-acid_100g',\n",
       "  'additives',\n",
       "  'serum-proteins_100g',\n",
       "  'choline_100g',\n",
       "  'inositol_100g',\n",
       "  'casein_100g',\n",
       "  'nutrition-score-uk_100g',\n",
       "  'omega-9-fat_100g',\n",
       "  '-glucose_100g',\n",
       "  '-fructose_100g',\n",
       "  'beta-carotene_100g',\n",
       "  'chromium_100g',\n",
       "  'molybdenum_100g',\n",
       "  '-eicosapentaenoic-acid_100g',\n",
       "  'silica_100g',\n",
       "  '-sucrose_100g',\n",
       "  'taurine_100g',\n",
       "  '-docosahexaenoic-acid_100g',\n",
       "  'ph_100g',\n",
       "  '-linoleic-acid_100g',\n",
       "  'fluoride_100g',\n",
       "  'fruits-vegetables-nuts-dried_100g',\n",
       "  'collagen-meat-protein-ratio_100g',\n",
       "  'caffeine_100g'])"
      ]
     },
     "execution_count": 28,
     "metadata": {
      "tags": []
     },
     "output_type": "execute_result"
    }
   ],
   "source": [
    "# Displaying names of columns with less than 300 entries\n",
    "mask = pd.cut(nbnotnulldf['nb'], [-1,300])\n",
    "li_col_del = list(mask[~mask.values.isna()].index)\n",
    "len(li_col_del), li_col_del"
   ]
  },
  {
   "cell_type": "code",
   "execution_count": 29,
   "metadata": {
    "colab": {
     "base_uri": "https://localhost:8080/",
     "height": 54
    },
    "colab_type": "code",
    "executionInfo": {
     "elapsed": 2934,
     "status": "ok",
     "timestamp": 1587663204057,
     "user": {
      "displayName": "Maryse Muller",
      "photoUrl": "",
      "userId": "13230828717959946182"
     },
     "user_tz": -120
    },
    "id": "H3NXb6wuh0Ex",
    "outputId": "f194dc81-9aa2-43d4-bbf3-66af02906327"
   },
   "outputs": [
    {
     "name": "stdout",
     "output_type": "stream",
     "text": [
      "code|url|creator|created_t|created_datetime|last_modified_t|last_modified_datetime|product_name|generic_name|quantity|packaging|packaging_tags|brands|brands_tags|categories|categories_tags|categories_en|origins|origins_tags|manufacturing_places|manufacturing_places_tags|labels|labels_tags|labels_en|emb_codes|emb_codes_tags|first_packaging_code_geo|cities_tags|purchase_places|stores|countries|countries_tags|countries_en|ingredients_text|allergens|traces|traces_tags|traces_en|serving_size|serving_quantity|additives_n|additives_tags|additives_en|ingredients_from_palm_oil_n|ingredients_from_palm_oil_tags|ingredients_that_may_be_from_palm_oil_n|ingredients_that_may_be_from_palm_oil_tags|nutriscore_score|nutriscore_grade|nova_group|pnns_groups_1|pnns_groups_2|brand_owner|main_category|main_category_en|energy-kj_100g|energy-kcal_100g|energy_100g|energy-from-fat_100g|fat_100g|saturated-fat_100g|monounsaturated-fat_100g|polyunsaturated-fat_100g|omega-3-fat_100g|-alpha-linolenic-acid_100g|omega-6-fat_100g|trans-fat_100g|cholesterol_100g|carbohydrates_100g|sugars_100g|-lactose_100g|starch_100g|polyols_100g|fiber_100g|-soluble-fiber_100g|-insoluble-fiber_100g|proteins_100g|salt_100g|sodium_100g|alcohol_100g|vitamin-a_100g|vitamin-d_100g|vitamin-e_100g|vitamin-k_100g|vitamin-c_100g|vitamin-b1_100g|vitamin-b2_100g|vitamin-pp_100g|vitamin-b6_100g|vitamin-b9_100g|folates_100g|vitamin-b12_100g|biotin_100g|pantothenic-acid_100g|bicarbonate_100g|potassium_100g|chloride_100g|calcium_100g|phosphorus_100g|iron_100g|magnesium_100g|zinc_100g|copper_100g|manganese_100g|selenium_100g|iodine_100g|fruits-vegetables-nuts_100g|fruits-vegetables-nuts-estimate_100g|cocoa_100g|carbon-footprint_100g|carbon-footprint-from-meat-or-fish_100g|nutrition-score-fr_100g|phylloquinone_100g|"
     ]
    }
   ],
   "source": [
    "# Printing remaining columns\n",
    "for s in [s for s in list(df.columns) if s not in li_col_del]:\n",
    "  print(s, end='|')"
   ]
  },
  {
   "cell_type": "markdown",
   "metadata": {
    "colab_type": "text",
    "id": "fgGsAMgo5JTw"
   },
   "source": [
    "We keep columns with more than 300 values except:\n",
    "- 'carbon-footprint_100g', 'carbon-footprint-from-meat-or-fish_100g',\n",
    "'fruits-vegetables-nuts_100g', 'fruits-vegetables-nuts-estimate_100g', as they would require more data to be exploitable\n",
    "\n",
    "We drop columns with less than 300 values except:\n",
    "- 'ph_100g' as it could be useful to study a subset of mineral waters"
   ]
  },
  {
   "cell_type": "code",
   "execution_count": 30,
   "metadata": {
    "colab": {
     "base_uri": "https://localhost:8080/",
     "height": 34
    },
    "colab_type": "code",
    "executionInfo": {
     "elapsed": 2916,
     "status": "ok",
     "timestamp": 1587663204058,
     "user": {
      "displayName": "Maryse Muller",
      "photoUrl": "",
      "userId": "13230828717959946182"
     },
     "user_tz": -120
    },
    "id": "qH1Zksn4WUDZ",
    "outputId": "cb9bbf19-22ff-4e29-b5ab-c0783bc9422b"
   },
   "outputs": [
    {
     "name": "stdout",
     "output_type": "stream",
     "text": [
      "nb of columns to drop: 62\n"
     ]
    }
   ],
   "source": [
    "# Putting back pH as it could be useful to study mineral waters for example\n",
    "li_col_del.remove('ph_100g')\n",
    "# Adding 4 columns from the \"to-be-deleted\" columns list \n",
    "li_col_del += ['carbon-footprint_100g',\n",
    "               'carbon-footprint-from-meat-or-fish_100g',\n",
    "               'fruits-vegetables-nuts_100g',\n",
    "               'fruits-vegetables-nuts-estimate_100g']\n",
    "print(f'nb of columns to drop: {len(li_col_del)}')"
   ]
  },
  {
   "cell_type": "code",
   "execution_count": 31,
   "metadata": {
    "colab": {
     "base_uri": "https://localhost:8080/",
     "height": 52
    },
    "colab_type": "code",
    "executionInfo": {
     "elapsed": 3385,
     "status": "ok",
     "timestamp": 1587663204548,
     "user": {
      "displayName": "Maryse Muller",
      "photoUrl": "",
      "userId": "13230828717959946182"
     },
     "user_tz": -120
    },
    "id": "ejsncTQTkxq5",
    "outputId": "30968193-8c60-4fd3-d83f-0eae3c64f916"
   },
   "outputs": [
    {
     "name": "stdout",
     "output_type": "stream",
     "text": [
      "shape before (1219248, 172)\n",
      "shape after (1219248, 110)\n"
     ]
    }
   ],
   "source": [
    "print(\"shape before\", df.shape)\n",
    "df.drop(columns=li_col_del, inplace=True)\n",
    "print(\"shape after\", df.shape)"
   ]
  },
  {
   "cell_type": "markdown",
   "metadata": {
    "colab_type": "text",
    "id": "5802-L6m7evj"
   },
   "source": [
    "We rearrange the columns with similar contents at the same place:"
   ]
  },
  {
   "cell_type": "code",
   "execution_count": 0,
   "metadata": {
    "colab": {},
    "colab_type": "code",
    "id": "6WnC48CPwZie"
   },
   "outputs": [],
   "source": [
    "# Function that moves similar categories at the same place\n",
    "def move_cat_containing(my_index, strings):\n",
    "  idx_sel = []\n",
    "  for s in strings:\n",
    "    idx_sel += [i for i,x in enumerate(my_index)\\\n",
    "             if x in my_index[my_index.str.contains(s)]]\n",
    "  to_move = my_index[idx_sel]\n",
    "  rank = max(idx_sel)\n",
    "  mod_index = my_index.drop(to_move)\n",
    "  for c in to_move:\n",
    "    mod_index = mod_index.insert(rank,c)\n",
    "  return mod_index"
   ]
  },
  {
   "cell_type": "code",
   "execution_count": 33,
   "metadata": {
    "colab": {
     "base_uri": "https://localhost:8080/",
     "height": 1000
    },
    "colab_type": "code",
    "executionInfo": {
     "elapsed": 3882,
     "status": "ok",
     "timestamp": 1587663205091,
     "user": {
      "displayName": "Maryse Muller",
      "photoUrl": "",
      "userId": "13230828717959946182"
     },
     "user_tz": -120
    },
    "id": "MLsq8Pjc5uDt",
    "outputId": "c13bea39-23b2-4f1e-e173-c59824b4d56d"
   },
   "outputs": [
    {
     "data": {
      "text/plain": [
       "['code',\n",
       " 'url',\n",
       " 'creator',\n",
       " 'created_t',\n",
       " 'created_datetime',\n",
       " 'last_modified_t',\n",
       " 'last_modified_datetime',\n",
       " 'product_name',\n",
       " 'generic_name',\n",
       " 'quantity',\n",
       " 'packaging',\n",
       " 'packaging_tags',\n",
       " 'brands',\n",
       " 'brands_tags',\n",
       " 'origins',\n",
       " 'origins_tags',\n",
       " 'manufacturing_places',\n",
       " 'manufacturing_places_tags',\n",
       " 'labels',\n",
       " 'labels_tags',\n",
       " 'labels_en',\n",
       " 'emb_codes',\n",
       " 'emb_codes_tags',\n",
       " 'first_packaging_code_geo',\n",
       " 'cities_tags',\n",
       " 'purchase_places',\n",
       " 'stores',\n",
       " 'countries',\n",
       " 'countries_tags',\n",
       " 'countries_en',\n",
       " 'ingredients_text',\n",
       " 'allergens',\n",
       " 'traces',\n",
       " 'traces_tags',\n",
       " 'traces_en',\n",
       " 'serving_size',\n",
       " 'serving_quantity',\n",
       " 'additives_n',\n",
       " 'additives_tags',\n",
       " 'additives_en',\n",
       " 'ingredients_from_palm_oil_n',\n",
       " 'ingredients_from_palm_oil_tags',\n",
       " 'ingredients_that_may_be_from_palm_oil_n',\n",
       " 'ingredients_that_may_be_from_palm_oil_tags',\n",
       " 'brand_owner',\n",
       " 'energy-kj_100g',\n",
       " 'energy-kcal_100g',\n",
       " 'energy_100g',\n",
       " 'energy-from-fat_100g',\n",
       " 'fat_100g',\n",
       " 'saturated-fat_100g',\n",
       " 'pnns_groups_2',\n",
       " 'pnns_groups_1',\n",
       " 'main_category_en',\n",
       " 'main_category',\n",
       " 'categories_en',\n",
       " 'categories_tags',\n",
       " 'categories',\n",
       " 'monounsaturated-fat_100g',\n",
       " 'polyunsaturated-fat_100g',\n",
       " 'omega-3-fat_100g',\n",
       " '-alpha-linolenic-acid_100g',\n",
       " 'omega-6-fat_100g',\n",
       " 'trans-fat_100g',\n",
       " 'cholesterol_100g',\n",
       " 'carbohydrates_100g',\n",
       " 'sugars_100g',\n",
       " '-lactose_100g',\n",
       " 'starch_100g',\n",
       " 'polyols_100g',\n",
       " 'fiber_100g',\n",
       " '-soluble-fiber_100g',\n",
       " '-insoluble-fiber_100g',\n",
       " 'proteins_100g',\n",
       " 'salt_100g',\n",
       " 'sodium_100g',\n",
       " 'alcohol_100g',\n",
       " 'vitamin-a_100g',\n",
       " 'vitamin-d_100g',\n",
       " 'vitamin-e_100g',\n",
       " 'vitamin-k_100g',\n",
       " 'vitamin-c_100g',\n",
       " 'vitamin-b1_100g',\n",
       " 'vitamin-b2_100g',\n",
       " 'vitamin-pp_100g',\n",
       " 'vitamin-b6_100g',\n",
       " 'vitamin-b9_100g',\n",
       " 'folates_100g',\n",
       " 'vitamin-b12_100g',\n",
       " 'biotin_100g',\n",
       " 'pantothenic-acid_100g',\n",
       " 'bicarbonate_100g',\n",
       " 'potassium_100g',\n",
       " 'chloride_100g',\n",
       " 'calcium_100g',\n",
       " 'phosphorus_100g',\n",
       " 'iron_100g',\n",
       " 'magnesium_100g',\n",
       " 'zinc_100g',\n",
       " 'copper_100g',\n",
       " 'manganese_100g',\n",
       " 'selenium_100g',\n",
       " 'iodine_100g',\n",
       " 'ph_100g',\n",
       " 'cocoa_100g',\n",
       " 'phylloquinone_100g',\n",
       " 'nutriscore_score',\n",
       " 'nutriscore_grade',\n",
       " 'nova_group',\n",
       " 'nutrition-score-fr_100g']"
      ]
     },
     "execution_count": 33,
     "metadata": {
      "tags": []
     },
     "output_type": "execute_result"
    }
   ],
   "source": [
    "# Moving 'nutriscores' and 'categories'\n",
    "cols = df.columns\n",
    "cols = move_cat_containing(cols,['categ','pnns'])\n",
    "cols = move_cat_containing(cols,['nutri', 'nova'])\n",
    "list(cols)"
   ]
  },
  {
   "cell_type": "code",
   "execution_count": 34,
   "metadata": {
    "colab": {
     "base_uri": "https://localhost:8080/",
     "height": 176
    },
    "colab_type": "code",
    "executionInfo": {
     "elapsed": 3866,
     "status": "ok",
     "timestamp": 1587663205092,
     "user": {
      "displayName": "Maryse Muller",
      "photoUrl": "",
      "userId": "13230828717959946182"
     },
     "user_tz": -120
    },
    "id": "mDBKrG6HzxBI",
    "outputId": "05afcb32-a870-45bf-b7e0-5dd913d44584"
   },
   "outputs": [
    {
     "data": {
      "text/html": [
       "<div>\n",
       "<style scoped>\n",
       "    .dataframe tbody tr th:only-of-type {\n",
       "        vertical-align: middle;\n",
       "    }\n",
       "\n",
       "    .dataframe tbody tr th {\n",
       "        vertical-align: top;\n",
       "    }\n",
       "\n",
       "    .dataframe thead th {\n",
       "        text-align: right;\n",
       "    }\n",
       "</style>\n",
       "<table border=\"1\" class=\"dataframe\">\n",
       "  <thead>\n",
       "    <tr style=\"text-align: right;\">\n",
       "      <th></th>\n",
       "      <th>code</th>\n",
       "      <th>url</th>\n",
       "      <th>creator</th>\n",
       "      <th>created_t</th>\n",
       "      <th>created_datetime</th>\n",
       "      <th>last_modified_t</th>\n",
       "      <th>last_modified_datetime</th>\n",
       "      <th>product_name</th>\n",
       "      <th>generic_name</th>\n",
       "      <th>quantity</th>\n",
       "      <th>packaging</th>\n",
       "      <th>packaging_tags</th>\n",
       "      <th>brands</th>\n",
       "      <th>brands_tags</th>\n",
       "      <th>origins</th>\n",
       "      <th>origins_tags</th>\n",
       "      <th>manufacturing_places</th>\n",
       "      <th>manufacturing_places_tags</th>\n",
       "      <th>labels</th>\n",
       "      <th>labels_tags</th>\n",
       "      <th>labels_en</th>\n",
       "      <th>emb_codes</th>\n",
       "      <th>emb_codes_tags</th>\n",
       "      <th>first_packaging_code_geo</th>\n",
       "      <th>cities_tags</th>\n",
       "      <th>purchase_places</th>\n",
       "      <th>stores</th>\n",
       "      <th>countries</th>\n",
       "      <th>countries_tags</th>\n",
       "      <th>countries_en</th>\n",
       "      <th>ingredients_text</th>\n",
       "      <th>allergens</th>\n",
       "      <th>traces</th>\n",
       "      <th>traces_tags</th>\n",
       "      <th>traces_en</th>\n",
       "      <th>serving_size</th>\n",
       "      <th>serving_quantity</th>\n",
       "      <th>additives_n</th>\n",
       "      <th>additives_tags</th>\n",
       "      <th>additives_en</th>\n",
       "      <th>...</th>\n",
       "      <th>fiber_100g</th>\n",
       "      <th>-soluble-fiber_100g</th>\n",
       "      <th>-insoluble-fiber_100g</th>\n",
       "      <th>proteins_100g</th>\n",
       "      <th>salt_100g</th>\n",
       "      <th>sodium_100g</th>\n",
       "      <th>alcohol_100g</th>\n",
       "      <th>vitamin-a_100g</th>\n",
       "      <th>vitamin-d_100g</th>\n",
       "      <th>vitamin-e_100g</th>\n",
       "      <th>vitamin-k_100g</th>\n",
       "      <th>vitamin-c_100g</th>\n",
       "      <th>vitamin-b1_100g</th>\n",
       "      <th>vitamin-b2_100g</th>\n",
       "      <th>vitamin-pp_100g</th>\n",
       "      <th>vitamin-b6_100g</th>\n",
       "      <th>vitamin-b9_100g</th>\n",
       "      <th>folates_100g</th>\n",
       "      <th>vitamin-b12_100g</th>\n",
       "      <th>biotin_100g</th>\n",
       "      <th>pantothenic-acid_100g</th>\n",
       "      <th>bicarbonate_100g</th>\n",
       "      <th>potassium_100g</th>\n",
       "      <th>chloride_100g</th>\n",
       "      <th>calcium_100g</th>\n",
       "      <th>phosphorus_100g</th>\n",
       "      <th>iron_100g</th>\n",
       "      <th>magnesium_100g</th>\n",
       "      <th>zinc_100g</th>\n",
       "      <th>copper_100g</th>\n",
       "      <th>manganese_100g</th>\n",
       "      <th>selenium_100g</th>\n",
       "      <th>iodine_100g</th>\n",
       "      <th>ph_100g</th>\n",
       "      <th>cocoa_100g</th>\n",
       "      <th>phylloquinone_100g</th>\n",
       "      <th>nutriscore_score</th>\n",
       "      <th>nutriscore_grade</th>\n",
       "      <th>nova_group</th>\n",
       "      <th>nutrition-score-fr_100g</th>\n",
       "    </tr>\n",
       "  </thead>\n",
       "  <tbody>\n",
       "    <tr>\n",
       "      <th>0</th>\n",
       "      <td>0000000000017</td>\n",
       "      <td>http://world-en....</td>\n",
       "      <td>kiliweb</td>\n",
       "      <td>8</td>\n",
       "      <td>2018-06-15T10:38...</td>\n",
       "      <td>-90</td>\n",
       "      <td>2019-06-25T11:55...</td>\n",
       "      <td>Vitória crackers</td>\n",
       "      <td>NaN</td>\n",
       "      <td>NaN</td>\n",
       "      <td>NaN</td>\n",
       "      <td>NaN</td>\n",
       "      <td>NaN</td>\n",
       "      <td>NaN</td>\n",
       "      <td>NaN</td>\n",
       "      <td>NaN</td>\n",
       "      <td>NaN</td>\n",
       "      <td>NaN</td>\n",
       "      <td>NaN</td>\n",
       "      <td>NaN</td>\n",
       "      <td>NaN</td>\n",
       "      <td>NaN</td>\n",
       "      <td>NaN</td>\n",
       "      <td>NaN</td>\n",
       "      <td>NaN</td>\n",
       "      <td>NaN</td>\n",
       "      <td>NaN</td>\n",
       "      <td>France</td>\n",
       "      <td>en:france</td>\n",
       "      <td>France</td>\n",
       "      <td>NaN</td>\n",
       "      <td>NaN</td>\n",
       "      <td>NaN</td>\n",
       "      <td>NaN</td>\n",
       "      <td>NaN</td>\n",
       "      <td>NaN</td>\n",
       "      <td>nan</td>\n",
       "      <td>nan</td>\n",
       "      <td>NaN</td>\n",
       "      <td>NaN</td>\n",
       "      <td>...</td>\n",
       "      <td>nan</td>\n",
       "      <td>nan</td>\n",
       "      <td>nan</td>\n",
       "      <td>8</td>\n",
       "      <td>1</td>\n",
       "      <td>1</td>\n",
       "      <td>nan</td>\n",
       "      <td>nan</td>\n",
       "      <td>nan</td>\n",
       "      <td>nan</td>\n",
       "      <td>nan</td>\n",
       "      <td>nan</td>\n",
       "      <td>nan</td>\n",
       "      <td>nan</td>\n",
       "      <td>nan</td>\n",
       "      <td>nan</td>\n",
       "      <td>nan</td>\n",
       "      <td>nan</td>\n",
       "      <td>nan</td>\n",
       "      <td>nan</td>\n",
       "      <td>nan</td>\n",
       "      <td>nan</td>\n",
       "      <td>nan</td>\n",
       "      <td>nan</td>\n",
       "      <td>nan</td>\n",
       "      <td>nan</td>\n",
       "      <td>nan</td>\n",
       "      <td>nan</td>\n",
       "      <td>nan</td>\n",
       "      <td>nan</td>\n",
       "      <td>nan</td>\n",
       "      <td>nan</td>\n",
       "      <td>nan</td>\n",
       "      <td>nan</td>\n",
       "      <td>nan</td>\n",
       "      <td>nan</td>\n",
       "      <td>nan</td>\n",
       "      <td>NaN</td>\n",
       "      <td>nan</td>\n",
       "      <td>nan</td>\n",
       "    </tr>\n",
       "  </tbody>\n",
       "</table>\n",
       "<p>1 rows × 110 columns</p>\n",
       "</div>"
      ],
      "text/plain": [
       "            code                  url  ... nova_group  nutrition-score-fr_100g\n",
       "0  0000000000017  http://world-en....  ...        nan                  nan    \n",
       "\n",
       "[1 rows x 110 columns]"
      ]
     },
     "execution_count": 34,
     "metadata": {
      "tags": []
     },
     "output_type": "execute_result"
    }
   ],
   "source": [
    "df = df.reindex(columns=cols)\n",
    "df.head(1)"
   ]
  },
  {
   "cell_type": "markdown",
   "metadata": {
    "colab_type": "text",
    "id": "YjaAtE9kK0ga"
   },
   "source": [
    "### 1.3 Columns with redundant information\n",
    "\n",
    "Some of the columns seem to contain similar information. For example : \n",
    "  - 'created_t' vs.\t'created_datetime'\n",
    "  - 'last_modified_t' vs.\t'last_modified_datetime'\n",
    "  - 'brands' vs.\t'brands_tags'\n",
    "  - 'categories\t' vs.\t'categories_tags'  vs.\t'categories_en'  \n",
    "  - 'origins' vs.\t'origins_tags'\n",
    "  - 'manufacturing_places' vs.\t'manufacturing_places_tags'\n",
    "  - 'labels' vs.\t'labels_tags'  vs.\t'labels_en' \n",
    "  - 'emb_codes' vs.\t'emb_codes_tags'\n",
    "  - 'countries' vs.\t'countries_tags'  vs.\t'countries_en'\n",
    "  - 'traces' vs.\t'traces_tags'  vs.\t'traces_en'\n",
    "  - 'additives_n' vs. 'additives' vs.\t'additives_tags'  vs.\t'additives_en'\n",
    "\n",
    "\n",
    "Let's see if some of them can be dropped or their content gathered in only one column.\n",
    "To that end, we define a function '**comp_df**' that :\n",
    "- compares the content of two columns col1 and col2 of the dataframe\n",
    "- prints the number or rows with 1) both columns, 2) col1 only, 3) col2 only, and 4) none of them filled\n",
    "- returns indexes of 1) data in both columns, 2) data only in col1, 3) data only in col2, and 4) no data at all.\n",
    "\n",
    "After that, we check and compare the content of the columns when both are filled in order to get familiar with the content of the database and determine the columns that can be dropped."
   ]
  },
  {
   "cell_type": "code",
   "execution_count": 0,
   "metadata": {
    "colab": {},
    "colab_type": "code",
    "id": "BYk1_0G09ltt"
   },
   "outputs": [],
   "source": [
    "def comp_df (df, col1, col2, print_Y_N):\n",
    "  mboth = (~df[[col1,col2]].isna()).sum(axis=1)==2 # mask for both cells filled\n",
    "  mone = (~df[[col1,col2]].isna()).sum(axis=1)==1 # mask for only one cell filled\n",
    "  mcol1 = mone & ~df[col1].isna() # mask for only col1 cell filled\n",
    "  mcol2 = mone & ~df[col2].isna() # mask for only col2 cell filled\n",
    "  mnone = ~mone & ~mboth\n",
    "  ind_both = df.index[mboth].to_list()\n",
    "  ind_col1 = df.index[mcol1].to_list()\n",
    "  ind_col2 = df.index[mcol2].to_list()\n",
    "  ind_none = df.index[mnone].to_list()\n",
    "  if print_Y_N :\n",
    "    print(\"nb rows both filled: \", len(ind_both))\n",
    "    print(\"nb rows with only\", col1, \"filled: \", len(ind_col1))\n",
    "    print(\"nb rows with only\", col2, \"filled: \", len(ind_col2))\n",
    "    print(\"nb rows not filled: \", len(ind_none))\n",
    "  else:\n",
    "    pass\n",
    "  return(ind_both, ind_col1, ind_col2, ind_none)"
   ]
  },
  {
   "cell_type": "code",
   "execution_count": 36,
   "metadata": {
    "colab": {
     "base_uri": "https://localhost:8080/",
     "height": 816
    },
    "colab_type": "code",
    "executionInfo": {
     "elapsed": 5504,
     "status": "ok",
     "timestamp": 1587663206775,
     "user": {
      "displayName": "Maryse Muller",
      "photoUrl": "",
      "userId": "13230828717959946182"
     },
     "user_tz": -120
    },
    "id": "I76yXS5VfSKC",
    "outputId": "a2912f7a-e217-4542-846a-fad1f879d88a"
   },
   "outputs": [
    {
     "name": "stdout",
     "output_type": "stream",
     "text": [
      "COLUMN packaging :\n",
      "nb rows both filled:  212391\n",
      "nb rows with only packaging filled:  11\n",
      "nb rows with only packaging_tags filled:  2\n",
      "nb rows not filled:  1006844\n",
      "COLUMN brands :\n",
      "nb rows both filled:  759635\n",
      "nb rows with only brands filled:  57\n",
      "nb rows with only brands_tags filled:  8\n",
      "nb rows not filled:  459548\n",
      "COLUMN categories :\n",
      "nb rows both filled:  546038\n",
      "nb rows with only categories filled:  3\n",
      "nb rows with only categories_tags filled:  0\n",
      "nb rows not filled:  673207\n",
      "COLUMN origins :\n",
      "nb rows both filled:  58912\n",
      "nb rows with only origins filled:  102\n",
      "nb rows with only origins_tags filled:  3\n",
      "nb rows not filled:  1160231\n",
      "COLUMN manufacturing_places :\n",
      "nb rows both filled:  93930\n",
      "nb rows with only manufacturing_places filled:  37\n",
      "nb rows with only manufacturing_places_tags filled:  0\n",
      "nb rows not filled:  1125281\n",
      "COLUMN labels :\n",
      "nb rows both filled:  306649\n",
      "nb rows with only labels filled:  18\n",
      "nb rows with only labels_tags filled:  39\n",
      "nb rows not filled:  912542\n",
      "COLUMN emb_codes :\n",
      "nb rows both filled:  75062\n",
      "nb rows with only emb_codes filled:  30\n",
      "nb rows with only emb_codes_tags filled:  2\n",
      "nb rows not filled:  1144154\n",
      "COLUMN countries :\n",
      "nb rows both filled:  1217124\n",
      "nb rows with only countries filled:  2\n",
      "nb rows with only countries_tags filled:  0\n",
      "nb rows not filled:  2122\n",
      "COLUMN traces :\n",
      "nb rows both filled:  73070\n",
      "nb rows with only traces filled:  0\n",
      "nb rows with only traces_tags filled:  21016\n",
      "nb rows not filled:  1125162\n"
     ]
    }
   ],
   "source": [
    "# Printing amount of rows in each case:\n",
    "#(col1 filled, col2 filled, both filled, none filled)\n",
    "li_col = ['packaging', 'brands', 'categories', 'origins', 'manufacturing_places',\n",
    "        'labels', 'emb_codes','countries', 'traces']\n",
    "for c in li_col:\n",
    "  c1 = c\n",
    "  c2 = c+'_tags'\n",
    "  print('COLUMN', c,':')\n",
    "  t_ind = comp_df(df, c1, c2, True)\n",
    "  df.loc[t_ind[1], [c1,c2]] = np.nan"
   ]
  },
  {
   "cell_type": "markdown",
   "metadata": {
    "colab_type": "text",
    "id": "AUeDm-lclu4p"
   },
   "source": [
    "We design an interactive feature that helps to browse between\n",
    "\n",
    "\n",
    "\n",
    "Here is an example of the code we have used to address 'brands' and 'brands_tags' columns:"
   ]
  },
  {
   "cell_type": "code",
   "execution_count": 37,
   "metadata": {
    "colab": {
     "base_uri": "https://localhost:8080/",
     "height": 301,
     "referenced_widgets": [
      "c0b71f15a71540cc96aeec9ab03ac1d0",
      "621fc907fc6c4962965164cd8d340239",
      "96da94281a634c3398e2f7653069ae01",
      "9352f5975d1f4448a558571eaf9694a9",
      "b16d9f1cd53949319ab4017beca3e33c",
      "d5f17e198927419aa0b23692fc0f283e",
      "dcff2288ba26404a8fe6bce63847af82"
     ]
    },
    "colab_type": "code",
    "executionInfo": {
     "elapsed": 5475,
     "status": "ok",
     "timestamp": 1587663206776,
     "user": {
      "displayName": "Maryse Muller",
      "photoUrl": "",
      "userId": "13230828717959946182"
     },
     "user_tz": -120
    },
    "id": "4Xexd0CLftqT",
    "outputId": "32a9bd6d-b9d7-4d5c-eabe-8cb817dd8f05"
   },
   "outputs": [
    {
     "data": {
      "application/vnd.jupyter.widget-view+json": {
       "model_id": "c0b71f15a71540cc96aeec9ab03ac1d0",
       "version_major": 2,
       "version_minor": 0
      },
      "text/plain": [
       "interactive(children=(Dropdown(description='col', options=('packaging', 'brands', 'categories', 'origins', 'ma…"
      ]
     },
     "metadata": {
      "tags": []
     },
     "output_type": "display_data"
    }
   ],
   "source": [
    "@interact\n",
    "def print_comp_info(col=li_col):\n",
    "  c1 = col\n",
    "  c2 = c1+'_tags'\n",
    "  # Comparing content of 2 columns, print info and returns indexes \n",
    "  t_ind = comp_df(df, c1, c2, True)\n",
    "  # Displaying a random sample of cells:\n",
    "  '''- when col1 only is filled\n",
    "  - when col2 only is filled\n",
    "  - when both columns are filled'''\n",
    "  display_side_by_side(df.loc[t_ind[1],[c1, c2]]\\\n",
    "                       .sample(5 if len(t_ind[1])>5 else len(t_ind[1])),\n",
    "                      df.loc[t_ind[2], [c1, c2]]\\\n",
    "                       .sample(5 if len(t_ind[2])>5 else len(t_ind[2])),\n",
    "                      df.loc[t_ind[0], [c1, c2]]\\\n",
    "                       .sample(5 if len(t_ind[0])>5 else len(t_ind[0])))"
   ]
  },
  {
   "cell_type": "markdown",
   "metadata": {
    "colab_type": "text",
    "id": "gAFh0RI_goJT"
   },
   "source": [
    "After examination of all the columns above-listed, we decide :\n",
    "- to set values of the 'XXX' column to NaN if not matching with a non NaN value in the 'XXX_tags' column (as we found that they correspond to erroneous values ('?', '/', '-', etc.));\n",
    "- to drop 'created_t' and 'last_modified_t';\n",
    "- to drop 'packaging_tags', 'brands_tags', 'categories_tags', 'origins_tags', 'manufacturing_places_tags', 'labels_tags', 'emb_codes_tags', 'countries_tags', 'traces_tags', 'additives_tags', as the data they contain are redundant with 'XXX' or 'XXX_en' columns; \n",
    "- to drop 'additives' column, as it does not contain enough data (29 entries), that are however in english in 'additives_en'\n",
    "- to keep 'XXX_en' columns, as they contain useful and sometimes original data;\n",
    "- to keep 'XXX' columns."
   ]
  },
  {
   "cell_type": "code",
   "execution_count": 0,
   "metadata": {
    "colab": {},
    "colab_type": "code",
    "id": "a4X42NEBwinT"
   },
   "outputs": [],
   "source": [
    "# Setting values of the 'XXX' column to NaN if no value in 'XXX_tag' \n",
    "t_ind = comp_df(df, c1, c2, False)\n",
    "df.loc[t_ind[1], [c1,c2]] = np.nan"
   ]
  },
  {
   "cell_type": "code",
   "execution_count": 39,
   "metadata": {
    "colab": {
     "base_uri": "https://localhost:8080/",
     "height": 52
    },
    "colab_type": "code",
    "executionInfo": {
     "elapsed": 5826,
     "status": "ok",
     "timestamp": 1587663207191,
     "user": {
      "displayName": "Maryse Muller",
      "photoUrl": "",
      "userId": "13230828717959946182"
     },
     "user_tz": -120
    },
    "id": "iUgKKvr-pJ2x",
    "outputId": "1898a06d-430f-47bb-b9c6-754416da9ebd"
   },
   "outputs": [
    {
     "name": "stdout",
     "output_type": "stream",
     "text": [
      "shape before (1219248, 110)\n",
      "shape after (1219248, 98)\n"
     ]
    }
   ],
   "source": [
    "# Dropping unuseful columns\n",
    "li_col_del = ['created_t', 'last_modified_t','packaging_tags',\n",
    "             'brands_tags', 'categories_tags', 'origins_tags', \n",
    "             'manufacturing_places_tags', 'labels_tags',\n",
    "             'emb_codes_tags','countries_tags', 'traces_tags',\n",
    "             'additives_tags']\n",
    "\n",
    "print(\"shape before\", df.shape)\n",
    "df.drop(columns=li_col_del, inplace=True)\n",
    "print(\"shape after\", df.shape)"
   ]
  },
  {
   "cell_type": "code",
   "execution_count": 40,
   "metadata": {
    "colab": {
     "base_uri": "https://localhost:8080/",
     "height": 1000
    },
    "colab_type": "code",
    "executionInfo": {
     "elapsed": 5805,
     "status": "ok",
     "timestamp": 1587663207192,
     "user": {
      "displayName": "Maryse Muller",
      "photoUrl": "",
      "userId": "13230828717959946182"
     },
     "user_tz": -120
    },
    "id": "qH94AezUVAi3",
    "outputId": "1e31f34b-ccd7-4f12-8664-7a82995dd2a5"
   },
   "outputs": [
    {
     "data": {
      "text/plain": [
       "['code',\n",
       " 'url',\n",
       " 'creator',\n",
       " 'created_datetime',\n",
       " 'last_modified_datetime',\n",
       " 'product_name',\n",
       " 'generic_name',\n",
       " 'quantity',\n",
       " 'packaging',\n",
       " 'brands',\n",
       " 'origins',\n",
       " 'manufacturing_places',\n",
       " 'labels',\n",
       " 'labels_en',\n",
       " 'emb_codes',\n",
       " 'first_packaging_code_geo',\n",
       " 'cities_tags',\n",
       " 'purchase_places',\n",
       " 'stores',\n",
       " 'countries',\n",
       " 'countries_en',\n",
       " 'ingredients_text',\n",
       " 'allergens',\n",
       " 'traces',\n",
       " 'traces_en',\n",
       " 'serving_size',\n",
       " 'serving_quantity',\n",
       " 'additives_n',\n",
       " 'additives_en',\n",
       " 'ingredients_from_palm_oil_n',\n",
       " 'ingredients_from_palm_oil_tags',\n",
       " 'ingredients_that_may_be_from_palm_oil_n',\n",
       " 'ingredients_that_may_be_from_palm_oil_tags',\n",
       " 'brand_owner',\n",
       " 'energy-kj_100g',\n",
       " 'energy-kcal_100g',\n",
       " 'energy_100g',\n",
       " 'energy-from-fat_100g',\n",
       " 'fat_100g',\n",
       " 'saturated-fat_100g',\n",
       " 'pnns_groups_2',\n",
       " 'pnns_groups_1',\n",
       " 'main_category_en',\n",
       " 'main_category',\n",
       " 'categories_en',\n",
       " 'categories',\n",
       " 'monounsaturated-fat_100g',\n",
       " 'polyunsaturated-fat_100g',\n",
       " 'omega-3-fat_100g',\n",
       " '-alpha-linolenic-acid_100g',\n",
       " 'omega-6-fat_100g',\n",
       " 'trans-fat_100g',\n",
       " 'cholesterol_100g',\n",
       " 'carbohydrates_100g',\n",
       " 'sugars_100g',\n",
       " '-lactose_100g',\n",
       " 'starch_100g',\n",
       " 'polyols_100g',\n",
       " 'fiber_100g',\n",
       " '-soluble-fiber_100g',\n",
       " '-insoluble-fiber_100g',\n",
       " 'proteins_100g',\n",
       " 'salt_100g',\n",
       " 'sodium_100g',\n",
       " 'alcohol_100g',\n",
       " 'vitamin-a_100g',\n",
       " 'vitamin-d_100g',\n",
       " 'vitamin-e_100g',\n",
       " 'vitamin-k_100g',\n",
       " 'vitamin-c_100g',\n",
       " 'vitamin-b1_100g',\n",
       " 'vitamin-b2_100g',\n",
       " 'vitamin-pp_100g',\n",
       " 'vitamin-b6_100g',\n",
       " 'vitamin-b9_100g',\n",
       " 'folates_100g',\n",
       " 'vitamin-b12_100g',\n",
       " 'biotin_100g',\n",
       " 'pantothenic-acid_100g',\n",
       " 'bicarbonate_100g',\n",
       " 'potassium_100g',\n",
       " 'chloride_100g',\n",
       " 'calcium_100g',\n",
       " 'phosphorus_100g',\n",
       " 'iron_100g',\n",
       " 'magnesium_100g',\n",
       " 'zinc_100g',\n",
       " 'copper_100g',\n",
       " 'manganese_100g',\n",
       " 'selenium_100g',\n",
       " 'iodine_100g',\n",
       " 'ph_100g',\n",
       " 'cocoa_100g',\n",
       " 'phylloquinone_100g',\n",
       " 'nutriscore_score',\n",
       " 'nutriscore_grade',\n",
       " 'nova_group',\n",
       " 'nutrition-score-fr_100g']"
      ]
     },
     "execution_count": 40,
     "metadata": {
      "tags": []
     },
     "output_type": "execute_result"
    }
   ],
   "source": [
    "# Checking the remaining columns\n",
    "list(df.columns)"
   ]
  },
  {
   "cell_type": "code",
   "execution_count": 0,
   "metadata": {
    "colab": {},
    "colab_type": "code",
    "id": "vzEX81q3_lPW"
   },
   "outputs": [],
   "source": [
    "# Changing the name of some of the columns\n",
    "df.rename(columns={'nutriscore_score': 'nutriscore',\n",
    "                       'nutriscore_grade': 'nutrigrade',\n",
    "                       'pnns_groups_1': 'pnns_gp_1',\n",
    "                       'pnns_groups_2': 'pnns_gp_2',\n",
    "                       'nutrition-score-fr_100g':'nutriscore-fr'},\n",
    "              inplace=True)"
   ]
  },
  {
   "cell_type": "markdown",
   "metadata": {
    "colab_type": "text",
    "id": "UVwdIXQZI2_q"
   },
   "source": [
    "Some columns are related and provide information useful to retrieve data via feature engineering.\n",
    "To help automatizing these tasks, we categorize the columns as follows :\n",
    "\n",
    "**li_cat_fat**: 'saturated_fat_100g', 'monounsaturated_fat_100g', 'polyunsaturated_fat_100g', 'trans-fat_100g', 'cholesterol_100g'\n",
    "\n",
    "**li_cat_poly_fat**: 'omega-3-fat_100g', 'omega-6-fat_100g'\n",
    "\n",
    "**li_cat_carb**: 'sugars_100g', 'starch_100g', 'polyols_100g', 'fibers_100g', '-lactose_100g'\n",
    "\n",
    "**li_cat_comp**: cat_fat, cat_carb, 'proteins_100g'\n",
    "\n",
    "**li_cat_vit-oligo**:  'vitamin-a_100g',\t'vitamin-d_100g',\t'vitamin-e_100g',\t'vitamin-k_100g',\t'vitamin-c_100g',\t'vitamin-b1_100g',\t'vitamin-b2_100g',\t'vitamin-pp_100g',\t'vitamin-b6_100g',\t'vitamin-b9_100g',\t'folates_100g',\t'vitamin-b12_100g',\t'biotin_100g',\t'pantothenic-acid_100g','silica_100g', 'bicarbonate_100g',\t'potassium_100g',\t'chloride_100g',\t'calcium_100g',\t'phosphorus_100g',\t'iron_100g',\t'magnesium_100g',\t'zinc_100g',\t'copper_100g',\t'manganese_100g',\t'fluoride_100g', 'selenium_100g, 'chromium_100g', 'molybdenum_100g', 'iodine_100g',\t'caffeine_100g', 'taurine_100g', 'cocoa_100g'"
   ]
  },
  {
   "cell_type": "code",
   "execution_count": 0,
   "metadata": {
    "colab": {},
    "colab_type": "code",
    "id": "BMUzv45pnCE2"
   },
   "outputs": [],
   "source": [
    "# # Making list of columns with similar or complementary content\n",
    "# li_cat_carb = ['sugars_100g', 'starch_100g', 'polyols_100g',\n",
    "#             'fiber_100g', '-lactose_100g']\n",
    "# li_cat_fat = ['saturated-fat_100g', 'monounsaturated-fat_100g',\n",
    "#               'polyunsaturated-fat_100g', 'trans-fat_100g', 'cholesterol_100g']\n",
    "# li_cat_poly_fat = ['omega-3-fat_100g', 'omega-6-fat_100g']\n",
    "# li_cat_comp = ['fat_100g','carbohydrates_100g', 'proteins_100g']\n",
    "# li_cat_vit_oligo = ['vitamin-e_100g', 'vitamin-k_100g',\n",
    "#                     'vitamin-c_100g', 'vitamin-b1_100g', 'vitamin-b2_100g',\n",
    "#                     'vitamin-pp_100g','vitamin-b6_100g', 'vitamin-b9_100g',\n",
    "#                     'folates_100g', 'vitamin-b12_100g', 'biotin_100g',\n",
    "#                     'pantothenic-acid_100g', 'bicarbonate_100g',\n",
    "#                     'potassium_100g', 'chloride_100g', 'calcium_100g',\n",
    "#                     'phosphorus_100g', 'iron_100g', 'magnesium_100g',\n",
    "#                     'zinc_100g', 'copper_100g', 'manganese_100g',\n",
    "#                     'selenium_100g', 'iodine_100g', 'cocoa_100g']\n",
    "# li_cat_nutri = ['nutrigrade', 'nova_group','nutriscore', 'nutriscore-fr']\n",
    "# li_cat_keys = ['code', 'url', 'creator',\n",
    "#                'created_datetime', 'last_modified_datetime', \n",
    "#                'product_name', 'generic_name', 'quantity', 'packaging',\n",
    "#                'brands','serving_size', 'serving_quantity']\n",
    "# li_cat_cat = ['categories', 'categories_en', 'labels', 'labels_en',\n",
    "#               'pnns_gp_1', 'pnns_gp_2', 'main_category',\n",
    "#               'main_category_en']\n",
    "# li_cat_geo = ['origins', 'manufacturing_places', 'emb_codes',\n",
    "#               'first_packaging_code_geo', 'cities_tags', 'purchase_places',\n",
    "#               'stores', 'countries', 'countries_en']\n",
    "# li_ca_content = ['ingredients_text', 'allergens', 'traces', 'traces_en',\n",
    "#                  'additives_n', 'additives_en', 'ingredients_from_palm_oil_n',\n",
    "#                  'ingredients_from_palm_oil_tags',\n",
    "#                  'ingredients_that_may_be_from_palm_oil_n',\n",
    "#                  'ingredients_that_may_be_from_palm_oil_tags']"
   ]
  },
  {
   "cell_type": "code",
   "execution_count": 0,
   "metadata": {
    "colab": {},
    "colab_type": "code",
    "id": "2YuSsNmCgFro"
   },
   "outputs": [],
   "source": [
    "# # Checking if the columns are contained in the df.columns list\n",
    "# for li in [li_cat_carb, li_cat_fat, li_cat_poly_fat, li_cat_comp,\n",
    "#            li_cat_vit_oligo, li_cat_nutri, li_cat_keys, li_cat_cat,\n",
    "#            li_cat_geo, li_ca_content]:\n",
    "#   _ = np.array([True if c in df.columns else False for c in li])\n",
    "#   print(\"----------\\n\", li, \":\\n\", np.sum(_), '/' , len(_), '|', _)"
   ]
  },
  {
   "cell_type": "code",
   "execution_count": 0,
   "metadata": {
    "colab": {},
    "colab_type": "code",
    "id": "NVyxdTZsMWLm"
   },
   "outputs": [],
   "source": [
    "# # Interactive graph to check the number of missing values in available groups\n",
    "# @interact_manual\n",
    "# def show_msno_matrix(col_groups=[li_cat_carb, li_cat_fat, li_cat_poly_fat,\n",
    "#                                  li_cat_comp, li_cat_vit_oligo, li_cat_nutri,\n",
    "#                                  li_cat_keys, li_cat_cat,li_cat_geo,\n",
    "#                                  li_ca_content],\n",
    "#                      color=['b','r', 'g', 'y', 'k', 'p', 'c', 'm' ],\n",
    "#                      plt_type=['msno matrix', 'msno bars', 'msno heatmap']):\n",
    "#   idx_subset = pd.Index(col_groups)\n",
    "#   if plt_type=='msno matrix':\n",
    "#     return msno.matrix(df.loc[:,idx_subset],figsize=(20,5),\n",
    "#                      color=colors.to_rgb(color))\n",
    "#   elif plt_type=='msno bars':\n",
    "#     return msno.bar(df.loc[:,idx_subset],figsize=(20,5),\n",
    "#                      color=colors.to_rgb(color))\n",
    "#   else:\n",
    "#     return msno.heatmap(df.loc[:,idx_subset],figsize=(20,5))"
   ]
  },
  {
   "cell_type": "code",
   "execution_count": 45,
   "metadata": {
    "colab": {
     "base_uri": "https://localhost:8080/",
     "height": 75
    },
    "colab_type": "code",
    "executionInfo": {
     "elapsed": 6373,
     "status": "ok",
     "timestamp": 1587663207890,
     "user": {
      "displayName": "Maryse Muller",
      "photoUrl": "",
      "userId": "13230828717959946182"
     },
     "user_tz": -120
    },
    "id": "vlvfNxnQd_-E",
    "outputId": "9457d097-d8ab-4e67-a108-4109d68146bd"
   },
   "outputs": [
    {
     "data": {
      "text/html": [
       "\n",
       "                <audio controls=\"controls\" autoplay=\"autoplay\">\n",
       "                    <source src=\"data:audio/wav;base64,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\" type=\"audio/wav\" />\n",
       "                    Your browser does not support the audio element.\n",
       "                </audio>\n",
       "              "
      ],
      "text/plain": [
       "<IPython.lib.display.Audio object>"
      ]
     },
     "execution_count": 45,
     "metadata": {
      "tags": []
     },
     "output_type": "execute_result"
    }
   ],
   "source": [
    "speak('Filtered out unimportant columns')"
   ]
  },
  {
   "cell_type": "code",
   "execution_count": 46,
   "metadata": {
    "colab": {
     "base_uri": "https://localhost:8080/",
     "height": 1000
    },
    "colab_type": "code",
    "executionInfo": {
     "elapsed": 29000,
     "status": "ok",
     "timestamp": 1587663230559,
     "user": {
      "displayName": "Maryse Muller",
      "photoUrl": "",
      "userId": "13230828717959946182"
     },
     "user_tz": -120
    },
    "id": "CsNXANpdaoyC",
    "outputId": "92d86a22-d7f8-491e-fe7b-f5c80c3dbacc"
   },
   "outputs": [
    {
     "name": "stdout",
     "output_type": "stream",
     "text": [
      "<class 'pandas.core.frame.DataFrame'>\n",
      "RangeIndex: 1219248 entries, 0 to 1219247\n",
      "Data columns (total 98 columns):\n",
      " #   Column                                      Non-Null Count    Dtype   \n",
      "---  ------                                      --------------    -----   \n",
      " 0   code                                        1219248 non-null  object  \n",
      " 1   url                                         1219248 non-null  object  \n",
      " 2   creator                                     1219244 non-null  category\n",
      " 3   created_datetime                            1219248 non-null  object  \n",
      " 4   last_modified_datetime                      1219248 non-null  object  \n",
      " 5   product_name                                1159421 non-null  object  \n",
      " 6   generic_name                                99460 non-null    category\n",
      " 7   quantity                                    380072 non-null   category\n",
      " 8   packaging                                   212391 non-null   category\n",
      " 9   brands                                      759635 non-null   category\n",
      " 10  origins                                     58912 non-null    category\n",
      " 11  manufacturing_places                        93930 non-null    category\n",
      " 12  labels                                      306649 non-null   category\n",
      " 13  labels_en                                   306688 non-null   category\n",
      " 14  emb_codes                                   75062 non-null    category\n",
      " 15  first_packaging_code_geo                    47712 non-null    category\n",
      " 16  cities_tags                                 51269 non-null    category\n",
      " 17  purchase_places                             132312 non-null   category\n",
      " 18  stores                                      196561 non-null   category\n",
      " 19  countries                                   1217124 non-null  category\n",
      " 20  countries_en                                1217124 non-null  category\n",
      " 21  ingredients_text                            482847 non-null   category\n",
      " 22  allergens                                   103809 non-null   category\n",
      " 23  traces                                      73070 non-null    category\n",
      " 24  traces_en                                   94086 non-null    category\n",
      " 25  serving_size                                294542 non-null   category\n",
      " 26  serving_quantity                            294762 non-null   float32 \n",
      " 27  additives_n                                 482847 non-null   float32 \n",
      " 28  additives_en                                268495 non-null   category\n",
      " 29  ingredients_from_palm_oil_n                 482847 non-null   float32 \n",
      " 30  ingredients_from_palm_oil_tags              12794 non-null    category\n",
      " 31  ingredients_that_may_be_from_palm_oil_n     482847 non-null   float32 \n",
      " 32  ingredients_that_may_be_from_palm_oil_tags  29956 non-null    category\n",
      " 33  brand_owner                                 120061 non-null   category\n",
      " 34  energy-kj_100g                              97109 non-null    float32 \n",
      " 35  energy-kcal_100g                            889132 non-null   float32 \n",
      " 36  energy_100g                                 961845 non-null   float32 \n",
      " 37  energy-from-fat_100g                        962 non-null      float32 \n",
      " 38  fat_100g                                    954270 non-null   float32 \n",
      " 39  saturated-fat_100g                          922913 non-null   float32 \n",
      " 40  pnns_gp_2                                   1218618 non-null  category\n",
      " 41  pnns_gp_1                                   1206218 non-null  category\n",
      " 42  main_category_en                            546038 non-null   category\n",
      " 43  main_category                               546038 non-null   category\n",
      " 44  categories_en                               546038 non-null   category\n",
      " 45  categories                                  546038 non-null   category\n",
      " 46  monounsaturated-fat_100g                    28129 non-null    float32 \n",
      " 47  polyunsaturated-fat_100g                    28185 non-null    float32 \n",
      " 48  omega-3-fat_100g                            1687 non-null     float32 \n",
      " 49  -alpha-linolenic-acid_100g                  341 non-null      float32 \n",
      " 50  omega-6-fat_100g                            398 non-null      float32 \n",
      " 51  trans-fat_100g                              148184 non-null   float32 \n",
      " 52  cholesterol_100g                            148947 non-null   float32 \n",
      " 53  carbohydrates_100g                          954246 non-null   float32 \n",
      " 54  sugars_100g                                 939902 non-null   float32 \n",
      " 55  -lactose_100g                               543 non-null      float32 \n",
      " 56  starch_100g                                 398 non-null      float32 \n",
      " 57  polyols_100g                                1490 non-null     float32 \n",
      " 58  fiber_100g                                  318855 non-null   float32 \n",
      " 59  -soluble-fiber_100g                         2240 non-null     float32 \n",
      " 60  -insoluble-fiber_100g                       2165 non-null     float32 \n",
      " 61  proteins_100g                               955750 non-null   float32 \n",
      " 62  salt_100g                                   940395 non-null   float32 \n",
      " 63  sodium_100g                                 940374 non-null   float32 \n",
      " 64  alcohol_100g                                14725 non-null    float32 \n",
      " 65  vitamin-a_100g                              142383 non-null   float32 \n",
      " 66  vitamin-d_100g                              8807 non-null     float32 \n",
      " 67  vitamin-e_100g                              2779 non-null     float32 \n",
      " 68  vitamin-k_100g                              1044 non-null     float32 \n",
      " 69  vitamin-c_100g                              146373 non-null   float32 \n",
      " 70  vitamin-b1_100g                             14019 non-null    float32 \n",
      " 71  vitamin-b2_100g                             13507 non-null    float32 \n",
      " 72  vitamin-pp_100g                             13968 non-null    float32 \n",
      " 73  vitamin-b6_100g                             9513 non-null     float32 \n",
      " 74  vitamin-b9_100g                             6955 non-null     float32 \n",
      " 75  folates_100g                                5177 non-null     float32 \n",
      " 76  vitamin-b12_100g                            7881 non-null     float32 \n",
      " 77  biotin_100g                                 674 non-null      float32 \n",
      " 78  pantothenic-acid_100g                       3453 non-null     float32 \n",
      " 79  bicarbonate_100g                            327 non-null      float32 \n",
      " 80  potassium_100g                              35189 non-null    float32 \n",
      " 81  chloride_100g                               595 non-null      float32 \n",
      " 82  calcium_100g                                151144 non-null   float32 \n",
      " 83  phosphorus_100g                             8391 non-null     float32 \n",
      " 84  iron_100g                                   147184 non-null   float32 \n",
      " 85  magnesium_100g                              9501 non-null     float32 \n",
      " 86  zinc_100g                                   6062 non-null     float32 \n",
      " 87  copper_100g                                 2416 non-null     float32 \n",
      " 88  manganese_100g                              2072 non-null     float32 \n",
      " 89  selenium_100g                               1406 non-null     float32 \n",
      " 90  iodine_100g                                 962 non-null      float32 \n",
      " 91  ph_100g                                     150 non-null      float32 \n",
      " 92  cocoa_100g                                  5164 non-null     float32 \n",
      " 93  phylloquinone_100g                          504 non-null      float32 \n",
      " 94  nutriscore                                  423433 non-null   float32 \n",
      " 95  nutrigrade                                  423433 non-null   category\n",
      " 96  nova_group                                  391266 non-null   float32 \n",
      " 97  nutriscore-fr                               423442 non-null   float32 \n",
      "dtypes: category(32), float32(61), object(5)\n",
      "memory usage: 1.2 GB\n",
      "None\n"
     ]
    }
   ],
   "source": [
    "print(df.info(memory_usage='deep'))"
   ]
  },
  {
   "cell_type": "code",
   "execution_count": 0,
   "metadata": {
    "colab": {},
    "colab_type": "code",
    "id": "VgslS8HdH3DR"
   },
   "outputs": [],
   "source": [
    "# Exporting the dataframe as CSV for further treatment\n",
    "df.to_csv('OFF_up_to_1_3.csv')"
   ]
  },
  {
   "cell_type": "code",
   "execution_count": 0,
   "metadata": {
    "colab": {},
    "colab_type": "code",
    "id": "GxjE-3JRWBUE"
   },
   "outputs": [],
   "source": [
    "# Exporting dtypes for optimization of memory usage with pandas\n",
    "df_type = (df.dtypes).to_frame()\n",
    "type_to_str = lambda x: re.findall(r'[a-z0-9]+', str(x))[1]\n",
    "d_types = df_type.apply(type_to_str, axis=1).to_dict()"
   ]
  },
  {
   "cell_type": "code",
   "execution_count": 0,
   "metadata": {
    "colab": {},
    "colab_type": "code",
    "id": "t7yljeCNiQkk"
   },
   "outputs": [],
   "source": [
    "with open('d_types.json', 'w') as outfile:\n",
    "    json.dump(d_types, outfile)"
   ]
  },
  {
   "cell_type": "code",
   "execution_count": 0,
   "metadata": {
    "colab": {},
    "colab_type": "code",
    "id": "klTezx63cbjR"
   },
   "outputs": [],
   "source": [
    "!pip freeze > requirements.txt"
   ]
  },
  {
   "cell_type": "code",
   "execution_count": 51,
   "metadata": {
    "colab": {
     "base_uri": "https://localhost:8080/",
     "height": 75
    },
    "colab_type": "code",
    "executionInfo": {
     "elapsed": 881,
     "status": "ok",
     "timestamp": 1587663317048,
     "user": {
      "displayName": "Maryse Muller",
      "photoUrl": "",
      "userId": "13230828717959946182"
     },
     "user_tz": -120
    },
    "id": "h8vwOCB-G1IZ",
    "outputId": "5c83e5f0-f48f-47cd-e824-99b2d7e23799"
   },
   "outputs": [
    {
     "data": {
      "text/html": [
       "\n",
       "                <audio controls=\"controls\" autoplay=\"autoplay\">\n",
       "                    <source src=\"data:audio/wav;base64,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\" type=\"audio/wav\" />\n",
       "                    Your browser does not support the audio element.\n",
       "                </audio>\n",
       "              "
      ],
      "text/plain": [
       "<IPython.lib.display.Audio object>"
      ]
     },
     "execution_count": 51,
     "metadata": {
      "tags": []
     },
     "output_type": "execute_result"
    }
   ],
   "source": [
    "speak('all exportations done')"
   ]
  }
 ],
 "metadata": {
  "accelerator": "GPU",
  "colab": {
   "collapsed_sections": [],
   "machine_shape": "hm",
   "name": "P3_Cleaning_1.ipynb",
   "provenance": [
    {
     "file_id": "1qAxkvKD2odWAQUnotM2Dwijh45Ko0iCO",
     "timestamp": 1587461379791
    },
    {
     "file_id": "1wX6ZnTUKkvXaWwnL6E51NNuJkxEdSK-h",
     "timestamp": 1582132452639
    },
    {
     "file_id": "144JCi9-nMiX9eD3AccG2sgaTbug2wQTa",
     "timestamp": 1581758429991
    },
    {
     "file_id": "1kRjoSOVhLf1GbPOY6C2MGdpHdjUsJGe1",
     "timestamp": 1581430098593
    },
    {
     "file_id": "1SzuDOE2ejfYYNHpdu1hTrvQZd5phpvyP",
     "timestamp": 1581092731309
    },
    {
     "file_id": "1NHY7TNgChDa8i5eggkSxZV133o6RB2pP",
     "timestamp": 1580472396109
    },
    {
     "file_id": "1CjFqLqI3e83aWkErpy2_tDoqWWSc5V7K",
     "timestamp": 1567509524556
    },
    {
     "file_id": "1oFtNqY9sTtyX09HnsLY5GOpchE7TWSLc",
     "timestamp": 1567440734485
    },
    {
     "file_id": "1kO3qnFJ8XAhA2WzueAy6Gwr0KwfoSF2z",
     "timestamp": 1566893631574
    },
    {
     "file_id": "1rI7P6dn7-IGK6p8HX7dvNP93roGSzXeX",
     "timestamp": 1566833630097
    },
    {
     "file_id": "1cAbXwtjxfOIVmnecCFlHrVryskoYJCXA",
     "timestamp": 1566734390006
    },
    {
     "file_id": "https://github.com/SmellyArmure/PROJECT3/blob/master/NOTEBOOKS/P3_Cleaning_v1_0.ipynb",
     "timestamp": 1566726579304
    }
   ]
  },
  "kernelspec": {
   "display_name": "Python 3",
   "language": "python",
   "name": "python3"
  },
  "language_info": {
   "codemirror_mode": {
    "name": "ipython",
    "version": 3
   },
   "file_extension": ".py",
   "mimetype": "text/x-python",
   "name": "python",
   "nbconvert_exporter": "python",
   "pygments_lexer": "ipython3",
   "version": "3.7.3"
  },
  "widgets": {
   "application/vnd.jupyter.widget-state+json": {
    "0063a30ee7fd45d3b6cfb003c9678b22": {
     "model_module": "@jupyter-widgets/controls",
     "model_name": "ButtonModel",
     "state": {
      "_dom_classes": [],
      "_model_module": "@jupyter-widgets/controls",
      "_model_module_version": "1.5.0",
      "_model_name": "ButtonModel",
      "_view_count": null,
      "_view_module": "@jupyter-widgets/controls",
      "_view_module_version": "1.5.0",
      "_view_name": "ButtonView",
      "button_style": "",
      "description": "Run Interact",
      "disabled": false,
      "icon": "",
      "layout": "IPY_MODEL_93b3e779f0d1409aae8799aee8138217",
      "style": "IPY_MODEL_4e326f21c3484b13866ff6a5f89685d4",
      "tooltip": ""
     }
    },
    "44402d2cb33746dc935e0f853711436a": {
     "model_module": "@jupyter-widgets/base",
     "model_name": "LayoutModel",
     "state": {
      "_model_module": "@jupyter-widgets/base",
      "_model_module_version": "1.2.0",
      "_model_name": "LayoutModel",
      "_view_count": null,
      "_view_module": "@jupyter-widgets/base",
      "_view_module_version": "1.2.0",
      "_view_name": "LayoutView",
      "align_content": null,
      "align_items": null,
      "align_self": null,
      "border": null,
      "bottom": null,
      "display": null,
      "flex": null,
      "flex_flow": null,
      "grid_area": null,
      "grid_auto_columns": null,
      "grid_auto_flow": null,
      "grid_auto_rows": null,
      "grid_column": null,
      "grid_gap": null,
      "grid_row": null,
      "grid_template_areas": null,
      "grid_template_columns": null,
      "grid_template_rows": null,
      "height": null,
      "justify_content": null,
      "justify_items": null,
      "left": null,
      "margin": null,
      "max_height": null,
      "max_width": null,
      "min_height": null,
      "min_width": null,
      "object_fit": null,
      "object_position": null,
      "order": null,
      "overflow": null,
      "overflow_x": null,
      "overflow_y": null,
      "padding": null,
      "right": null,
      "top": null,
      "visibility": null,
      "width": null
     }
    },
    "4e326f21c3484b13866ff6a5f89685d4": {
     "model_module": "@jupyter-widgets/controls",
     "model_name": "ButtonStyleModel",
     "state": {
      "_model_module": "@jupyter-widgets/controls",
      "_model_module_version": "1.5.0",
      "_model_name": "ButtonStyleModel",
      "_view_count": null,
      "_view_module": "@jupyter-widgets/base",
      "_view_module_version": "1.2.0",
      "_view_name": "StyleView",
      "button_color": null,
      "font_weight": ""
     }
    },
    "621fc907fc6c4962965164cd8d340239": {
     "model_module": "@jupyter-widgets/base",
     "model_name": "LayoutModel",
     "state": {
      "_model_module": "@jupyter-widgets/base",
      "_model_module_version": "1.2.0",
      "_model_name": "LayoutModel",
      "_view_count": null,
      "_view_module": "@jupyter-widgets/base",
      "_view_module_version": "1.2.0",
      "_view_name": "LayoutView",
      "align_content": null,
      "align_items": null,
      "align_self": null,
      "border": null,
      "bottom": null,
      "display": null,
      "flex": null,
      "flex_flow": null,
      "grid_area": null,
      "grid_auto_columns": null,
      "grid_auto_flow": null,
      "grid_auto_rows": null,
      "grid_column": null,
      "grid_gap": null,
      "grid_row": null,
      "grid_template_areas": null,
      "grid_template_columns": null,
      "grid_template_rows": null,
      "height": null,
      "justify_content": null,
      "justify_items": null,
      "left": null,
      "margin": null,
      "max_height": null,
      "max_width": null,
      "min_height": null,
      "min_width": null,
      "object_fit": null,
      "object_position": null,
      "order": null,
      "overflow": null,
      "overflow_x": null,
      "overflow_y": null,
      "padding": null,
      "right": null,
      "top": null,
      "visibility": null,
      "width": null
     }
    },
    "7e28fb95c7174b09b5141c4cd982cc0f": {
     "model_module": "@jupyter-widgets/base",
     "model_name": "LayoutModel",
     "state": {
      "_model_module": "@jupyter-widgets/base",
      "_model_module_version": "1.2.0",
      "_model_name": "LayoutModel",
      "_view_count": null,
      "_view_module": "@jupyter-widgets/base",
      "_view_module_version": "1.2.0",
      "_view_name": "LayoutView",
      "align_content": null,
      "align_items": null,
      "align_self": null,
      "border": null,
      "bottom": null,
      "display": null,
      "flex": null,
      "flex_flow": null,
      "grid_area": null,
      "grid_auto_columns": null,
      "grid_auto_flow": null,
      "grid_auto_rows": null,
      "grid_column": null,
      "grid_gap": null,
      "grid_row": null,
      "grid_template_areas": null,
      "grid_template_columns": null,
      "grid_template_rows": null,
      "height": null,
      "justify_content": null,
      "justify_items": null,
      "left": null,
      "margin": null,
      "max_height": null,
      "max_width": null,
      "min_height": null,
      "min_width": null,
      "object_fit": null,
      "object_position": null,
      "order": null,
      "overflow": null,
      "overflow_x": null,
      "overflow_y": null,
      "padding": null,
      "right": null,
      "top": null,
      "visibility": null,
      "width": null
     }
    },
    "83a4acae68de402bab8bfadb33f3531b": {
     "model_module": "@jupyter-widgets/controls",
     "model_name": "SliderStyleModel",
     "state": {
      "_model_module": "@jupyter-widgets/controls",
      "_model_module_version": "1.5.0",
      "_model_name": "SliderStyleModel",
      "_view_count": null,
      "_view_module": "@jupyter-widgets/base",
      "_view_module_version": "1.2.0",
      "_view_name": "StyleView",
      "description_width": "",
      "handle_color": null
     }
    },
    "9352f5975d1f4448a558571eaf9694a9": {
     "model_module": "@jupyter-widgets/output",
     "model_name": "OutputModel",
     "state": {
      "_dom_classes": [],
      "_model_module": "@jupyter-widgets/output",
      "_model_module_version": "1.0.0",
      "_model_name": "OutputModel",
      "_view_count": null,
      "_view_module": "@jupyter-widgets/output",
      "_view_module_version": "1.0.0",
      "_view_name": "OutputView",
      "layout": "IPY_MODEL_dcff2288ba26404a8fe6bce63847af82",
      "msg_id": "",
      "outputs": [
       {
        "metadata": {
         "tags": []
        },
        "output_type": "stream",
        "stream": "stdout",
        "text": "nb rows both filled:  212391\nnb rows with only packaging filled:  0\nnb rows with only packaging_tags filled:  2\nnb rows not filled:  1006855\n"
       },
       {
        "metadata": {
         "tags": []
        },
        "output_type": "display_data",
        "text/html": "<table style=\"display:inline\" border=\"1\" class=\"dataframe\">\n  <thead>\n    <tr style=\"text-align: right;\">\n      <th></th>\n      <th>packaging</th>\n      <th>packaging_tags</th>\n    </tr>\n  </thead>\n  <tbody>\n  </tbody>\n</table style=\"display:inline\"><table style=\"display:inline\" border=\"1\" class=\"dataframe\">\n  <thead>\n    <tr style=\"text-align: right;\">\n      <th></th>\n      <th>packaging</th>\n      <th>packaging_tags</th>\n    </tr>\n  </thead>\n  <tbody>\n    <tr>\n      <th>278782</th>\n      <td>NaN</td>\n      <td>n-a</td>\n    </tr>\n    <tr>\n      <th>1214893</th>\n      <td>NaN</td>\n      <td>n-a</td>\n    </tr>\n  </tbody>\n</table style=\"display:inline\"><table style=\"display:inline\" border=\"1\" class=\"dataframe\">\n  <thead>\n    <tr style=\"text-align: right;\">\n      <th></th>\n      <th>packaging</th>\n      <th>packaging_tags</th>\n    </tr>\n  </thead>\n  <tbody>\n    <tr>\n      <th>443880</th>\n      <td>Frais</td>\n      <td>frais</td>\n    </tr>\n    <tr>\n      <th>795360</th>\n      <td>Kunststoff,Tüte</td>\n      <td>kunststoff,tute</td>\n    </tr>\n    <tr>\n      <th>409093</th>\n      <td>Barquette,plastique</td>\n      <td>barquette,plastique</td>\n    </tr>\n    <tr>\n      <th>916653</th>\n      <td>Plastic</td>\n      <td>plastic</td>\n    </tr>\n    <tr>\n      <th>1216622</th>\n      <td>bouteille 70cl</td>\n      <td>bouteille-70cl</td>\n    </tr>\n  </tbody>\n</table style=\"display:inline\">"
       }
      ]
     }
    },
    "93b3e779f0d1409aae8799aee8138217": {
     "model_module": "@jupyter-widgets/base",
     "model_name": "LayoutModel",
     "state": {
      "_model_module": "@jupyter-widgets/base",
      "_model_module_version": "1.2.0",
      "_model_name": "LayoutModel",
      "_view_count": null,
      "_view_module": "@jupyter-widgets/base",
      "_view_module_version": "1.2.0",
      "_view_name": "LayoutView",
      "align_content": null,
      "align_items": null,
      "align_self": null,
      "border": null,
      "bottom": null,
      "display": null,
      "flex": null,
      "flex_flow": null,
      "grid_area": null,
      "grid_auto_columns": null,
      "grid_auto_flow": null,
      "grid_auto_rows": null,
      "grid_column": null,
      "grid_gap": null,
      "grid_row": null,
      "grid_template_areas": null,
      "grid_template_columns": null,
      "grid_template_rows": null,
      "height": null,
      "justify_content": null,
      "justify_items": null,
      "left": null,
      "margin": null,
      "max_height": null,
      "max_width": null,
      "min_height": null,
      "min_width": null,
      "object_fit": null,
      "object_position": null,
      "order": null,
      "overflow": null,
      "overflow_x": null,
      "overflow_y": null,
      "padding": null,
      "right": null,
      "top": null,
      "visibility": null,
      "width": null
     }
    },
    "96da94281a634c3398e2f7653069ae01": {
     "model_module": "@jupyter-widgets/controls",
     "model_name": "DropdownModel",
     "state": {
      "_dom_classes": [],
      "_model_module": "@jupyter-widgets/controls",
      "_model_module_version": "1.5.0",
      "_model_name": "DropdownModel",
      "_options_labels": [
       "packaging",
       "brands",
       "categories",
       "origins",
       "manufacturing_places",
       "labels",
       "emb_codes",
       "countries",
       "traces"
      ],
      "_view_count": null,
      "_view_module": "@jupyter-widgets/controls",
      "_view_module_version": "1.5.0",
      "_view_name": "DropdownView",
      "description": "col",
      "description_tooltip": null,
      "disabled": false,
      "index": 0,
      "layout": "IPY_MODEL_d5f17e198927419aa0b23692fc0f283e",
      "style": "IPY_MODEL_b16d9f1cd53949319ab4017beca3e33c"
     }
    },
    "a9423e638b77410aa39aed15a28dbfd8": {
     "model_module": "@jupyter-widgets/output",
     "model_name": "OutputModel",
     "state": {
      "_dom_classes": [],
      "_model_module": "@jupyter-widgets/output",
      "_model_module_version": "1.0.0",
      "_model_name": "OutputModel",
      "_view_count": null,
      "_view_module": "@jupyter-widgets/output",
      "_view_module_version": "1.0.0",
      "_view_name": "OutputView",
      "layout": "IPY_MODEL_7e28fb95c7174b09b5141c4cd982cc0f",
      "msg_id": "",
      "outputs": []
     }
    },
    "aac29331c8854594a699d1a282959c4d": {
     "model_module": "@jupyter-widgets/controls",
     "model_name": "VBoxModel",
     "state": {
      "_dom_classes": [
       "widget-interact"
      ],
      "_model_module": "@jupyter-widgets/controls",
      "_model_module_version": "1.5.0",
      "_model_name": "VBoxModel",
      "_view_count": null,
      "_view_module": "@jupyter-widgets/controls",
      "_view_module_version": "1.5.0",
      "_view_name": "VBoxView",
      "box_style": "",
      "children": [
       "IPY_MODEL_e90cb4879bb8417986e93b3424f8fa18",
       "IPY_MODEL_0063a30ee7fd45d3b6cfb003c9678b22",
       "IPY_MODEL_a9423e638b77410aa39aed15a28dbfd8"
      ],
      "layout": "IPY_MODEL_44402d2cb33746dc935e0f853711436a"
     }
    },
    "b16d9f1cd53949319ab4017beca3e33c": {
     "model_module": "@jupyter-widgets/controls",
     "model_name": "DescriptionStyleModel",
     "state": {
      "_model_module": "@jupyter-widgets/controls",
      "_model_module_version": "1.5.0",
      "_model_name": "DescriptionStyleModel",
      "_view_count": null,
      "_view_module": "@jupyter-widgets/base",
      "_view_module_version": "1.2.0",
      "_view_name": "StyleView",
      "description_width": ""
     }
    },
    "c0b71f15a71540cc96aeec9ab03ac1d0": {
     "model_module": "@jupyter-widgets/controls",
     "model_name": "VBoxModel",
     "state": {
      "_dom_classes": [
       "widget-interact"
      ],
      "_model_module": "@jupyter-widgets/controls",
      "_model_module_version": "1.5.0",
      "_model_name": "VBoxModel",
      "_view_count": null,
      "_view_module": "@jupyter-widgets/controls",
      "_view_module_version": "1.5.0",
      "_view_name": "VBoxView",
      "box_style": "",
      "children": [
       "IPY_MODEL_96da94281a634c3398e2f7653069ae01",
       "IPY_MODEL_9352f5975d1f4448a558571eaf9694a9"
      ],
      "layout": "IPY_MODEL_621fc907fc6c4962965164cd8d340239"
     }
    },
    "d5f17e198927419aa0b23692fc0f283e": {
     "model_module": "@jupyter-widgets/base",
     "model_name": "LayoutModel",
     "state": {
      "_model_module": "@jupyter-widgets/base",
      "_model_module_version": "1.2.0",
      "_model_name": "LayoutModel",
      "_view_count": null,
      "_view_module": "@jupyter-widgets/base",
      "_view_module_version": "1.2.0",
      "_view_name": "LayoutView",
      "align_content": null,
      "align_items": null,
      "align_self": null,
      "border": null,
      "bottom": null,
      "display": null,
      "flex": null,
      "flex_flow": null,
      "grid_area": null,
      "grid_auto_columns": null,
      "grid_auto_flow": null,
      "grid_auto_rows": null,
      "grid_column": null,
      "grid_gap": null,
      "grid_row": null,
      "grid_template_areas": null,
      "grid_template_columns": null,
      "grid_template_rows": null,
      "height": null,
      "justify_content": null,
      "justify_items": null,
      "left": null,
      "margin": null,
      "max_height": null,
      "max_width": null,
      "min_height": null,
      "min_width": null,
      "object_fit": null,
      "object_position": null,
      "order": null,
      "overflow": null,
      "overflow_x": null,
      "overflow_y": null,
      "padding": null,
      "right": null,
      "top": null,
      "visibility": null,
      "width": null
     }
    },
    "dcff2288ba26404a8fe6bce63847af82": {
     "model_module": "@jupyter-widgets/base",
     "model_name": "LayoutModel",
     "state": {
      "_model_module": "@jupyter-widgets/base",
      "_model_module_version": "1.2.0",
      "_model_name": "LayoutModel",
      "_view_count": null,
      "_view_module": "@jupyter-widgets/base",
      "_view_module_version": "1.2.0",
      "_view_name": "LayoutView",
      "align_content": null,
      "align_items": null,
      "align_self": null,
      "border": null,
      "bottom": null,
      "display": null,
      "flex": null,
      "flex_flow": null,
      "grid_area": null,
      "grid_auto_columns": null,
      "grid_auto_flow": null,
      "grid_auto_rows": null,
      "grid_column": null,
      "grid_gap": null,
      "grid_row": null,
      "grid_template_areas": null,
      "grid_template_columns": null,
      "grid_template_rows": null,
      "height": null,
      "justify_content": null,
      "justify_items": null,
      "left": null,
      "margin": null,
      "max_height": null,
      "max_width": null,
      "min_height": null,
      "min_width": null,
      "object_fit": null,
      "object_position": null,
      "order": null,
      "overflow": null,
      "overflow_x": null,
      "overflow_y": null,
      "padding": null,
      "right": null,
      "top": null,
      "visibility": null,
      "width": null
     }
    },
    "e90cb4879bb8417986e93b3424f8fa18": {
     "model_module": "@jupyter-widgets/controls",
     "model_name": "IntSliderModel",
     "state": {
      "_dom_classes": [],
      "_model_module": "@jupyter-widgets/controls",
      "_model_module_version": "1.5.0",
      "_model_name": "IntSliderModel",
      "_view_count": null,
      "_view_module": "@jupyter-widgets/controls",
      "_view_module_version": "1.5.0",
      "_view_name": "IntSliderView",
      "continuous_update": true,
      "description": "n",
      "description_tooltip": null,
      "disabled": false,
      "layout": "IPY_MODEL_fbed1ea73d9740dd845c8316c95be65f",
      "max": 1000,
      "min": 1,
      "orientation": "horizontal",
      "readout": true,
      "readout_format": "d",
      "step": 50,
      "style": "IPY_MODEL_83a4acae68de402bab8bfadb33f3531b",
      "value": 451
     }
    },
    "fbed1ea73d9740dd845c8316c95be65f": {
     "model_module": "@jupyter-widgets/base",
     "model_name": "LayoutModel",
     "state": {
      "_model_module": "@jupyter-widgets/base",
      "_model_module_version": "1.2.0",
      "_model_name": "LayoutModel",
      "_view_count": null,
      "_view_module": "@jupyter-widgets/base",
      "_view_module_version": "1.2.0",
      "_view_name": "LayoutView",
      "align_content": null,
      "align_items": null,
      "align_self": null,
      "border": null,
      "bottom": null,
      "display": null,
      "flex": null,
      "flex_flow": null,
      "grid_area": null,
      "grid_auto_columns": null,
      "grid_auto_flow": null,
      "grid_auto_rows": null,
      "grid_column": null,
      "grid_gap": null,
      "grid_row": null,
      "grid_template_areas": null,
      "grid_template_columns": null,
      "grid_template_rows": null,
      "height": null,
      "justify_content": null,
      "justify_items": null,
      "left": null,
      "margin": null,
      "max_height": null,
      "max_width": null,
      "min_height": null,
      "min_width": null,
      "object_fit": null,
      "object_position": null,
      "order": null,
      "overflow": null,
      "overflow_x": null,
      "overflow_y": null,
      "padding": null,
      "right": null,
      "top": null,
      "visibility": null,
      "width": null
     }
    }
   }
  }
 },
 "nbformat": 4,
 "nbformat_minor": 1
}
